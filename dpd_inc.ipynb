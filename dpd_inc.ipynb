{
 "cells": [
  {
   "cell_type": "code",
   "execution_count": 229,
   "id": "5e45af51-082c-40d2-b78b-a29897c22cf4",
   "metadata": {},
   "outputs": [
    {
     "name": "stderr",
     "output_type": "stream",
     "text": [
      "25/07/09 18:14:54 WARN SparkSession: Using an existing Spark session; only runtime SQL configurations will take effect.\n"
     ]
    }
   ],
   "source": [
    "from pyspark.sql import SparkSession\n",
    "from pyspark.sql.functions import col, lit, date_format, expr, floor, to_date,date_sub,trunc, month\n",
    "from pyspark.sql.types import IntegerType\n",
    "from datetime import date\n",
    "import pyspark.sql.functions as F\n",
    "from dateutil.relativedelta import relativedelta\n",
    "import datetime\n",
    "import time\n",
    "from pyspark.sql import Window\n",
    "\n",
    "spark = SparkSession.builder.appName('Ascend')\\\n",
    "                            .config(\"spark.jars\", \"/opt/spark/jars/hadoop-aws-3.3.4.jar,/opt/spark/jars/aws-java-sdk-bundle-1.12.262.jar\")\\\n",
    "                            .config(\"spark.hadoop.fs.s3a.endpoint\", \"http://minio:9000\")\\\n",
    "                            .config(\"spark.hadoop.fs.s3a.access.key\", \"admin\")\\\n",
    "                            .config(\"spark.hadoop.fs.s3a.secret.key\", \"password\")\\\n",
    "                            .config(\"spark.hadoop.fs.s3a.path.style.access\", \"true\")\\\n",
    "                            .config(\"spark.hadoop.fs.s3a.impl\", \"org.apache.hadoop.fs.s3a.S3AFileSystem\")\\\n",
    "                            .config(\"spark.hadoop.fs.s3a.connection.ssl.enabled\", \"false\")\\\n",
    "                            .config(\"spark.sql.adaptive.enabled\", \"true\")\\\n",
    "                            .config(\"spark.sql.adaptive.skewJoin.enabled\", \"true\")\\\n",
    "                            .config(\"spark.sql.adaptive.localShuffleReader.enabled\", \"true\")\\\n",
    "                            .config(\"spark.sql.optimizer.dynamicPartitionPruning.enabled\", \"true\")\\\n",
    "                            .getOrCreate()\n",
    "\n",
    "spark.sparkContext.setLogLevel(\"WARN\")"
   ]
  },
  {
   "cell_type": "code",
   "execution_count": 213,
   "id": "05f9d777-d91d-41f6-bc1e-28432dd99534",
   "metadata": {},
   "outputs": [
    {
     "name": "stderr",
     "output_type": "stream",
     "text": [
      "25/07/09 18:09:54 WARN SparkSession: Using an existing Spark session; only runtime SQL configurations will take effect.\n"
     ]
    },
    {
     "data": {
      "text/html": [
       "<table>\n",
       "    <thead>\n",
       "        <tr>\n",
       "            <th>namespace</th>\n",
       "            <th>tableName</th>\n",
       "            <th>isTemporary</th>\n",
       "        </tr>\n",
       "    </thead>\n",
       "    <tbody>\n",
       "    </tbody>\n",
       "</table>"
      ],
      "text/plain": [
       "+-----------+-----------+-------------+\n",
       "| namespace | tableName | isTemporary |\n",
       "+-----------+-----------+-------------+\n",
       "+-----------+-----------+-------------+"
      ]
     },
     "execution_count": 213,
     "metadata": {},
     "output_type": "execute_result"
    }
   ],
   "source": [
    "%%sql\n",
    "show tables in ascenddb2;"
   ]
  },
  {
   "cell_type": "code",
   "execution_count": 9,
   "id": "a7f185d6-22e3-4727-8ec5-f5afef8650a5",
   "metadata": {},
   "outputs": [
    {
     "data": {
      "text/html": [
       "<table>\n",
       "    <thead>\n",
       "        <tr>\n",
       "        </tr>\n",
       "    </thead>\n",
       "    <tbody>\n",
       "    </tbody>\n",
       "</table>"
      ],
      "text/plain": [
       "++\n",
       "||\n",
       "++\n",
       "++"
      ]
     },
     "execution_count": 9,
     "metadata": {},
     "output_type": "execute_result"
    }
   ],
   "source": [
    "%%sql\n",
    "create database if not exists ascenddb2;"
   ]
  },
  {
   "cell_type": "code",
   "execution_count": 214,
   "id": "f8e800b3-1e9a-4f82-98af-b5de259ca83d",
   "metadata": {},
   "outputs": [
    {
     "data": {
      "text/html": [
       "<table>\n",
       "    <thead>\n",
       "        <tr>\n",
       "        </tr>\n",
       "    </thead>\n",
       "    <tbody>\n",
       "    </tbody>\n",
       "</table>"
      ],
      "text/plain": [
       "++\n",
       "||\n",
       "++\n",
       "++"
      ]
     },
     "execution_count": 214,
     "metadata": {},
     "output_type": "execute_result"
    }
   ],
   "source": [
    "%%sql\n",
    "create table if not exists ascenddb2.dpd_data (\n",
    "    CONS_ACCT_KEY INT,\n",
    "    ACCT_DT DATE,\n",
    "    DPD INT\n",
    "    )\n",
    "USING ICEBERG\n",
    "PARTITIONED BY (months(ACCT_DT));"
   ]
  },
  {
   "cell_type": "code",
   "execution_count": 215,
   "id": "9854b95c-f904-4cbd-9413-97890b8d33ff",
   "metadata": {},
   "outputs": [
    {
     "data": {
      "text/html": [
       "<table>\n",
       "    <thead>\n",
       "        <tr>\n",
       "            <th>CONS_ACCT_KEY</th>\n",
       "            <th>ACCT_DT</th>\n",
       "            <th>DPD</th>\n",
       "        </tr>\n",
       "    </thead>\n",
       "    <tbody>\n",
       "    </tbody>\n",
       "</table>"
      ],
      "text/plain": [
       "+---------------+---------+-----+\n",
       "| CONS_ACCT_KEY | ACCT_DT | DPD |\n",
       "+---------------+---------+-----+\n",
       "+---------------+---------+-----+"
      ]
     },
     "execution_count": 215,
     "metadata": {},
     "output_type": "execute_result"
    }
   ],
   "source": [
    "%%sql\n",
    "SELECT * from ascenddb2.dpd_data;"
   ]
  },
  {
   "cell_type": "code",
   "execution_count": 210,
   "id": "be502239-2663-4122-b46b-b1bd0f5faf71",
   "metadata": {},
   "outputs": [
    {
     "data": {
      "text/html": [
       "<table>\n",
       "    <thead>\n",
       "        <tr>\n",
       "        </tr>\n",
       "    </thead>\n",
       "    <tbody>\n",
       "    </tbody>\n",
       "</table>"
      ],
      "text/plain": [
       "++\n",
       "||\n",
       "++\n",
       "++"
      ]
     },
     "execution_count": 210,
     "metadata": {},
     "output_type": "execute_result"
    }
   ],
   "source": [
    "%%sql\n",
    "DROP TABLE ascenddb2.dpd_data;"
   ]
  },
  {
   "cell_type": "code",
   "execution_count": 216,
   "id": "a64fd278-3e84-407b-a985-fb00cd6911a0",
   "metadata": {},
   "outputs": [
    {
     "data": {
      "text/html": [
       "<table>\n",
       "    <thead>\n",
       "        <tr>\n",
       "            <th>col_name</th>\n",
       "            <th>data_type</th>\n",
       "            <th>comment</th>\n",
       "        </tr>\n",
       "    </thead>\n",
       "    <tbody>\n",
       "        <tr>\n",
       "            <td>CONS_ACCT_KEY</td>\n",
       "            <td>int</td>\n",
       "            <td>None</td>\n",
       "        </tr>\n",
       "        <tr>\n",
       "            <td>ACCT_DT</td>\n",
       "            <td>date</td>\n",
       "            <td>None</td>\n",
       "        </tr>\n",
       "        <tr>\n",
       "            <td>DPD</td>\n",
       "            <td>int</td>\n",
       "            <td>None</td>\n",
       "        </tr>\n",
       "        <tr>\n",
       "            <td></td>\n",
       "            <td></td>\n",
       "            <td></td>\n",
       "        </tr>\n",
       "        <tr>\n",
       "            <td># Partitioning</td>\n",
       "            <td></td>\n",
       "            <td></td>\n",
       "        </tr>\n",
       "        <tr>\n",
       "            <td>Part 0</td>\n",
       "            <td>months(ACCT_DT)</td>\n",
       "            <td></td>\n",
       "        </tr>\n",
       "    </tbody>\n",
       "</table>"
      ],
      "text/plain": [
       "+----------------+-----------------+---------+\n",
       "|       col_name |       data_type | comment |\n",
       "+----------------+-----------------+---------+\n",
       "|  CONS_ACCT_KEY |             int |    None |\n",
       "|        ACCT_DT |            date |    None |\n",
       "|            DPD |             int |    None |\n",
       "|                |                 |         |\n",
       "| # Partitioning |                 |         |\n",
       "|         Part 0 | months(ACCT_DT) |         |\n",
       "+----------------+-----------------+---------+"
      ]
     },
     "execution_count": 216,
     "metadata": {},
     "output_type": "execute_result"
    }
   ],
   "source": [
    "%%sql\n",
    "DESCRIBE ascenddb2.dpd_data;"
   ]
  },
  {
   "cell_type": "markdown",
   "id": "f355ac00-0287-4130-8dc1-556e60c2e4c2",
   "metadata": {},
   "source": [
    "### Creation of Dummy Data For Processing"
   ]
  },
  {
   "cell_type": "code",
   "execution_count": 217,
   "id": "2d55bfc7-1720-4aac-bff2-65a57bf0445c",
   "metadata": {},
   "outputs": [
    {
     "name": "stderr",
     "output_type": "stream",
     "text": [
      "                                                                                \r"
     ]
    },
    {
     "name": "stdout",
     "output_type": "stream",
     "text": [
      "Expected Unique Keys: 12000000\n"
     ]
    },
    {
     "name": "stderr",
     "output_type": "stream",
     "text": [
      "                                                                                \r"
     ]
    },
    {
     "name": "stdout",
     "output_type": "stream",
     "text": [
      "Existing Partitions: 6\n",
      "root\n",
      " |-- CONS_ACCT_KEY: integer (nullable = true)\n",
      " |-- ACCT_DT: date (nullable = true)\n",
      " |-- DPD: integer (nullable = true)\n",
      "\n"
     ]
    },
    {
     "name": "stderr",
     "output_type": "stream",
     "text": [
      "                                                                                \r"
     ]
    },
    {
     "name": "stdout",
     "output_type": "stream",
     "text": [
      "== Physical Plan ==\n",
      "AdaptiveSparkPlan isFinalPlan=false\n",
      "+- Project [CONS_ACCT_KEY#11765, cast(gettimestamp(ACCT_DT#11773, MM/dd/yyyy, TimestampType, Some(Etc/UTC), false) as date) AS ACCT_DT#11797, (((CONS_ACCT_KEY#11765 + month_index#11768) % 100) + 1) AS DPD#11780]\n",
      "   +- SortMergeJoin [cast(month_index#11768 as bigint)], [month_index#11772L], LeftOuter\n",
      "      :- Sort [cast(month_index#11768 as bigint) ASC NULLS FIRST], false, 0\n",
      "      :  +- Exchange hashpartitioning(cast(month_index#11768 as bigint), 200), ENSURE_REQUIREMENTS, [plan_id=33924]\n",
      "      :     +- Project [(cast((cast(id#11763L as double) / 240.0) as int) + 1) AS CONS_ACCT_KEY#11765, cast((id#11763L % 240) as int) AS month_index#11768]\n",
      "      :        +- Range (0, 12000000, step=1, splits=6)\n",
      "      +- Sort [month_index#11772L ASC NULLS FIRST], false, 0\n",
      "         +- Exchange hashpartitioning(month_index#11772L, 200), ENSURE_REQUIREMENTS, [plan_id=33925]\n",
      "            +- Filter isnotnull(month_index#11772L)\n",
      "               +- Scan ExistingRDD[month_index#11772L,ACCT_DT#11773]\n",
      "\n",
      "\n",
      "Data generated and saved to dpd_data\n",
      "CPU times: user 77.6 ms, sys: 34.8 ms, total: 112 ms\n",
      "Wall time: 23.3 s\n"
     ]
    }
   ],
   "source": [
    "%%time\n",
    "# Parameters\n",
    "num_accounts = 50000\n",
    "# months_needed = 335  # e.g., 10 years\n",
    "months_needed = 240  # e.g., 10 years\n",
    "total_records = num_accounts * months_needed\n",
    "\n",
    "# Step 1: Create DataFrame for all combinations\n",
    "df = spark.range(0, total_records)\n",
    "\n",
    "# Step 2: Generate account keys and month indices\n",
    "df = df.withColumn(\"CONS_ACCT_KEY\", (col(\"id\") / months_needed).cast(\"int\") + 1) \\\n",
    "       .withColumn(\"month_index\", (col(\"id\") % months_needed).cast(\"int\"))\n",
    "\n",
    "# Step 3: Generate date for each month (15th of month starting from Jan 2025)\n",
    "start_date = datetime.date(1998, 1, 15)\n",
    "dates = [start_date + relativedelta(months=i) for i in range(months_needed)]\n",
    "date_map = spark.createDataFrame([(i, d.strftime(\"%m/%d/%Y\")) for i, d in enumerate(dates)],\n",
    "                                 [\"month_index\", \"ACCT_DT\"])\n",
    "\n",
    "# Step 4: Join to get ACCT_DT\n",
    "df = df.join(date_map, on=\"month_index\", how=\"left\")\n",
    "\n",
    "# Step 5: Add DPD (random or deterministic)\n",
    "df = df.withColumn(\"DPD\", ((col(\"CONS_ACCT_KEY\") + col(\"month_index\")) % 100 + 1))\n",
    "\n",
    "# Final selection\n",
    "df = df.select(\"CONS_ACCT_KEY\", \"ACCT_DT\", \"DPD\")\n",
    "\n",
    "# ✅ Verify uniqueness\n",
    "print(\"Expected Unique Keys:\", df.count())\n",
    "# print(\"Distinct (CONS_acct_KEY, ACCT_DT):\", df.select(\"CONS_acct_KEY\", \"ACCT_DT\").distinct().count())\n",
    "\n",
    "print(f\"Existing Partitions: {df.rdd.getNumPartitions()}\")\n",
    "\n",
    "# df = df.repartition(6)\n",
    "df = df.withColumn(\"ACCT_DT\",to_date(col(\"ACCT_DT\"), \"MM/dd/yyyy\"))\n",
    "\n",
    "df.printSchema()\n",
    "\n",
    "# print(f\"New Partitions: {stage_df.rdd.getNumPartitions()}\")\n",
    "# ✅ Save to Parquet\n",
    "df.write\\\n",
    ".format(\"iceberg\")\\\n",
    ".mode(\"overwrite\")\\\n",
    ".option(\"compression\", \"snappy\")\\\n",
    ".saveAsTable(\"ascenddb2.dpd_data\")\n",
    "\n",
    "df.explain()\n",
    "print(\"Data generated and saved to dpd_data\")\n"
   ]
  },
  {
   "cell_type": "code",
   "execution_count": 218,
   "id": "bae1394b-fc00-4c81-83ac-25cd8daa5459",
   "metadata": {},
   "outputs": [
    {
     "name": "stdout",
     "output_type": "stream",
     "text": [
      "+-----------------------+-------------------+---------+\n",
      "|committed_at           |snapshot_id        |operation|\n",
      "+-----------------------+-------------------+---------+\n",
      "|2025-07-09 18:11:13.717|7062837905704210678|append   |\n",
      "+-----------------------+-------------------+---------+\n",
      "\n"
     ]
    }
   ],
   "source": [
    "spark.sql(\"SELECT committed_at, snapshot_id, operation FROM ascenddb2.dpd_data.snapshots\").show(truncate=False)"
   ]
  },
  {
   "cell_type": "code",
   "execution_count": 219,
   "id": "0053a0a0-d2b0-467f-bff8-8efc8ff334a9",
   "metadata": {},
   "outputs": [
    {
     "name": "stderr",
     "output_type": "stream",
     "text": [
      "[Stage 865:====================================================>(201 + 1) / 202]\r"
     ]
    },
    {
     "name": "stdout",
     "output_type": "stream",
     "text": [
      "+------------------------+-----------------------------------+-----------------------------------+----------------------------+----------------------------+------------------------------+\n",
      "|deleted_data_files_count|deleted_position_delete_files_count|deleted_equality_delete_files_count|deleted_manifest_files_count|deleted_manifest_lists_count|deleted_statistics_files_count|\n",
      "+------------------------+-----------------------------------+-----------------------------------+----------------------------+----------------------------+------------------------------+\n",
      "|                       0|                                  0|                                  0|                           0|                           0|                             0|\n",
      "+------------------------+-----------------------------------+-----------------------------------+----------------------------+----------------------------+------------------------------+\n",
      "\n"
     ]
    },
    {
     "name": "stderr",
     "output_type": "stream",
     "text": [
      "                                                                                \r"
     ]
    }
   ],
   "source": [
    "from datetime import datetime\n",
    "now_str = datetime.now()\n",
    "spark.sql(f\"CALL demo.system.expire_snapshots(table => 'ascenddb2.dpd_data', older_than => TIMESTAMP '{now_str}', retain_last => 1)\").show()"
   ]
  },
  {
   "cell_type": "code",
   "execution_count": 220,
   "id": "555b2ae3-1a26-4fa5-bb58-1ea63ce37d6a",
   "metadata": {},
   "outputs": [
    {
     "data": {
      "text/html": [
       "<table>\n",
       "    <thead>\n",
       "        <tr>\n",
       "            <th>count(1)</th>\n",
       "        </tr>\n",
       "    </thead>\n",
       "    <tbody>\n",
       "        <tr>\n",
       "            <td>6</td>\n",
       "        </tr>\n",
       "    </tbody>\n",
       "</table>"
      ],
      "text/plain": [
       "+----------+\n",
       "| count(1) |\n",
       "+----------+\n",
       "|        6 |\n",
       "+----------+"
      ]
     },
     "execution_count": 220,
     "metadata": {},
     "output_type": "execute_result"
    }
   ],
   "source": [
    "%%sql\n",
    "select count(1) from ascenddb2.dpd_data.files;"
   ]
  },
  {
   "cell_type": "markdown",
   "id": "658d7f6d-55b0-41c0-b56a-57e37f3b23bc",
   "metadata": {},
   "source": [
    "### Scenario Creation"
   ]
  },
  {
   "cell_type": "code",
   "execution_count": 221,
   "id": "d625093d-1b2a-47fb-aea1-db4f39178244",
   "metadata": {},
   "outputs": [
    {
     "data": {
      "text/html": [
       "<table>\n",
       "    <thead>\n",
       "        <tr>\n",
       "            <th>CONS_ACCT_KEY</th>\n",
       "            <th>ACCT_DT</th>\n",
       "            <th>DPD</th>\n",
       "        </tr>\n",
       "    </thead>\n",
       "    <tbody>\n",
       "        <tr>\n",
       "            <td>336</td>\n",
       "            <td>1998-01-15</td>\n",
       "            <td>37</td>\n",
       "        </tr>\n",
       "        <tr>\n",
       "            <td>336</td>\n",
       "            <td>1998-02-15</td>\n",
       "            <td>38</td>\n",
       "        </tr>\n",
       "        <tr>\n",
       "            <td>336</td>\n",
       "            <td>1998-03-15</td>\n",
       "            <td>39</td>\n",
       "        </tr>\n",
       "        <tr>\n",
       "            <td>336</td>\n",
       "            <td>1998-04-15</td>\n",
       "            <td>40</td>\n",
       "        </tr>\n",
       "        <tr>\n",
       "            <td>336</td>\n",
       "            <td>1998-05-15</td>\n",
       "            <td>41</td>\n",
       "        </tr>\n",
       "        <tr>\n",
       "            <td>336</td>\n",
       "            <td>1998-06-15</td>\n",
       "            <td>42</td>\n",
       "        </tr>\n",
       "        <tr>\n",
       "            <td>336</td>\n",
       "            <td>1998-07-15</td>\n",
       "            <td>43</td>\n",
       "        </tr>\n",
       "        <tr>\n",
       "            <td>336</td>\n",
       "            <td>1998-08-15</td>\n",
       "            <td>44</td>\n",
       "        </tr>\n",
       "        <tr>\n",
       "            <td>336</td>\n",
       "            <td>1998-09-15</td>\n",
       "            <td>45</td>\n",
       "        </tr>\n",
       "        <tr>\n",
       "            <td>336</td>\n",
       "            <td>1998-10-15</td>\n",
       "            <td>46</td>\n",
       "        </tr>\n",
       "    </tbody>\n",
       "</table>"
      ],
      "text/plain": [
       "+---------------+------------+-----+\n",
       "| CONS_ACCT_KEY |    ACCT_DT | DPD |\n",
       "+---------------+------------+-----+\n",
       "|           336 | 1998-01-15 |  37 |\n",
       "|           336 | 1998-02-15 |  38 |\n",
       "|           336 | 1998-03-15 |  39 |\n",
       "|           336 | 1998-04-15 |  40 |\n",
       "|           336 | 1998-05-15 |  41 |\n",
       "|           336 | 1998-06-15 |  42 |\n",
       "|           336 | 1998-07-15 |  43 |\n",
       "|           336 | 1998-08-15 |  44 |\n",
       "|           336 | 1998-09-15 |  45 |\n",
       "|           336 | 1998-10-15 |  46 |\n",
       "+---------------+------------+-----+"
      ]
     },
     "execution_count": 221,
     "metadata": {},
     "output_type": "execute_result"
    }
   ],
   "source": [
    "%%sql\n",
    "with data as (select * from ascenddb2.dpd_data where cons_acct_key ==336\n",
    "union all\n",
    "select * from ascenddb2.dpd_data where cons_acct_key ==337)\n",
    "select * from data order by cons_acct_key,acct_dt limit 10;"
   ]
  },
  {
   "cell_type": "code",
   "execution_count": 222,
   "id": "c4b0d855-4487-413b-995f-0b0f4b3b9cdf",
   "metadata": {},
   "outputs": [
    {
     "name": "stderr",
     "output_type": "stream",
     "text": [
      "                                                                                \r"
     ]
    },
    {
     "data": {
      "text/html": [
       "<table>\n",
       "    <thead>\n",
       "        <tr>\n",
       "        </tr>\n",
       "    </thead>\n",
       "    <tbody>\n",
       "    </tbody>\n",
       "</table>"
      ],
      "text/plain": [
       "++\n",
       "||\n",
       "++\n",
       "++"
      ]
     },
     "execution_count": 222,
     "metadata": {},
     "output_type": "execute_result"
    }
   ],
   "source": [
    "%%sql\n",
    "DELETE from ascenddb2.dpd_data where CONS_ACCT_KEY == 336 AND ACCT_DT = '1998-04-15'"
   ]
  },
  {
   "cell_type": "code",
   "execution_count": 223,
   "id": "d11fca1f-813a-4015-ab7f-6fe842fdb275",
   "metadata": {},
   "outputs": [
    {
     "name": "stderr",
     "output_type": "stream",
     "text": [
      "                                                                                \r"
     ]
    }
   ],
   "source": [
    "queries = [\n",
    "    \"DELETE FROM ascenddb2.dpd_data WHERE CONS_ACCT_KEY = 337 AND ACCT_DT = '1998-01-15'\",\n",
    "    \"DELETE FROM ascenddb2.dpd_data WHERE CONS_ACCT_KEY = 337 AND ACCT_DT = '1998-04-15'\",\n",
    "    \"DELETE FROM ascenddb2.dpd_data WHERE CONS_ACCT_KEY = 337 AND ACCT_DT = '1998-05-15'\",\n",
    "]\n",
    "\n",
    "for query in queries:\n",
    "    spark.sql(query)"
   ]
  },
  {
   "cell_type": "code",
   "execution_count": 226,
   "id": "1f3566dc-cdfd-404b-ae27-8ecf9d6910c8",
   "metadata": {},
   "outputs": [
    {
     "data": {
      "text/html": [
       "<table>\n",
       "    <thead>\n",
       "        <tr>\n",
       "            <th>CONS_ACCT_KEY</th>\n",
       "            <th>ACCT_DT</th>\n",
       "            <th>DPD</th>\n",
       "        </tr>\n",
       "    </thead>\n",
       "    <tbody>\n",
       "        <tr>\n",
       "            <td>336</td>\n",
       "            <td>1998-01-15</td>\n",
       "            <td>37</td>\n",
       "        </tr>\n",
       "        <tr>\n",
       "            <td>336</td>\n",
       "            <td>1998-02-15</td>\n",
       "            <td>38</td>\n",
       "        </tr>\n",
       "        <tr>\n",
       "            <td>336</td>\n",
       "            <td>1998-03-15</td>\n",
       "            <td>39</td>\n",
       "        </tr>\n",
       "        <tr>\n",
       "            <td>336</td>\n",
       "            <td>1998-05-15</td>\n",
       "            <td>41</td>\n",
       "        </tr>\n",
       "        <tr>\n",
       "            <td>336</td>\n",
       "            <td>1998-06-15</td>\n",
       "            <td>42</td>\n",
       "        </tr>\n",
       "        <tr>\n",
       "            <td>336</td>\n",
       "            <td>1998-07-15</td>\n",
       "            <td>43</td>\n",
       "        </tr>\n",
       "        <tr>\n",
       "            <td>336</td>\n",
       "            <td>1998-08-15</td>\n",
       "            <td>44</td>\n",
       "        </tr>\n",
       "        <tr>\n",
       "            <td>336</td>\n",
       "            <td>1998-09-15</td>\n",
       "            <td>45</td>\n",
       "        </tr>\n",
       "        <tr>\n",
       "            <td>336</td>\n",
       "            <td>1998-10-15</td>\n",
       "            <td>46</td>\n",
       "        </tr>\n",
       "        <tr>\n",
       "            <td>336</td>\n",
       "            <td>1998-11-15</td>\n",
       "            <td>47</td>\n",
       "        </tr>\n",
       "    </tbody>\n",
       "</table>"
      ],
      "text/plain": [
       "+---------------+------------+-----+\n",
       "| CONS_ACCT_KEY |    ACCT_DT | DPD |\n",
       "+---------------+------------+-----+\n",
       "|           336 | 1998-01-15 |  37 |\n",
       "|           336 | 1998-02-15 |  38 |\n",
       "|           336 | 1998-03-15 |  39 |\n",
       "|           336 | 1998-05-15 |  41 |\n",
       "|           336 | 1998-06-15 |  42 |\n",
       "|           336 | 1998-07-15 |  43 |\n",
       "|           336 | 1998-08-15 |  44 |\n",
       "|           336 | 1998-09-15 |  45 |\n",
       "|           336 | 1998-10-15 |  46 |\n",
       "|           336 | 1998-11-15 |  47 |\n",
       "+---------------+------------+-----+"
      ]
     },
     "execution_count": 226,
     "metadata": {},
     "output_type": "execute_result"
    }
   ],
   "source": [
    "%%sql\n",
    "with data as (select * from ascenddb2.dpd_data where cons_acct_key ==336\n",
    "union all\n",
    "select * from ascenddb2.dpd_data where cons_acct_key ==337)\n",
    "select * from data order by cons_acct_key,acct_dt limit 10;"
   ]
  },
  {
   "cell_type": "markdown",
   "id": "a504906c-3393-4d9f-a558-21ebe495ccf5",
   "metadata": {},
   "source": [
    "### Start Incremental Processing"
   ]
  },
  {
   "cell_type": "code",
   "execution_count": 163,
   "id": "c33bcb8f-b7f8-498e-ad80-b9db657fd85c",
   "metadata": {},
   "outputs": [
    {
     "data": {
      "text/html": [
       "<table>\n",
       "    <thead>\n",
       "        <tr>\n",
       "        </tr>\n",
       "    </thead>\n",
       "    <tbody>\n",
       "    </tbody>\n",
       "</table>"
      ],
      "text/plain": [
       "++\n",
       "||\n",
       "++\n",
       "++"
      ]
     },
     "execution_count": 163,
     "metadata": {},
     "output_type": "execute_result"
    }
   ],
   "source": [
    "%%sql\n",
    "DROP TABLE ascenddb2.dpd_summary\n",
    "-- DROP TABLE ascenddb2.latest_dpd_summary"
   ]
  },
  {
   "cell_type": "code",
   "execution_count": 227,
   "id": "34c89158-cdc8-4fa5-ab62-49084a9ed46c",
   "metadata": {},
   "outputs": [
    {
     "data": {
      "text/html": [
       "<table>\n",
       "    <thead>\n",
       "        <tr>\n",
       "        </tr>\n",
       "    </thead>\n",
       "    <tbody>\n",
       "    </tbody>\n",
       "</table>"
      ],
      "text/plain": [
       "++\n",
       "||\n",
       "++\n",
       "++"
      ]
     },
     "execution_count": 227,
     "metadata": {},
     "output_type": "execute_result"
    }
   ],
   "source": [
    "%%sql\n",
    "\n",
    "CREATE TABLE ascenddb2.dpd_summary(\n",
    "    CONS_ACCT_KEY INT,\n",
    "    ACCT_DT DATE, \n",
    "    DPD INT,\n",
    "    DPD_GRID STRING\n",
    "    )\n",
    "USING iceberg\n",
    "PARTITIONED BY (months(ACCT_DT));"
   ]
  },
  {
   "cell_type": "markdown",
   "id": "9e37e335-6f57-4a1c-b582-56dde09cc305",
   "metadata": {},
   "source": [
    "#### Process and Generate the DPD Data with latest_dpd_summary"
   ]
  },
  {
   "cell_type": "code",
   "execution_count": 228,
   "id": "82a469d8-70b8-410f-ac98-a44874c8b08e",
   "metadata": {},
   "outputs": [
    {
     "ename": "TypeError",
     "evalue": "descriptor 'date' for 'datetime.datetime' objects doesn't apply to a 'int' object",
     "output_type": "error",
     "traceback": [
      "\u001b[0;31m---------------------------------------------------------------------------\u001b[0m",
      "\u001b[0;31mTypeError\u001b[0m                                 Traceback (most recent call last)",
      "File \u001b[0;32m<timed exec>:2\u001b[0m\n",
      "\u001b[0;31mTypeError\u001b[0m: descriptor 'date' for 'datetime.datetime' objects doesn't apply to a 'int' object"
     ]
    }
   ],
   "source": [
    "%%time\n",
    "# Define month range\n",
    "start_month = datetime.date(1998, 1, 1)\n",
    "end_month = datetime.date(1998, 1, 1)  # Adjust end date as needed\n",
    "\n",
    "month = start_month\n",
    "result_table = \"ascenddb2.dpd_summary\"\n",
    "\n",
    "while month <= end_month:\n",
    "    next_month = (month.replace(day=28) + datetime.timedelta(days=4)).replace(day=1)\n",
    "    # print(f\"Next Month: {next_month}\")\n",
    "    prev_month = (month.replace(day=1) - datetime.timedelta(days=1)).replace(day=1)\n",
    "    # print(f\"Previous Month: {prev_month}\")\n",
    "    \n",
    "    print(f\"Processing month: {month} ...\")\n",
    "    \n",
    "    # Load current month data\n",
    "    current_df = spark.sql(f\"\"\"\n",
    "        SELECT CONS_ACCT_KEY, ACCT_DT, DPD\n",
    "        FROM ascenddb2.dpd_data\n",
    "        WHERE \n",
    "        -- CONS_ACCT_KEY in (336,337)  AND \n",
    "        ACCT_DT >= DATE '{month}' AND ACCT_DT < DATE '{next_month}'\n",
    "    \"\"\")\n",
    "    \n",
    "    # Load last month DPD strings\n",
    "    try:\n",
    "        prev_df = spark.sql(f\"\"\"\n",
    "                            SELECT CONS_ACCT_KEY, ACCT_DT as PREV_ACCT_DT, DPD, DPD_GRID\n",
    "                            FROM {result_table}\n",
    "                            WHERE \n",
    "                            -- CONS_ACCT_KEY in (336,337)  AND \n",
    "                            -- ACCT_DT >= DATE '{prev_month}' AND \n",
    "                            ACCT_DT < DATE '{month}'\n",
    "                        \"\"\")\n",
    "    except:\n",
    "        prev_df = None  # First month case\n",
    "\n",
    "    if prev_df.count() > 0:\n",
    "        # Get latest previous record per CONS_ACCT_KEY\n",
    "        window_spec = (\n",
    "            Window.partitionBy(\"CONS_ACCT_KEY\")\n",
    "                  .orderBy(F.col(\"PREV_ACCT_DT\").desc())\n",
    "        )\n",
    "        latest_prev = prev_df.withColumn(\"rn\", F.row_number().over(window_spec)).filter(\"rn = 1\").drop(\"rn\")\n",
    "\n",
    "        # Join with current_df\n",
    "        merged_df = current_df.join(latest_prev.select(\"CONS_ACCT_KEY\",\"PREV_ACCT_DT\", \"DPD_GRID\"), on=\"CONS_ACCT_KEY\", how=\"left\")\n",
    "        merged_df = merged_df.withColumn(\n",
    "            \"MONTH_DIFF\",\n",
    "            (F.month(\"ACCT_DT\") - F.month(\"PREV_ACCT_DT\")) +\n",
    "            (F.year(\"ACCT_DT\") - F.year(\"PREV_ACCT_DT\")) * 12\n",
    "        )\n",
    "\n",
    "        merged_df = merged_df.withColumn(\n",
    "            \"FILLER_ARRAY\",\n",
    "            F.when(F.col(\"MONTH_DIFF\") > 1,\n",
    "                   F.expr(\"transform(sequence(1, MONTH_DIFF - 1), x -> '?')\"))\n",
    "            .otherwise(F.array())\n",
    "        )\n",
    "\n",
    "        # merged_df.show(truncate=False)\n",
    "        \n",
    "        merged_df = merged_df.withColumn(\n",
    "            \"Merged_DPD_Array\",\n",
    "            F.concat(\n",
    "                F.array(F.col(\"DPD\")),\n",
    "                F.col(\"FILLER_ARRAY\"),\n",
    "                F.when(F.col(\"DPD_GRID\").isNotNull(), F.split(F.col(\"DPD_GRID\"), \"~\"))\n",
    "                 .otherwise(F.array())\n",
    "            )\n",
    "        )\n",
    "    else:\n",
    "        # No previous data at all\n",
    "        merged_df = current_df.withColumn(\"Merged_DPD_Array\", F.array(F.col(\"DPD\")))\n",
    "\n",
    "    # merged_df.show(truncate=False)\n",
    "    # Pad with \"?\" & Keep last 36 months\n",
    "    max_months = 36\n",
    "    merged_df = merged_df.withColumn(\n",
    "        \"DPD_Array_Trimmed\",\n",
    "        F.when(\n",
    "            F.size(\"Merged_DPD_Array\") >= max_months,\n",
    "            F.slice(\"Merged_DPD_Array\", 1, max_months)\n",
    "        ).otherwise(\n",
    "            F.concat(\n",
    "                F.col(\"Merged_DPD_Array\"),F.array([F.lit(\"?\") for _ in range(max_months - 1)])\n",
    "            )\n",
    "        )\n",
    "    ).withColumn(\n",
    "        \"DPD_GRID\",\n",
    "        F.concat_ws(\"~\", \"DPD_Array_Trimmed\")\n",
    "    )\n",
    "\n",
    "    # merged_df.show(truncate=False)\n",
    "    \n",
    "    # Select final columns\n",
    "    final_df = merged_df.select(\"CONS_ACCT_KEY\", \"ACCT_DT\", \"DPD\", \"DPD_GRID\")\n",
    "    \n",
    "    # Save for next iteration & final output\n",
    "    # final_df.write.mode(\"overwrite\").saveAsTable(result_table)\n",
    "    final_df.show(truncate=False)\n",
    "    final_df.write\\\n",
    "        .format(\"iceberg\")\\\n",
    "        .mode(\"append\")\\\n",
    "        .saveAsTable(\"ascenddb2.dpd_summary\")\n",
    "    \n",
    "    # Next month\n",
    "    month = next_month\n",
    "\n",
    "final_df.explain()\n",
    "print(\"✅ Completed incremental DPD string generation!\")"
   ]
  },
  {
   "cell_type": "code",
   "execution_count": 115,
   "id": "4c763af8-5741-486e-a0f3-bd3f88305e76",
   "metadata": {},
   "outputs": [
    {
     "data": {
      "text/html": [
       "<table>\n",
       "    <thead>\n",
       "        <tr>\n",
       "            <th>CONS_ACCT_KEY</th>\n",
       "            <th>ACCT_DT</th>\n",
       "            <th>DPD</th>\n",
       "            <th>DPD_GRID</th>\n",
       "        </tr>\n",
       "    </thead>\n",
       "    <tbody>\n",
       "        <tr>\n",
       "            <td>336</td>\n",
       "            <td>1998-01-15</td>\n",
       "            <td>37</td>\n",
       "            <td>37~?~?~?~?~?~?~?~?~?~?~?~?~?~?~?~?~?~?~?~?~?~?~?~?~?~?~?~?~?~?~?~?~?~?~?</td>\n",
       "        </tr>\n",
       "        <tr>\n",
       "            <td>336</td>\n",
       "            <td>1998-02-15</td>\n",
       "            <td>38</td>\n",
       "            <td>38~37~?~?~?~?~?~?~?~?~?~?~?~?~?~?~?~?~?~?~?~?~?~?~?~?~?~?~?~?~?~?~?~?~?~?</td>\n",
       "        </tr>\n",
       "        <tr>\n",
       "            <td>337</td>\n",
       "            <td>1998-02-15</td>\n",
       "            <td>39</td>\n",
       "            <td>39~?~?~?~?~?~?~?~?~?~?~?~?~?~?~?~?~?~?~?~?~?~?~?~?~?~?~?~?~?~?~?~?~?~?~?</td>\n",
       "        </tr>\n",
       "    </tbody>\n",
       "</table>"
      ],
      "text/plain": [
       "+---------------+------------+-----+---------------------------------------------------------------------------+\n",
       "| CONS_ACCT_KEY |    ACCT_DT | DPD |                                                                  DPD_GRID |\n",
       "+---------------+------------+-----+---------------------------------------------------------------------------+\n",
       "|           336 | 1998-01-15 |  37 |  37~?~?~?~?~?~?~?~?~?~?~?~?~?~?~?~?~?~?~?~?~?~?~?~?~?~?~?~?~?~?~?~?~?~?~? |\n",
       "|           336 | 1998-02-15 |  38 | 38~37~?~?~?~?~?~?~?~?~?~?~?~?~?~?~?~?~?~?~?~?~?~?~?~?~?~?~?~?~?~?~?~?~?~? |\n",
       "|           337 | 1998-02-15 |  39 |  39~?~?~?~?~?~?~?~?~?~?~?~?~?~?~?~?~?~?~?~?~?~?~?~?~?~?~?~?~?~?~?~?~?~?~? |\n",
       "+---------------+------------+-----+---------------------------------------------------------------------------+"
      ]
     },
     "execution_count": 115,
     "metadata": {},
     "output_type": "execute_result"
    }
   ],
   "source": [
    "%%sql\n",
    "select * from ascenddb2.dpd_summary where cons_acct_key = 336 and ACCT_DT in ( '1998-01-15','1998-02-15')\n",
    "union all \n",
    "select * from ascenddb2.dpd_summary where cons_acct_key = 337 and ACCT_DT = '1998-02-15';"
   ]
  },
  {
   "cell_type": "code",
   "execution_count": 137,
   "id": "01b3f1ae-10c5-4d56-9535-3dda4a48b7c4",
   "metadata": {},
   "outputs": [
    {
     "data": {
      "text/html": [
       "<table>\n",
       "    <thead>\n",
       "        <tr>\n",
       "            <th>max(ACCT_DT)</th>\n",
       "        </tr>\n",
       "    </thead>\n",
       "    <tbody>\n",
       "        <tr>\n",
       "            <td>1998-04-15</td>\n",
       "        </tr>\n",
       "    </tbody>\n",
       "</table>"
      ],
      "text/plain": [
       "+--------------+\n",
       "| max(ACCT_DT) |\n",
       "+--------------+\n",
       "|   1998-04-15 |\n",
       "+--------------+"
      ]
     },
     "execution_count": 137,
     "metadata": {},
     "output_type": "execute_result"
    }
   ],
   "source": [
    "%%sql\n",
    "select MAX(ACCT_DT) from ascenddb2.dpd_summary;"
   ]
  },
  {
   "cell_type": "code",
   "execution_count": 141,
   "id": "881b0102-3b2b-4dc6-a9c9-57e7daa32b61",
   "metadata": {},
   "outputs": [
    {
     "data": {
      "text/html": [
       "<table>\n",
       "    <thead>\n",
       "        <tr>\n",
       "            <th>CONS_ACCT_KEY</th>\n",
       "            <th>ACCT_DT</th>\n",
       "            <th>DPD</th>\n",
       "            <th>DPD_GRID</th>\n",
       "        </tr>\n",
       "    </thead>\n",
       "    <tbody>\n",
       "        <tr>\n",
       "            <td>336</td>\n",
       "            <td>1998-01-15</td>\n",
       "            <td>37</td>\n",
       "            <td>37~?~?~?~?~?~?~?~?~?~?~?~?~?~?~?~?~?~?~?~?~?~?~?~?~?~?~?~?~?~?~?~?~?~?~?</td>\n",
       "        </tr>\n",
       "        <tr>\n",
       "            <td>336</td>\n",
       "            <td>1998-02-15</td>\n",
       "            <td>38</td>\n",
       "            <td>38~37~?~?~?~?~?~?~?~?~?~?~?~?~?~?~?~?~?~?~?~?~?~?~?~?~?~?~?~?~?~?~?~?~?~?</td>\n",
       "        </tr>\n",
       "        <tr>\n",
       "            <td>336</td>\n",
       "            <td>1998-03-15</td>\n",
       "            <td>39</td>\n",
       "            <td>39~38~37~?~?~?~?~?~?~?~?~?~?~?~?~?~?~?~?~?~?~?~?~?~?~?~?~?~?~?~?~?~?~?~?~?</td>\n",
       "        </tr>\n",
       "        <tr>\n",
       "            <td>336</td>\n",
       "            <td>1998-05-15</td>\n",
       "            <td>41</td>\n",
       "            <td>41~?~39~38~37~?~?~?~?~?~?~?~?~?~?~?~?~?~?~?~?~?~?~?~?~?~?~?~?~?~?~?~?~?~?~?</td>\n",
       "        </tr>\n",
       "        <tr>\n",
       "            <td>336</td>\n",
       "            <td>1998-06-15</td>\n",
       "            <td>42</td>\n",
       "            <td>42~41~?~39~38~37~?~?~?~?~?~?~?~?~?~?~?~?~?~?~?~?~?~?~?~?~?~?~?~?~?~?~?~?~?~?</td>\n",
       "        </tr>\n",
       "        <tr>\n",
       "            <td>337</td>\n",
       "            <td>1998-02-15</td>\n",
       "            <td>39</td>\n",
       "            <td>39~?~?~?~?~?~?~?~?~?~?~?~?~?~?~?~?~?~?~?~?~?~?~?~?~?~?~?~?~?~?~?~?~?~?~?</td>\n",
       "        </tr>\n",
       "        <tr>\n",
       "            <td>337</td>\n",
       "            <td>1998-03-15</td>\n",
       "            <td>40</td>\n",
       "            <td>40~39~?~?~?~?~?~?~?~?~?~?~?~?~?~?~?~?~?~?~?~?~?~?~?~?~?~?~?~?~?~?~?~?~?~?</td>\n",
       "        </tr>\n",
       "        <tr>\n",
       "            <td>337</td>\n",
       "            <td>1998-06-15</td>\n",
       "            <td>43</td>\n",
       "            <td>43~?~?~40~39~?~?~?~?~?~?~?~?~?~?~?~?~?~?~?~?~?~?~?~?~?~?~?~?~?~?~?~?~?~?~?</td>\n",
       "        </tr>\n",
       "    </tbody>\n",
       "</table>"
      ],
      "text/plain": [
       "+---------------+------------+-----+------------------------------------------------------------------------------+\n",
       "| CONS_ACCT_KEY |    ACCT_DT | DPD |                                                                     DPD_GRID |\n",
       "+---------------+------------+-----+------------------------------------------------------------------------------+\n",
       "|           336 | 1998-01-15 |  37 |     37~?~?~?~?~?~?~?~?~?~?~?~?~?~?~?~?~?~?~?~?~?~?~?~?~?~?~?~?~?~?~?~?~?~?~? |\n",
       "|           336 | 1998-02-15 |  38 |    38~37~?~?~?~?~?~?~?~?~?~?~?~?~?~?~?~?~?~?~?~?~?~?~?~?~?~?~?~?~?~?~?~?~?~? |\n",
       "|           336 | 1998-03-15 |  39 |   39~38~37~?~?~?~?~?~?~?~?~?~?~?~?~?~?~?~?~?~?~?~?~?~?~?~?~?~?~?~?~?~?~?~?~? |\n",
       "|           336 | 1998-05-15 |  41 |  41~?~39~38~37~?~?~?~?~?~?~?~?~?~?~?~?~?~?~?~?~?~?~?~?~?~?~?~?~?~?~?~?~?~?~? |\n",
       "|           336 | 1998-06-15 |  42 | 42~41~?~39~38~37~?~?~?~?~?~?~?~?~?~?~?~?~?~?~?~?~?~?~?~?~?~?~?~?~?~?~?~?~?~? |\n",
       "|           337 | 1998-02-15 |  39 |     39~?~?~?~?~?~?~?~?~?~?~?~?~?~?~?~?~?~?~?~?~?~?~?~?~?~?~?~?~?~?~?~?~?~?~? |\n",
       "|           337 | 1998-03-15 |  40 |    40~39~?~?~?~?~?~?~?~?~?~?~?~?~?~?~?~?~?~?~?~?~?~?~?~?~?~?~?~?~?~?~?~?~?~? |\n",
       "|           337 | 1998-06-15 |  43 |   43~?~?~40~39~?~?~?~?~?~?~?~?~?~?~?~?~?~?~?~?~?~?~?~?~?~?~?~?~?~?~?~?~?~?~? |\n",
       "+---------------+------------+-----+------------------------------------------------------------------------------+"
      ]
     },
     "execution_count": 141,
     "metadata": {},
     "output_type": "execute_result"
    }
   ],
   "source": [
    "%%sql\n",
    "with data as (\n",
    "select * from ascenddb2.dpd_summary where cons_acct_key = 336 \n",
    "union all \n",
    "select * from ascenddb2.dpd_summary where cons_acct_key = 337)\n",
    "select * from data order by cons_acct_key, acct_dt"
   ]
  },
  {
   "cell_type": "code",
   "execution_count": 208,
   "id": "eba02248-edd7-4e0e-8007-2fa14afe3a05",
   "metadata": {},
   "outputs": [
    {
     "data": {
      "text/html": [
       "<table>\n",
       "    <thead>\n",
       "        <tr>\n",
       "        </tr>\n",
       "    </thead>\n",
       "    <tbody>\n",
       "    </tbody>\n",
       "</table>"
      ],
      "text/plain": [
       "++\n",
       "||\n",
       "++\n",
       "++"
      ]
     },
     "execution_count": 208,
     "metadata": {},
     "output_type": "execute_result"
    }
   ],
   "source": [
    "%%sql\n",
    "DROP TABLE ascenddb2.latest_dpd_summary;"
   ]
  },
  {
   "cell_type": "code",
   "execution_count": 209,
   "id": "2c558e70-1675-4104-bd8f-f414cae84c5d",
   "metadata": {},
   "outputs": [
    {
     "ename": "AnalysisException",
     "evalue": "[TABLE_OR_VIEW_NOT_FOUND] The table or view `ascenddb2`.`dpd_summary` cannot be found. Verify the spelling and correctness of the schema and catalog.\nIf you did not qualify the name with a schema, verify the current_schema() output, or qualify the name with the correct schema and catalog.\nTo tolerate the error on drop use DROP VIEW IF EXISTS or DROP TABLE IF EXISTS.; line 1 pos 58;\n'Union false, false\n:- 'Union false, false\n:  :- 'Aggregate [count(1) AS count#11709L, dpd_summary AS table_name#11710]\n:  :  +- 'UnresolvedRelation [ascenddb2, dpd_summary], [], false\n:  +- Aggregate [count(1) AS count#11711L, dpd_data AS table_name#11712]\n:     +- SubqueryAlias demo.ascenddb2.dpd_data\n:        +- RelationV2[CONS_ACCT_KEY#11715, ACCT_DT#11716, DPD#11717] demo.ascenddb2.dpd_data demo.ascenddb2.dpd_data\n+- 'Aggregate [count(1) AS count#11713L, latest_dpd_summary AS table_name#11714]\n   +- 'UnresolvedRelation [ascenddb2, latest_dpd_summary], [], false\n",
     "output_type": "error",
     "traceback": [
      "\u001b[0;31m---------------------------------------------------------------------------\u001b[0m",
      "\u001b[0;31mAnalysisException\u001b[0m                         Traceback (most recent call last)",
      "Cell \u001b[0;32mIn[209], line 1\u001b[0m\n\u001b[0;32m----> 1\u001b[0m \u001b[43mget_ipython\u001b[49m\u001b[43m(\u001b[49m\u001b[43m)\u001b[49m\u001b[38;5;241;43m.\u001b[39;49m\u001b[43mrun_cell_magic\u001b[49m\u001b[43m(\u001b[49m\u001b[38;5;124;43m'\u001b[39;49m\u001b[38;5;124;43msql\u001b[39;49m\u001b[38;5;124;43m'\u001b[39;49m\u001b[43m,\u001b[49m\u001b[43m \u001b[49m\u001b[38;5;124;43m'\u001b[39;49m\u001b[38;5;124;43m'\u001b[39;49m\u001b[43m,\u001b[49m\u001b[43m \u001b[49m\u001b[38;5;124;43m'\u001b[39;49m\u001b[38;5;124;43mselect count(*) as count,\u001b[39;49m\u001b[38;5;124;43m\"\u001b[39;49m\u001b[38;5;124;43mdpd_summary\u001b[39;49m\u001b[38;5;124;43m\"\u001b[39;49m\u001b[38;5;124;43m as table_name from ascenddb2.dpd_summary\u001b[39;49m\u001b[38;5;130;43;01m\\n\u001b[39;49;00m\u001b[38;5;124;43munion all\u001b[39;49m\u001b[38;5;130;43;01m\\n\u001b[39;49;00m\u001b[38;5;124;43mselect count(*) as count,\u001b[39;49m\u001b[38;5;124;43m\"\u001b[39;49m\u001b[38;5;124;43mdpd_data\u001b[39;49m\u001b[38;5;124;43m\"\u001b[39;49m\u001b[38;5;124;43m as table_name  from ascenddb2.dpd_data\u001b[39;49m\u001b[38;5;130;43;01m\\n\u001b[39;49;00m\u001b[38;5;124;43munion all\u001b[39;49m\u001b[38;5;130;43;01m\\n\u001b[39;49;00m\u001b[38;5;124;43mselect count(*) as count,\u001b[39;49m\u001b[38;5;124;43m\"\u001b[39;49m\u001b[38;5;124;43mlatest_dpd_summary\u001b[39;49m\u001b[38;5;124;43m\"\u001b[39;49m\u001b[38;5;124;43m as table_name  from ascenddb2.latest_dpd_summary\u001b[39;49m\u001b[38;5;130;43;01m\\n\u001b[39;49;00m\u001b[38;5;124;43m'\u001b[39;49m\u001b[43m)\u001b[49m\n",
      "File \u001b[0;32m/usr/local/lib/python3.9/site-packages/IPython/core/interactiveshell.py:2517\u001b[0m, in \u001b[0;36mInteractiveShell.run_cell_magic\u001b[0;34m(self, magic_name, line, cell)\u001b[0m\n\u001b[1;32m   2515\u001b[0m \u001b[38;5;28;01mwith\u001b[39;00m \u001b[38;5;28mself\u001b[39m\u001b[38;5;241m.\u001b[39mbuiltin_trap:\n\u001b[1;32m   2516\u001b[0m     args \u001b[38;5;241m=\u001b[39m (magic_arg_s, cell)\n\u001b[0;32m-> 2517\u001b[0m     result \u001b[38;5;241m=\u001b[39m \u001b[43mfn\u001b[49m\u001b[43m(\u001b[49m\u001b[38;5;241;43m*\u001b[39;49m\u001b[43margs\u001b[49m\u001b[43m,\u001b[49m\u001b[43m \u001b[49m\u001b[38;5;241;43m*\u001b[39;49m\u001b[38;5;241;43m*\u001b[39;49m\u001b[43mkwargs\u001b[49m\u001b[43m)\u001b[49m\n\u001b[1;32m   2519\u001b[0m \u001b[38;5;66;03m# The code below prevents the output from being displayed\u001b[39;00m\n\u001b[1;32m   2520\u001b[0m \u001b[38;5;66;03m# when using magics with decorator @output_can_be_silenced\u001b[39;00m\n\u001b[1;32m   2521\u001b[0m \u001b[38;5;66;03m# when the last Python token in the expression is a ';'.\u001b[39;00m\n\u001b[1;32m   2522\u001b[0m \u001b[38;5;28;01mif\u001b[39;00m \u001b[38;5;28mgetattr\u001b[39m(fn, magic\u001b[38;5;241m.\u001b[39mMAGIC_OUTPUT_CAN_BE_SILENCED, \u001b[38;5;28;01mFalse\u001b[39;00m):\n",
      "File \u001b[0;32m~/.ipython/profile_default/startup/00-prettytables.py:81\u001b[0m, in \u001b[0;36msql\u001b[0;34m(line, cell)\u001b[0m\n\u001b[1;32m     79\u001b[0m         \u001b[38;5;28;01mreturn\u001b[39;00m _to_table(df, num_rows\u001b[38;5;241m=\u001b[39margs\u001b[38;5;241m.\u001b[39mlimit)\n\u001b[1;32m     80\u001b[0m \u001b[38;5;28;01melse\u001b[39;00m:\n\u001b[0;32m---> 81\u001b[0m     \u001b[38;5;28;01mreturn\u001b[39;00m _to_table(\u001b[43mspark\u001b[49m\u001b[38;5;241;43m.\u001b[39;49m\u001b[43msql\u001b[49m\u001b[43m(\u001b[49m\u001b[43mcell\u001b[49m\u001b[43m)\u001b[49m)\n",
      "File \u001b[0;32m/opt/spark/python/pyspark/sql/session.py:1631\u001b[0m, in \u001b[0;36mSparkSession.sql\u001b[0;34m(self, sqlQuery, args, **kwargs)\u001b[0m\n\u001b[1;32m   1627\u001b[0m         \u001b[38;5;28;01massert\u001b[39;00m \u001b[38;5;28mself\u001b[39m\u001b[38;5;241m.\u001b[39m_jvm \u001b[38;5;129;01mis\u001b[39;00m \u001b[38;5;129;01mnot\u001b[39;00m \u001b[38;5;28;01mNone\u001b[39;00m\n\u001b[1;32m   1628\u001b[0m         litArgs \u001b[38;5;241m=\u001b[39m \u001b[38;5;28mself\u001b[39m\u001b[38;5;241m.\u001b[39m_jvm\u001b[38;5;241m.\u001b[39mPythonUtils\u001b[38;5;241m.\u001b[39mtoArray(\n\u001b[1;32m   1629\u001b[0m             [_to_java_column(lit(v)) \u001b[38;5;28;01mfor\u001b[39;00m v \u001b[38;5;129;01min\u001b[39;00m (args \u001b[38;5;129;01mor\u001b[39;00m [])]\n\u001b[1;32m   1630\u001b[0m         )\n\u001b[0;32m-> 1631\u001b[0m     \u001b[38;5;28;01mreturn\u001b[39;00m DataFrame(\u001b[38;5;28;43mself\u001b[39;49m\u001b[38;5;241;43m.\u001b[39;49m\u001b[43m_jsparkSession\u001b[49m\u001b[38;5;241;43m.\u001b[39;49m\u001b[43msql\u001b[49m\u001b[43m(\u001b[49m\u001b[43msqlQuery\u001b[49m\u001b[43m,\u001b[49m\u001b[43m \u001b[49m\u001b[43mlitArgs\u001b[49m\u001b[43m)\u001b[49m, \u001b[38;5;28mself\u001b[39m)\n\u001b[1;32m   1632\u001b[0m \u001b[38;5;28;01mfinally\u001b[39;00m:\n\u001b[1;32m   1633\u001b[0m     \u001b[38;5;28;01mif\u001b[39;00m \u001b[38;5;28mlen\u001b[39m(kwargs) \u001b[38;5;241m>\u001b[39m \u001b[38;5;241m0\u001b[39m:\n",
      "File \u001b[0;32m/opt/spark/python/lib/py4j-0.10.9.7-src.zip/py4j/java_gateway.py:1322\u001b[0m, in \u001b[0;36mJavaMember.__call__\u001b[0;34m(self, *args)\u001b[0m\n\u001b[1;32m   1316\u001b[0m command \u001b[38;5;241m=\u001b[39m proto\u001b[38;5;241m.\u001b[39mCALL_COMMAND_NAME \u001b[38;5;241m+\u001b[39m\\\n\u001b[1;32m   1317\u001b[0m     \u001b[38;5;28mself\u001b[39m\u001b[38;5;241m.\u001b[39mcommand_header \u001b[38;5;241m+\u001b[39m\\\n\u001b[1;32m   1318\u001b[0m     args_command \u001b[38;5;241m+\u001b[39m\\\n\u001b[1;32m   1319\u001b[0m     proto\u001b[38;5;241m.\u001b[39mEND_COMMAND_PART\n\u001b[1;32m   1321\u001b[0m answer \u001b[38;5;241m=\u001b[39m \u001b[38;5;28mself\u001b[39m\u001b[38;5;241m.\u001b[39mgateway_client\u001b[38;5;241m.\u001b[39msend_command(command)\n\u001b[0;32m-> 1322\u001b[0m return_value \u001b[38;5;241m=\u001b[39m \u001b[43mget_return_value\u001b[49m\u001b[43m(\u001b[49m\n\u001b[1;32m   1323\u001b[0m \u001b[43m    \u001b[49m\u001b[43manswer\u001b[49m\u001b[43m,\u001b[49m\u001b[43m \u001b[49m\u001b[38;5;28;43mself\u001b[39;49m\u001b[38;5;241;43m.\u001b[39;49m\u001b[43mgateway_client\u001b[49m\u001b[43m,\u001b[49m\u001b[43m \u001b[49m\u001b[38;5;28;43mself\u001b[39;49m\u001b[38;5;241;43m.\u001b[39;49m\u001b[43mtarget_id\u001b[49m\u001b[43m,\u001b[49m\u001b[43m \u001b[49m\u001b[38;5;28;43mself\u001b[39;49m\u001b[38;5;241;43m.\u001b[39;49m\u001b[43mname\u001b[49m\u001b[43m)\u001b[49m\n\u001b[1;32m   1325\u001b[0m \u001b[38;5;28;01mfor\u001b[39;00m temp_arg \u001b[38;5;129;01min\u001b[39;00m temp_args:\n\u001b[1;32m   1326\u001b[0m     \u001b[38;5;28;01mif\u001b[39;00m \u001b[38;5;28mhasattr\u001b[39m(temp_arg, \u001b[38;5;124m\"\u001b[39m\u001b[38;5;124m_detach\u001b[39m\u001b[38;5;124m\"\u001b[39m):\n",
      "File \u001b[0;32m/opt/spark/python/pyspark/errors/exceptions/captured.py:185\u001b[0m, in \u001b[0;36mcapture_sql_exception.<locals>.deco\u001b[0;34m(*a, **kw)\u001b[0m\n\u001b[1;32m    181\u001b[0m converted \u001b[38;5;241m=\u001b[39m convert_exception(e\u001b[38;5;241m.\u001b[39mjava_exception)\n\u001b[1;32m    182\u001b[0m \u001b[38;5;28;01mif\u001b[39;00m \u001b[38;5;129;01mnot\u001b[39;00m \u001b[38;5;28misinstance\u001b[39m(converted, UnknownException):\n\u001b[1;32m    183\u001b[0m     \u001b[38;5;66;03m# Hide where the exception came from that shows a non-Pythonic\u001b[39;00m\n\u001b[1;32m    184\u001b[0m     \u001b[38;5;66;03m# JVM exception message.\u001b[39;00m\n\u001b[0;32m--> 185\u001b[0m     \u001b[38;5;28;01mraise\u001b[39;00m converted \u001b[38;5;28;01mfrom\u001b[39;00m \u001b[38;5;28;01mNone\u001b[39;00m\n\u001b[1;32m    186\u001b[0m \u001b[38;5;28;01melse\u001b[39;00m:\n\u001b[1;32m    187\u001b[0m     \u001b[38;5;28;01mraise\u001b[39;00m\n",
      "\u001b[0;31mAnalysisException\u001b[0m: [TABLE_OR_VIEW_NOT_FOUND] The table or view `ascenddb2`.`dpd_summary` cannot be found. Verify the spelling and correctness of the schema and catalog.\nIf you did not qualify the name with a schema, verify the current_schema() output, or qualify the name with the correct schema and catalog.\nTo tolerate the error on drop use DROP VIEW IF EXISTS or DROP TABLE IF EXISTS.; line 1 pos 58;\n'Union false, false\n:- 'Union false, false\n:  :- 'Aggregate [count(1) AS count#11709L, dpd_summary AS table_name#11710]\n:  :  +- 'UnresolvedRelation [ascenddb2, dpd_summary], [], false\n:  +- Aggregate [count(1) AS count#11711L, dpd_data AS table_name#11712]\n:     +- SubqueryAlias demo.ascenddb2.dpd_data\n:        +- RelationV2[CONS_ACCT_KEY#11715, ACCT_DT#11716, DPD#11717] demo.ascenddb2.dpd_data demo.ascenddb2.dpd_data\n+- 'Aggregate [count(1) AS count#11713L, latest_dpd_summary AS table_name#11714]\n   +- 'UnresolvedRelation [ascenddb2, latest_dpd_summary], [], false\n"
     ]
    }
   ],
   "source": [
    "%%sql\n",
    "select count(*) as count,\"dpd_summary\" as table_name from ascenddb2.dpd_summary\n",
    "union all\n",
    "select count(*) as count,\"dpd_data\" as table_name  from ascenddb2.dpd_data\n",
    "union all\n",
    "select count(*) as count,\"latest_dpd_summary\" as table_name  from ascenddb2.latest_dpd_summary"
   ]
  },
  {
   "cell_type": "markdown",
   "id": "68357403-4b87-4ab1-ba69-da7154ef712e",
   "metadata": {},
   "source": [
    "### Generate the lastest_dpd_summary_table"
   ]
  },
  {
   "cell_type": "code",
   "execution_count": 231,
   "id": "3372df80-1a1e-4a81-b6c8-0462f8f8c86d",
   "metadata": {},
   "outputs": [],
   "source": [
    "from pyspark.sql import functions as F\n",
    "from pyspark.sql import Window\n",
    "\n",
    "# Read full dpd_summary history (yes, one-time full scan)\n",
    "dpd_summary_df = spark.read.table(\"ascenddb2.dpd_summary\")\n",
    "\n",
    "# Window to pick latest ACCT_DT per account\n",
    "window_spec = Window.partitionBy(\"CONS_ACCT_KEY\").orderBy(F.col(\"ACCT_DT\").desc())\n",
    "\n",
    "# Pick latest record per account\n",
    "latest_dpd = dpd_summary_df.withColumn(\"rn\", F.row_number().over(window_spec)) \\\n",
    "    .filter(\"rn = 1\") \\\n",
    "    .select(\"CONS_ACCT_KEY\", \"ACCT_DT\", \"DPD_GRID\")\n",
    "\n",
    "# Save it as initial latest_dpd_summary\n",
    "latest_dpd.write.format(\"iceberg\").mode(\"overwrite\").saveAsTable(\"ascenddb2.latest_dpd_summary\")\n"
   ]
  },
  {
   "cell_type": "code",
   "execution_count": 232,
   "id": "6e134562-f717-4549-b35c-8588e81235e7",
   "metadata": {},
   "outputs": [
    {
     "name": "stderr",
     "output_type": "stream",
     "text": [
      "25/07/09 18:16:20 WARN SparkSession: Using an existing Spark session; only runtime SQL configurations will take effect.\n"
     ]
    },
    {
     "data": {
      "text/html": [
       "<table>\n",
       "    <thead>\n",
       "        <tr>\n",
       "            <th>count(1)</th>\n",
       "        </tr>\n",
       "    </thead>\n",
       "    <tbody>\n",
       "        <tr>\n",
       "            <td>0</td>\n",
       "        </tr>\n",
       "    </tbody>\n",
       "</table>"
      ],
      "text/plain": [
       "+----------+\n",
       "| count(1) |\n",
       "+----------+\n",
       "|        0 |\n",
       "+----------+"
      ]
     },
     "execution_count": 232,
     "metadata": {},
     "output_type": "execute_result"
    }
   ],
   "source": [
    "%%sql\n",
    " select count(1) from ascenddb2.latest_dpd_summary"
   ]
  },
  {
   "cell_type": "markdown",
   "id": "6cc47c50-3b36-4f79-b2ff-2d68ba4d3ea6",
   "metadata": {},
   "source": [
    "#### Process latest_dpd_summary"
   ]
  },
  {
   "cell_type": "code",
   "execution_count": 234,
   "id": "37bd3984-da73-4f06-934e-00237d208f73",
   "metadata": {},
   "outputs": [
    {
     "name": "stdout",
     "output_type": "stream",
     "text": [
      "Processing month: 1998-01-01 ...\n"
     ]
    },
    {
     "name": "stderr",
     "output_type": "stream",
     "text": [
      "                                                                                \r"
     ]
    },
    {
     "name": "stdout",
     "output_type": "stream",
     "text": [
      "Processing month: 1998-02-01 ...\n"
     ]
    },
    {
     "name": "stderr",
     "output_type": "stream",
     "text": [
      "                                                                                \r"
     ]
    },
    {
     "name": "stdout",
     "output_type": "stream",
     "text": [
      "Processing month: 1998-03-01 ...\n"
     ]
    },
    {
     "name": "stderr",
     "output_type": "stream",
     "text": [
      "                                                                                \r"
     ]
    },
    {
     "name": "stdout",
     "output_type": "stream",
     "text": [
      "Processing month: 1998-04-01 ...\n"
     ]
    },
    {
     "name": "stderr",
     "output_type": "stream",
     "text": [
      "                                                                                \r"
     ]
    },
    {
     "name": "stdout",
     "output_type": "stream",
     "text": [
      "Processing month: 1998-05-01 ...\n"
     ]
    },
    {
     "name": "stderr",
     "output_type": "stream",
     "text": [
      "                                                                                \r"
     ]
    },
    {
     "name": "stdout",
     "output_type": "stream",
     "text": [
      "Processing month: 1998-06-01 ...\n"
     ]
    },
    {
     "name": "stderr",
     "output_type": "stream",
     "text": [
      "                                                                                \r"
     ]
    },
    {
     "name": "stdout",
     "output_type": "stream",
     "text": [
      "Processing month: 1998-07-01 ...\n"
     ]
    },
    {
     "name": "stderr",
     "output_type": "stream",
     "text": [
      "                                                                                \r"
     ]
    },
    {
     "name": "stdout",
     "output_type": "stream",
     "text": [
      "Processing month: 1998-08-01 ...\n"
     ]
    },
    {
     "name": "stderr",
     "output_type": "stream",
     "text": [
      "                                                                                \r"
     ]
    },
    {
     "name": "stdout",
     "output_type": "stream",
     "text": [
      "Processing month: 1998-09-01 ...\n"
     ]
    },
    {
     "name": "stderr",
     "output_type": "stream",
     "text": [
      "                                                                                \r"
     ]
    },
    {
     "name": "stdout",
     "output_type": "stream",
     "text": [
      "Processing month: 1998-10-01 ...\n"
     ]
    },
    {
     "name": "stderr",
     "output_type": "stream",
     "text": [
      "                                                                                \r"
     ]
    },
    {
     "name": "stdout",
     "output_type": "stream",
     "text": [
      "Processing month: 1998-11-01 ...\n"
     ]
    },
    {
     "name": "stderr",
     "output_type": "stream",
     "text": [
      "                                                                                \r"
     ]
    },
    {
     "name": "stdout",
     "output_type": "stream",
     "text": [
      "Processing month: 1998-12-01 ...\n"
     ]
    },
    {
     "name": "stderr",
     "output_type": "stream",
     "text": [
      "                                                                                \r"
     ]
    },
    {
     "name": "stdout",
     "output_type": "stream",
     "text": [
      "Processing month: 1999-01-01 ...\n"
     ]
    },
    {
     "name": "stderr",
     "output_type": "stream",
     "text": [
      "                                                                                \r"
     ]
    },
    {
     "name": "stdout",
     "output_type": "stream",
     "text": [
      "Processing month: 1999-02-01 ...\n"
     ]
    },
    {
     "name": "stderr",
     "output_type": "stream",
     "text": [
      "                                                                                \r"
     ]
    },
    {
     "name": "stdout",
     "output_type": "stream",
     "text": [
      "Processing month: 1999-03-01 ...\n"
     ]
    },
    {
     "name": "stderr",
     "output_type": "stream",
     "text": [
      "                                                                                \r"
     ]
    },
    {
     "name": "stdout",
     "output_type": "stream",
     "text": [
      "Processing month: 1999-04-01 ...\n"
     ]
    },
    {
     "name": "stderr",
     "output_type": "stream",
     "text": [
      "                                                                                \r"
     ]
    },
    {
     "name": "stdout",
     "output_type": "stream",
     "text": [
      "Processing month: 1999-05-01 ...\n"
     ]
    },
    {
     "name": "stderr",
     "output_type": "stream",
     "text": [
      "                                                                                \r"
     ]
    },
    {
     "name": "stdout",
     "output_type": "stream",
     "text": [
      "Processing month: 1999-06-01 ...\n"
     ]
    },
    {
     "name": "stderr",
     "output_type": "stream",
     "text": [
      "                                                                                \r"
     ]
    },
    {
     "name": "stdout",
     "output_type": "stream",
     "text": [
      "Processing month: 1999-07-01 ...\n"
     ]
    },
    {
     "name": "stderr",
     "output_type": "stream",
     "text": [
      "                                                                                \r"
     ]
    },
    {
     "name": "stdout",
     "output_type": "stream",
     "text": [
      "Processing month: 1999-08-01 ...\n"
     ]
    },
    {
     "name": "stderr",
     "output_type": "stream",
     "text": [
      "                                                                                \r"
     ]
    },
    {
     "name": "stdout",
     "output_type": "stream",
     "text": [
      "Processing month: 1999-09-01 ...\n"
     ]
    },
    {
     "name": "stderr",
     "output_type": "stream",
     "text": [
      "                                                                                \r"
     ]
    },
    {
     "name": "stdout",
     "output_type": "stream",
     "text": [
      "Processing month: 1999-10-01 ...\n"
     ]
    },
    {
     "name": "stderr",
     "output_type": "stream",
     "text": [
      "                                                                                \r"
     ]
    },
    {
     "name": "stdout",
     "output_type": "stream",
     "text": [
      "Processing month: 1999-11-01 ...\n"
     ]
    },
    {
     "name": "stderr",
     "output_type": "stream",
     "text": [
      "                                                                                \r"
     ]
    },
    {
     "name": "stdout",
     "output_type": "stream",
     "text": [
      "Processing month: 1999-12-01 ...\n"
     ]
    },
    {
     "name": "stderr",
     "output_type": "stream",
     "text": [
      "                                                                                \r"
     ]
    },
    {
     "name": "stdout",
     "output_type": "stream",
     "text": [
      "Processing month: 2000-01-01 ...\n"
     ]
    },
    {
     "name": "stderr",
     "output_type": "stream",
     "text": [
      "                                                                                \r"
     ]
    },
    {
     "name": "stdout",
     "output_type": "stream",
     "text": [
      "Processing month: 2000-02-01 ...\n"
     ]
    },
    {
     "name": "stderr",
     "output_type": "stream",
     "text": [
      "                                                                                \r"
     ]
    },
    {
     "name": "stdout",
     "output_type": "stream",
     "text": [
      "Processing month: 2000-03-01 ...\n"
     ]
    },
    {
     "name": "stderr",
     "output_type": "stream",
     "text": [
      "                                                                                \r"
     ]
    },
    {
     "name": "stdout",
     "output_type": "stream",
     "text": [
      "Processing month: 2000-04-01 ...\n"
     ]
    },
    {
     "name": "stderr",
     "output_type": "stream",
     "text": [
      "                                                                                \r"
     ]
    },
    {
     "name": "stdout",
     "output_type": "stream",
     "text": [
      "Processing month: 2000-05-01 ...\n"
     ]
    },
    {
     "name": "stderr",
     "output_type": "stream",
     "text": [
      "                                                                                \r"
     ]
    },
    {
     "name": "stdout",
     "output_type": "stream",
     "text": [
      "Processing month: 2000-06-01 ...\n"
     ]
    },
    {
     "name": "stderr",
     "output_type": "stream",
     "text": [
      "                                                                                \r"
     ]
    },
    {
     "name": "stdout",
     "output_type": "stream",
     "text": [
      "Processing month: 2000-07-01 ...\n"
     ]
    },
    {
     "name": "stderr",
     "output_type": "stream",
     "text": [
      "                                                                                \r"
     ]
    },
    {
     "name": "stdout",
     "output_type": "stream",
     "text": [
      "Processing month: 2000-08-01 ...\n"
     ]
    },
    {
     "name": "stderr",
     "output_type": "stream",
     "text": [
      "                                                                                \r"
     ]
    },
    {
     "name": "stdout",
     "output_type": "stream",
     "text": [
      "Processing month: 2000-09-01 ...\n"
     ]
    },
    {
     "name": "stderr",
     "output_type": "stream",
     "text": [
      "                                                                                \r"
     ]
    },
    {
     "name": "stdout",
     "output_type": "stream",
     "text": [
      "Processing month: 2000-10-01 ...\n"
     ]
    },
    {
     "name": "stderr",
     "output_type": "stream",
     "text": [
      "                                                                                \r"
     ]
    },
    {
     "name": "stdout",
     "output_type": "stream",
     "text": [
      "Processing month: 2000-11-01 ...\n"
     ]
    },
    {
     "name": "stderr",
     "output_type": "stream",
     "text": [
      "                                                                                \r"
     ]
    },
    {
     "name": "stdout",
     "output_type": "stream",
     "text": [
      "Processing month: 2000-12-01 ...\n"
     ]
    },
    {
     "name": "stderr",
     "output_type": "stream",
     "text": [
      "                                                                                \r"
     ]
    },
    {
     "name": "stdout",
     "output_type": "stream",
     "text": [
      "Processing month: 2001-01-01 ...\n"
     ]
    },
    {
     "name": "stderr",
     "output_type": "stream",
     "text": [
      "                                                                                \r"
     ]
    },
    {
     "name": "stdout",
     "output_type": "stream",
     "text": [
      "Processing month: 2001-02-01 ...\n"
     ]
    },
    {
     "name": "stderr",
     "output_type": "stream",
     "text": [
      "                                                                                \r"
     ]
    },
    {
     "name": "stdout",
     "output_type": "stream",
     "text": [
      "Processing month: 2001-03-01 ...\n"
     ]
    },
    {
     "name": "stderr",
     "output_type": "stream",
     "text": [
      "                                                                                \r"
     ]
    },
    {
     "name": "stdout",
     "output_type": "stream",
     "text": [
      "Processing month: 2001-04-01 ...\n"
     ]
    },
    {
     "name": "stderr",
     "output_type": "stream",
     "text": [
      "                                                                                \r"
     ]
    },
    {
     "name": "stdout",
     "output_type": "stream",
     "text": [
      "Processing month: 2001-05-01 ...\n"
     ]
    },
    {
     "name": "stderr",
     "output_type": "stream",
     "text": [
      "                                                                                \r"
     ]
    },
    {
     "name": "stdout",
     "output_type": "stream",
     "text": [
      "Processing month: 2001-06-01 ...\n"
     ]
    },
    {
     "name": "stderr",
     "output_type": "stream",
     "text": [
      "                                                                                \r"
     ]
    },
    {
     "name": "stdout",
     "output_type": "stream",
     "text": [
      "Processing month: 2001-07-01 ...\n"
     ]
    },
    {
     "name": "stderr",
     "output_type": "stream",
     "text": [
      "                                                                                \r"
     ]
    },
    {
     "name": "stdout",
     "output_type": "stream",
     "text": [
      "Processing month: 2001-08-01 ...\n"
     ]
    },
    {
     "name": "stderr",
     "output_type": "stream",
     "text": [
      "                                                                                \r"
     ]
    },
    {
     "name": "stdout",
     "output_type": "stream",
     "text": [
      "Processing month: 2001-09-01 ...\n"
     ]
    },
    {
     "name": "stderr",
     "output_type": "stream",
     "text": [
      "                                                                                \r"
     ]
    },
    {
     "name": "stdout",
     "output_type": "stream",
     "text": [
      "Processing month: 2001-10-01 ...\n"
     ]
    },
    {
     "name": "stderr",
     "output_type": "stream",
     "text": [
      "                                                                                \r"
     ]
    },
    {
     "name": "stdout",
     "output_type": "stream",
     "text": [
      "Processing month: 2001-11-01 ...\n"
     ]
    },
    {
     "name": "stderr",
     "output_type": "stream",
     "text": [
      "                                                                                \r"
     ]
    },
    {
     "name": "stdout",
     "output_type": "stream",
     "text": [
      "Processing month: 2001-12-01 ...\n"
     ]
    },
    {
     "name": "stderr",
     "output_type": "stream",
     "text": [
      "                                                                                \r"
     ]
    },
    {
     "name": "stdout",
     "output_type": "stream",
     "text": [
      "Processing month: 2002-01-01 ...\n"
     ]
    },
    {
     "name": "stderr",
     "output_type": "stream",
     "text": [
      "                                                                                \r"
     ]
    },
    {
     "name": "stdout",
     "output_type": "stream",
     "text": [
      "Processing month: 2002-02-01 ...\n"
     ]
    },
    {
     "name": "stderr",
     "output_type": "stream",
     "text": [
      "                                                                                \r"
     ]
    },
    {
     "name": "stdout",
     "output_type": "stream",
     "text": [
      "Processing month: 2002-03-01 ...\n"
     ]
    },
    {
     "name": "stderr",
     "output_type": "stream",
     "text": [
      "                                                                                \r"
     ]
    },
    {
     "name": "stdout",
     "output_type": "stream",
     "text": [
      "Processing month: 2002-04-01 ...\n"
     ]
    },
    {
     "name": "stderr",
     "output_type": "stream",
     "text": [
      "                                                                                \r"
     ]
    },
    {
     "name": "stdout",
     "output_type": "stream",
     "text": [
      "Processing month: 2002-05-01 ...\n"
     ]
    },
    {
     "name": "stderr",
     "output_type": "stream",
     "text": [
      "                                                                                \r"
     ]
    },
    {
     "name": "stdout",
     "output_type": "stream",
     "text": [
      "Processing month: 2002-06-01 ...\n"
     ]
    },
    {
     "name": "stderr",
     "output_type": "stream",
     "text": [
      "                                                                                \r"
     ]
    },
    {
     "name": "stdout",
     "output_type": "stream",
     "text": [
      "Processing month: 2002-07-01 ...\n"
     ]
    },
    {
     "name": "stderr",
     "output_type": "stream",
     "text": [
      "                                                                                \r"
     ]
    },
    {
     "name": "stdout",
     "output_type": "stream",
     "text": [
      "Processing month: 2002-08-01 ...\n"
     ]
    },
    {
     "name": "stderr",
     "output_type": "stream",
     "text": [
      "                                                                                \r"
     ]
    },
    {
     "name": "stdout",
     "output_type": "stream",
     "text": [
      "Processing month: 2002-09-01 ...\n"
     ]
    },
    {
     "name": "stderr",
     "output_type": "stream",
     "text": [
      "                                                                                \r"
     ]
    },
    {
     "name": "stdout",
     "output_type": "stream",
     "text": [
      "Processing month: 2002-10-01 ...\n"
     ]
    },
    {
     "name": "stderr",
     "output_type": "stream",
     "text": [
      "                                                                                \r"
     ]
    },
    {
     "name": "stdout",
     "output_type": "stream",
     "text": [
      "Processing month: 2002-11-01 ...\n"
     ]
    },
    {
     "name": "stderr",
     "output_type": "stream",
     "text": [
      "                                                                                \r"
     ]
    },
    {
     "name": "stdout",
     "output_type": "stream",
     "text": [
      "Processing month: 2002-12-01 ...\n"
     ]
    },
    {
     "name": "stderr",
     "output_type": "stream",
     "text": [
      "                                                                                \r"
     ]
    },
    {
     "name": "stdout",
     "output_type": "stream",
     "text": [
      "Processing month: 2003-01-01 ...\n"
     ]
    },
    {
     "name": "stderr",
     "output_type": "stream",
     "text": [
      "                                                                                \r"
     ]
    },
    {
     "name": "stdout",
     "output_type": "stream",
     "text": [
      "Processing month: 2003-02-01 ...\n"
     ]
    },
    {
     "name": "stderr",
     "output_type": "stream",
     "text": [
      "                                                                                \r"
     ]
    },
    {
     "name": "stdout",
     "output_type": "stream",
     "text": [
      "Processing month: 2003-03-01 ...\n"
     ]
    },
    {
     "name": "stderr",
     "output_type": "stream",
     "text": [
      "                                                                                \r"
     ]
    },
    {
     "name": "stdout",
     "output_type": "stream",
     "text": [
      "Processing month: 2003-04-01 ...\n"
     ]
    },
    {
     "name": "stderr",
     "output_type": "stream",
     "text": [
      "                                                                                \r"
     ]
    },
    {
     "name": "stdout",
     "output_type": "stream",
     "text": [
      "Processing month: 2003-05-01 ...\n"
     ]
    },
    {
     "name": "stderr",
     "output_type": "stream",
     "text": [
      "                                                                                \r"
     ]
    },
    {
     "name": "stdout",
     "output_type": "stream",
     "text": [
      "Processing month: 2003-06-01 ...\n"
     ]
    },
    {
     "name": "stderr",
     "output_type": "stream",
     "text": [
      "                                                                                \r"
     ]
    },
    {
     "name": "stdout",
     "output_type": "stream",
     "text": [
      "Processing month: 2003-07-01 ...\n"
     ]
    },
    {
     "name": "stderr",
     "output_type": "stream",
     "text": [
      "                                                                                \r"
     ]
    },
    {
     "name": "stdout",
     "output_type": "stream",
     "text": [
      "Processing month: 2003-08-01 ...\n"
     ]
    },
    {
     "name": "stderr",
     "output_type": "stream",
     "text": [
      "                                                                                \r"
     ]
    },
    {
     "name": "stdout",
     "output_type": "stream",
     "text": [
      "Processing month: 2003-09-01 ...\n"
     ]
    },
    {
     "name": "stderr",
     "output_type": "stream",
     "text": [
      "                                                                                \r"
     ]
    },
    {
     "name": "stdout",
     "output_type": "stream",
     "text": [
      "Processing month: 2003-10-01 ...\n"
     ]
    },
    {
     "name": "stderr",
     "output_type": "stream",
     "text": [
      "                                                                                \r"
     ]
    },
    {
     "name": "stdout",
     "output_type": "stream",
     "text": [
      "Processing month: 2003-11-01 ...\n"
     ]
    },
    {
     "name": "stderr",
     "output_type": "stream",
     "text": [
      "                                                                                \r"
     ]
    },
    {
     "name": "stdout",
     "output_type": "stream",
     "text": [
      "Processing month: 2003-12-01 ...\n"
     ]
    },
    {
     "name": "stderr",
     "output_type": "stream",
     "text": [
      "                                                                                \r"
     ]
    },
    {
     "name": "stdout",
     "output_type": "stream",
     "text": [
      "Processing month: 2004-01-01 ...\n"
     ]
    },
    {
     "name": "stderr",
     "output_type": "stream",
     "text": [
      "                                                                                \r"
     ]
    },
    {
     "name": "stdout",
     "output_type": "stream",
     "text": [
      "Processing month: 2004-02-01 ...\n"
     ]
    },
    {
     "name": "stderr",
     "output_type": "stream",
     "text": [
      "                                                                                \r"
     ]
    },
    {
     "name": "stdout",
     "output_type": "stream",
     "text": [
      "Processing month: 2004-03-01 ...\n"
     ]
    },
    {
     "name": "stderr",
     "output_type": "stream",
     "text": [
      "                                                                                \r"
     ]
    },
    {
     "name": "stdout",
     "output_type": "stream",
     "text": [
      "Processing month: 2004-04-01 ...\n"
     ]
    },
    {
     "name": "stderr",
     "output_type": "stream",
     "text": [
      "                                                                                \r"
     ]
    },
    {
     "name": "stdout",
     "output_type": "stream",
     "text": [
      "Processing month: 2004-05-01 ...\n"
     ]
    },
    {
     "name": "stderr",
     "output_type": "stream",
     "text": [
      "                                                                                \r"
     ]
    },
    {
     "name": "stdout",
     "output_type": "stream",
     "text": [
      "Processing month: 2004-06-01 ...\n"
     ]
    },
    {
     "name": "stderr",
     "output_type": "stream",
     "text": [
      "                                                                                \r"
     ]
    },
    {
     "name": "stdout",
     "output_type": "stream",
     "text": [
      "Processing month: 2004-07-01 ...\n"
     ]
    },
    {
     "name": "stderr",
     "output_type": "stream",
     "text": [
      "                                                                                \r"
     ]
    },
    {
     "name": "stdout",
     "output_type": "stream",
     "text": [
      "Processing month: 2004-08-01 ...\n"
     ]
    },
    {
     "name": "stderr",
     "output_type": "stream",
     "text": [
      "                                                                                \r"
     ]
    },
    {
     "name": "stdout",
     "output_type": "stream",
     "text": [
      "Processing month: 2004-09-01 ...\n"
     ]
    },
    {
     "name": "stderr",
     "output_type": "stream",
     "text": [
      "                                                                                \r"
     ]
    },
    {
     "name": "stdout",
     "output_type": "stream",
     "text": [
      "Processing month: 2004-10-01 ...\n"
     ]
    },
    {
     "name": "stderr",
     "output_type": "stream",
     "text": [
      "                                                                                \r"
     ]
    },
    {
     "name": "stdout",
     "output_type": "stream",
     "text": [
      "Processing month: 2004-11-01 ...\n"
     ]
    },
    {
     "name": "stderr",
     "output_type": "stream",
     "text": [
      "                                                                                \r"
     ]
    },
    {
     "name": "stdout",
     "output_type": "stream",
     "text": [
      "Processing month: 2004-12-01 ...\n"
     ]
    },
    {
     "name": "stderr",
     "output_type": "stream",
     "text": [
      "                                                                                \r"
     ]
    },
    {
     "name": "stdout",
     "output_type": "stream",
     "text": [
      "Processing month: 2005-01-01 ...\n"
     ]
    },
    {
     "name": "stderr",
     "output_type": "stream",
     "text": [
      "                                                                                \r"
     ]
    },
    {
     "name": "stdout",
     "output_type": "stream",
     "text": [
      "Processing month: 2005-02-01 ...\n"
     ]
    },
    {
     "name": "stderr",
     "output_type": "stream",
     "text": [
      "                                                                                \r"
     ]
    },
    {
     "name": "stdout",
     "output_type": "stream",
     "text": [
      "Processing month: 2005-03-01 ...\n"
     ]
    },
    {
     "name": "stderr",
     "output_type": "stream",
     "text": [
      "                                                                                \r"
     ]
    },
    {
     "name": "stdout",
     "output_type": "stream",
     "text": [
      "Processing month: 2005-04-01 ...\n"
     ]
    },
    {
     "name": "stderr",
     "output_type": "stream",
     "text": [
      "                                                                                \r"
     ]
    },
    {
     "name": "stdout",
     "output_type": "stream",
     "text": [
      "Processing month: 2005-05-01 ...\n"
     ]
    },
    {
     "name": "stderr",
     "output_type": "stream",
     "text": [
      "                                                                                \r"
     ]
    },
    {
     "name": "stdout",
     "output_type": "stream",
     "text": [
      "Processing month: 2005-06-01 ...\n"
     ]
    },
    {
     "name": "stderr",
     "output_type": "stream",
     "text": [
      "                                                                                \r"
     ]
    },
    {
     "name": "stdout",
     "output_type": "stream",
     "text": [
      "Processing month: 2005-07-01 ...\n"
     ]
    },
    {
     "name": "stderr",
     "output_type": "stream",
     "text": [
      "                                                                                \r"
     ]
    },
    {
     "name": "stdout",
     "output_type": "stream",
     "text": [
      "Processing month: 2005-08-01 ...\n"
     ]
    },
    {
     "name": "stderr",
     "output_type": "stream",
     "text": [
      "                                                                                \r"
     ]
    },
    {
     "name": "stdout",
     "output_type": "stream",
     "text": [
      "Processing month: 2005-09-01 ...\n"
     ]
    },
    {
     "name": "stderr",
     "output_type": "stream",
     "text": [
      "                                                                                \r"
     ]
    },
    {
     "name": "stdout",
     "output_type": "stream",
     "text": [
      "Processing month: 2005-10-01 ...\n"
     ]
    },
    {
     "name": "stderr",
     "output_type": "stream",
     "text": [
      "                                                                                \r"
     ]
    },
    {
     "name": "stdout",
     "output_type": "stream",
     "text": [
      "Processing month: 2005-11-01 ...\n"
     ]
    },
    {
     "name": "stderr",
     "output_type": "stream",
     "text": [
      "                                                                                \r"
     ]
    },
    {
     "name": "stdout",
     "output_type": "stream",
     "text": [
      "Processing month: 2005-12-01 ...\n"
     ]
    },
    {
     "name": "stderr",
     "output_type": "stream",
     "text": [
      "                                                                                \r"
     ]
    },
    {
     "name": "stdout",
     "output_type": "stream",
     "text": [
      "Processing month: 2006-01-01 ...\n"
     ]
    },
    {
     "name": "stderr",
     "output_type": "stream",
     "text": [
      "                                                                                \r"
     ]
    },
    {
     "name": "stdout",
     "output_type": "stream",
     "text": [
      "Processing month: 2006-02-01 ...\n"
     ]
    },
    {
     "name": "stderr",
     "output_type": "stream",
     "text": [
      "                                                                                \r"
     ]
    },
    {
     "name": "stdout",
     "output_type": "stream",
     "text": [
      "Processing month: 2006-03-01 ...\n"
     ]
    },
    {
     "name": "stderr",
     "output_type": "stream",
     "text": [
      "                                                                                \r"
     ]
    },
    {
     "name": "stdout",
     "output_type": "stream",
     "text": [
      "Processing month: 2006-04-01 ...\n"
     ]
    },
    {
     "name": "stderr",
     "output_type": "stream",
     "text": [
      "                                                                                \r"
     ]
    },
    {
     "name": "stdout",
     "output_type": "stream",
     "text": [
      "Processing month: 2006-05-01 ...\n"
     ]
    },
    {
     "name": "stderr",
     "output_type": "stream",
     "text": [
      "                                                                                \r"
     ]
    },
    {
     "name": "stdout",
     "output_type": "stream",
     "text": [
      "Processing month: 2006-06-01 ...\n"
     ]
    },
    {
     "name": "stderr",
     "output_type": "stream",
     "text": [
      "                                                                                \r"
     ]
    },
    {
     "name": "stdout",
     "output_type": "stream",
     "text": [
      "Processing month: 2006-07-01 ...\n"
     ]
    },
    {
     "name": "stderr",
     "output_type": "stream",
     "text": [
      "                                                                                \r"
     ]
    },
    {
     "name": "stdout",
     "output_type": "stream",
     "text": [
      "Processing month: 2006-08-01 ...\n"
     ]
    },
    {
     "name": "stderr",
     "output_type": "stream",
     "text": [
      "                                                                                \r"
     ]
    },
    {
     "name": "stdout",
     "output_type": "stream",
     "text": [
      "Processing month: 2006-09-01 ...\n"
     ]
    },
    {
     "name": "stderr",
     "output_type": "stream",
     "text": [
      "                                                                                \r"
     ]
    },
    {
     "name": "stdout",
     "output_type": "stream",
     "text": [
      "Processing month: 2006-10-01 ...\n"
     ]
    },
    {
     "name": "stderr",
     "output_type": "stream",
     "text": [
      "                                                                                \r"
     ]
    },
    {
     "name": "stdout",
     "output_type": "stream",
     "text": [
      "Processing month: 2006-11-01 ...\n"
     ]
    },
    {
     "name": "stderr",
     "output_type": "stream",
     "text": [
      "                                                                                \r"
     ]
    },
    {
     "name": "stdout",
     "output_type": "stream",
     "text": [
      "Processing month: 2006-12-01 ...\n"
     ]
    },
    {
     "name": "stderr",
     "output_type": "stream",
     "text": [
      "                                                                                \r"
     ]
    },
    {
     "name": "stdout",
     "output_type": "stream",
     "text": [
      "Processing month: 2007-01-01 ...\n"
     ]
    },
    {
     "name": "stderr",
     "output_type": "stream",
     "text": [
      "                                                                                \r"
     ]
    },
    {
     "name": "stdout",
     "output_type": "stream",
     "text": [
      "Processing month: 2007-02-01 ...\n"
     ]
    },
    {
     "name": "stderr",
     "output_type": "stream",
     "text": [
      "                                                                                \r"
     ]
    },
    {
     "name": "stdout",
     "output_type": "stream",
     "text": [
      "Processing month: 2007-03-01 ...\n"
     ]
    },
    {
     "name": "stderr",
     "output_type": "stream",
     "text": [
      "                                                                                \r"
     ]
    },
    {
     "name": "stdout",
     "output_type": "stream",
     "text": [
      "Processing month: 2007-04-01 ...\n"
     ]
    },
    {
     "name": "stderr",
     "output_type": "stream",
     "text": [
      "                                                                                \r"
     ]
    },
    {
     "name": "stdout",
     "output_type": "stream",
     "text": [
      "Processing month: 2007-05-01 ...\n"
     ]
    },
    {
     "name": "stderr",
     "output_type": "stream",
     "text": [
      "                                                                                \r"
     ]
    },
    {
     "name": "stdout",
     "output_type": "stream",
     "text": [
      "Processing month: 2007-06-01 ...\n"
     ]
    },
    {
     "name": "stderr",
     "output_type": "stream",
     "text": [
      "                                                                                \r"
     ]
    },
    {
     "name": "stdout",
     "output_type": "stream",
     "text": [
      "Processing month: 2007-07-01 ...\n"
     ]
    },
    {
     "name": "stderr",
     "output_type": "stream",
     "text": [
      "                                                                                \r"
     ]
    },
    {
     "name": "stdout",
     "output_type": "stream",
     "text": [
      "Processing month: 2007-08-01 ...\n"
     ]
    },
    {
     "name": "stderr",
     "output_type": "stream",
     "text": [
      "                                                                                \r"
     ]
    },
    {
     "name": "stdout",
     "output_type": "stream",
     "text": [
      "Processing month: 2007-09-01 ...\n"
     ]
    },
    {
     "name": "stderr",
     "output_type": "stream",
     "text": [
      "                                                                                \r"
     ]
    },
    {
     "name": "stdout",
     "output_type": "stream",
     "text": [
      "Processing month: 2007-10-01 ...\n"
     ]
    },
    {
     "name": "stderr",
     "output_type": "stream",
     "text": [
      "                                                                                \r"
     ]
    },
    {
     "name": "stdout",
     "output_type": "stream",
     "text": [
      "Processing month: 2007-11-01 ...\n"
     ]
    },
    {
     "name": "stderr",
     "output_type": "stream",
     "text": [
      "                                                                                \r"
     ]
    },
    {
     "name": "stdout",
     "output_type": "stream",
     "text": [
      "Processing month: 2007-12-01 ...\n"
     ]
    },
    {
     "name": "stderr",
     "output_type": "stream",
     "text": [
      "                                                                                \r"
     ]
    },
    {
     "name": "stdout",
     "output_type": "stream",
     "text": [
      "Processing month: 2008-01-01 ...\n"
     ]
    },
    {
     "name": "stderr",
     "output_type": "stream",
     "text": [
      "                                                                                \r"
     ]
    },
    {
     "name": "stdout",
     "output_type": "stream",
     "text": [
      "Processing month: 2008-02-01 ...\n"
     ]
    },
    {
     "name": "stderr",
     "output_type": "stream",
     "text": [
      "                                                                                \r"
     ]
    },
    {
     "name": "stdout",
     "output_type": "stream",
     "text": [
      "Processing month: 2008-03-01 ...\n"
     ]
    },
    {
     "name": "stderr",
     "output_type": "stream",
     "text": [
      "                                                                                \r"
     ]
    },
    {
     "name": "stdout",
     "output_type": "stream",
     "text": [
      "Processing month: 2008-04-01 ...\n"
     ]
    },
    {
     "name": "stderr",
     "output_type": "stream",
     "text": [
      "                                                                                \r"
     ]
    },
    {
     "name": "stdout",
     "output_type": "stream",
     "text": [
      "Processing month: 2008-05-01 ...\n"
     ]
    },
    {
     "name": "stderr",
     "output_type": "stream",
     "text": [
      "                                                                                \r"
     ]
    },
    {
     "name": "stdout",
     "output_type": "stream",
     "text": [
      "Processing month: 2008-06-01 ...\n"
     ]
    },
    {
     "name": "stderr",
     "output_type": "stream",
     "text": [
      "                                                                                \r"
     ]
    },
    {
     "name": "stdout",
     "output_type": "stream",
     "text": [
      "Processing month: 2008-07-01 ...\n"
     ]
    },
    {
     "name": "stderr",
     "output_type": "stream",
     "text": [
      "                                                                                \r"
     ]
    },
    {
     "name": "stdout",
     "output_type": "stream",
     "text": [
      "Processing month: 2008-08-01 ...\n"
     ]
    },
    {
     "name": "stderr",
     "output_type": "stream",
     "text": [
      "                                                                                \r"
     ]
    },
    {
     "name": "stdout",
     "output_type": "stream",
     "text": [
      "Processing month: 2008-09-01 ...\n"
     ]
    },
    {
     "name": "stderr",
     "output_type": "stream",
     "text": [
      "                                                                                \r"
     ]
    },
    {
     "name": "stdout",
     "output_type": "stream",
     "text": [
      "Processing month: 2008-10-01 ...\n"
     ]
    },
    {
     "name": "stderr",
     "output_type": "stream",
     "text": [
      "                                                                                \r"
     ]
    },
    {
     "name": "stdout",
     "output_type": "stream",
     "text": [
      "Processing month: 2008-11-01 ...\n"
     ]
    },
    {
     "name": "stderr",
     "output_type": "stream",
     "text": [
      "                                                                                \r"
     ]
    },
    {
     "name": "stdout",
     "output_type": "stream",
     "text": [
      "Processing month: 2008-12-01 ...\n"
     ]
    },
    {
     "name": "stderr",
     "output_type": "stream",
     "text": [
      "                                                                                \r"
     ]
    },
    {
     "name": "stdout",
     "output_type": "stream",
     "text": [
      "Processing month: 2009-01-01 ...\n"
     ]
    },
    {
     "name": "stderr",
     "output_type": "stream",
     "text": [
      "                                                                                \r"
     ]
    },
    {
     "name": "stdout",
     "output_type": "stream",
     "text": [
      "Processing month: 2009-02-01 ...\n"
     ]
    },
    {
     "name": "stderr",
     "output_type": "stream",
     "text": [
      "                                                                                \r"
     ]
    },
    {
     "name": "stdout",
     "output_type": "stream",
     "text": [
      "Processing month: 2009-03-01 ...\n"
     ]
    },
    {
     "name": "stderr",
     "output_type": "stream",
     "text": [
      "                                                                                \r"
     ]
    },
    {
     "name": "stdout",
     "output_type": "stream",
     "text": [
      "Processing month: 2009-04-01 ...\n"
     ]
    },
    {
     "name": "stderr",
     "output_type": "stream",
     "text": [
      "                                                                                \r"
     ]
    },
    {
     "name": "stdout",
     "output_type": "stream",
     "text": [
      "Processing month: 2009-05-01 ...\n"
     ]
    },
    {
     "name": "stderr",
     "output_type": "stream",
     "text": [
      "                                                                                \r"
     ]
    },
    {
     "name": "stdout",
     "output_type": "stream",
     "text": [
      "Processing month: 2009-06-01 ...\n"
     ]
    },
    {
     "name": "stderr",
     "output_type": "stream",
     "text": [
      "                                                                                \r"
     ]
    },
    {
     "name": "stdout",
     "output_type": "stream",
     "text": [
      "Processing month: 2009-07-01 ...\n"
     ]
    },
    {
     "name": "stderr",
     "output_type": "stream",
     "text": [
      "                                                                                \r"
     ]
    },
    {
     "name": "stdout",
     "output_type": "stream",
     "text": [
      "Processing month: 2009-08-01 ...\n"
     ]
    },
    {
     "name": "stderr",
     "output_type": "stream",
     "text": [
      "                                                                                \r"
     ]
    },
    {
     "name": "stdout",
     "output_type": "stream",
     "text": [
      "Processing month: 2009-09-01 ...\n"
     ]
    },
    {
     "name": "stderr",
     "output_type": "stream",
     "text": [
      "                                                                                \r"
     ]
    },
    {
     "name": "stdout",
     "output_type": "stream",
     "text": [
      "Processing month: 2009-10-01 ...\n"
     ]
    },
    {
     "name": "stderr",
     "output_type": "stream",
     "text": [
      "                                                                                \r"
     ]
    },
    {
     "name": "stdout",
     "output_type": "stream",
     "text": [
      "Processing month: 2009-11-01 ...\n"
     ]
    },
    {
     "name": "stderr",
     "output_type": "stream",
     "text": [
      "                                                                                \r"
     ]
    },
    {
     "name": "stdout",
     "output_type": "stream",
     "text": [
      "Processing month: 2009-12-01 ...\n"
     ]
    },
    {
     "name": "stderr",
     "output_type": "stream",
     "text": [
      "                                                                                \r"
     ]
    },
    {
     "name": "stdout",
     "output_type": "stream",
     "text": [
      "Processing month: 2010-01-01 ...\n"
     ]
    },
    {
     "name": "stderr",
     "output_type": "stream",
     "text": [
      "                                                                                \r"
     ]
    },
    {
     "name": "stdout",
     "output_type": "stream",
     "text": [
      "Processing month: 2010-02-01 ...\n"
     ]
    },
    {
     "name": "stderr",
     "output_type": "stream",
     "text": [
      "                                                                                \r"
     ]
    },
    {
     "name": "stdout",
     "output_type": "stream",
     "text": [
      "Processing month: 2010-03-01 ...\n"
     ]
    },
    {
     "name": "stderr",
     "output_type": "stream",
     "text": [
      "                                                                                \r"
     ]
    },
    {
     "name": "stdout",
     "output_type": "stream",
     "text": [
      "Processing month: 2010-04-01 ...\n"
     ]
    },
    {
     "name": "stderr",
     "output_type": "stream",
     "text": [
      "                                                                                \r"
     ]
    },
    {
     "name": "stdout",
     "output_type": "stream",
     "text": [
      "Processing month: 2010-05-01 ...\n"
     ]
    },
    {
     "name": "stderr",
     "output_type": "stream",
     "text": [
      "                                                                                \r"
     ]
    },
    {
     "name": "stdout",
     "output_type": "stream",
     "text": [
      "Processing month: 2010-06-01 ...\n"
     ]
    },
    {
     "name": "stderr",
     "output_type": "stream",
     "text": [
      "                                                                                \r"
     ]
    },
    {
     "name": "stdout",
     "output_type": "stream",
     "text": [
      "Processing month: 2010-07-01 ...\n"
     ]
    },
    {
     "name": "stderr",
     "output_type": "stream",
     "text": [
      "                                                                                \r"
     ]
    },
    {
     "name": "stdout",
     "output_type": "stream",
     "text": [
      "Processing month: 2010-08-01 ...\n"
     ]
    },
    {
     "name": "stderr",
     "output_type": "stream",
     "text": [
      "                                                                                \r"
     ]
    },
    {
     "name": "stdout",
     "output_type": "stream",
     "text": [
      "Processing month: 2010-09-01 ...\n"
     ]
    },
    {
     "name": "stderr",
     "output_type": "stream",
     "text": [
      "                                                                                \r"
     ]
    },
    {
     "name": "stdout",
     "output_type": "stream",
     "text": [
      "Processing month: 2010-10-01 ...\n"
     ]
    },
    {
     "name": "stderr",
     "output_type": "stream",
     "text": [
      "                                                                                \r"
     ]
    },
    {
     "name": "stdout",
     "output_type": "stream",
     "text": [
      "Processing month: 2010-11-01 ...\n"
     ]
    },
    {
     "name": "stderr",
     "output_type": "stream",
     "text": [
      "                                                                                \r"
     ]
    },
    {
     "name": "stdout",
     "output_type": "stream",
     "text": [
      "Processing month: 2010-12-01 ...\n"
     ]
    },
    {
     "name": "stderr",
     "output_type": "stream",
     "text": [
      "                                                                                \r"
     ]
    },
    {
     "name": "stdout",
     "output_type": "stream",
     "text": [
      "Processing month: 2011-01-01 ...\n"
     ]
    },
    {
     "name": "stderr",
     "output_type": "stream",
     "text": [
      "                                                                                \r"
     ]
    },
    {
     "name": "stdout",
     "output_type": "stream",
     "text": [
      "Processing month: 2011-02-01 ...\n"
     ]
    },
    {
     "name": "stderr",
     "output_type": "stream",
     "text": [
      "                                                                                \r"
     ]
    },
    {
     "name": "stdout",
     "output_type": "stream",
     "text": [
      "Processing month: 2011-03-01 ...\n"
     ]
    },
    {
     "name": "stderr",
     "output_type": "stream",
     "text": [
      "                                                                                \r"
     ]
    },
    {
     "name": "stdout",
     "output_type": "stream",
     "text": [
      "Processing month: 2011-04-01 ...\n"
     ]
    },
    {
     "name": "stderr",
     "output_type": "stream",
     "text": [
      "                                                                                \r"
     ]
    },
    {
     "name": "stdout",
     "output_type": "stream",
     "text": [
      "Processing month: 2011-05-01 ...\n"
     ]
    },
    {
     "name": "stderr",
     "output_type": "stream",
     "text": [
      "                                                                                \r"
     ]
    },
    {
     "name": "stdout",
     "output_type": "stream",
     "text": [
      "Processing month: 2011-06-01 ...\n"
     ]
    },
    {
     "name": "stderr",
     "output_type": "stream",
     "text": [
      "                                                                                \r"
     ]
    },
    {
     "name": "stdout",
     "output_type": "stream",
     "text": [
      "Processing month: 2011-07-01 ...\n"
     ]
    },
    {
     "name": "stderr",
     "output_type": "stream",
     "text": [
      "                                                                                \r"
     ]
    },
    {
     "name": "stdout",
     "output_type": "stream",
     "text": [
      "Processing month: 2011-08-01 ...\n"
     ]
    },
    {
     "name": "stderr",
     "output_type": "stream",
     "text": [
      "                                                                                \r"
     ]
    },
    {
     "name": "stdout",
     "output_type": "stream",
     "text": [
      "Processing month: 2011-09-01 ...\n"
     ]
    },
    {
     "name": "stderr",
     "output_type": "stream",
     "text": [
      "                                                                                \r"
     ]
    },
    {
     "name": "stdout",
     "output_type": "stream",
     "text": [
      "Processing month: 2011-10-01 ...\n"
     ]
    },
    {
     "name": "stderr",
     "output_type": "stream",
     "text": [
      "                                                                                \r"
     ]
    },
    {
     "name": "stdout",
     "output_type": "stream",
     "text": [
      "Processing month: 2011-11-01 ...\n"
     ]
    },
    {
     "name": "stderr",
     "output_type": "stream",
     "text": [
      "                                                                                \r"
     ]
    },
    {
     "name": "stdout",
     "output_type": "stream",
     "text": [
      "Processing month: 2011-12-01 ...\n"
     ]
    },
    {
     "name": "stderr",
     "output_type": "stream",
     "text": [
      "                                                                                \r"
     ]
    },
    {
     "name": "stdout",
     "output_type": "stream",
     "text": [
      "Processing month: 2012-01-01 ...\n"
     ]
    },
    {
     "name": "stderr",
     "output_type": "stream",
     "text": [
      "                                                                                \r"
     ]
    },
    {
     "name": "stdout",
     "output_type": "stream",
     "text": [
      "Processing month: 2012-02-01 ...\n"
     ]
    },
    {
     "name": "stderr",
     "output_type": "stream",
     "text": [
      "                                                                                \r"
     ]
    },
    {
     "name": "stdout",
     "output_type": "stream",
     "text": [
      "Processing month: 2012-03-01 ...\n"
     ]
    },
    {
     "name": "stderr",
     "output_type": "stream",
     "text": [
      "                                                                                \r"
     ]
    },
    {
     "name": "stdout",
     "output_type": "stream",
     "text": [
      "Processing month: 2012-04-01 ...\n"
     ]
    },
    {
     "name": "stderr",
     "output_type": "stream",
     "text": [
      "                                                                                \r"
     ]
    },
    {
     "name": "stdout",
     "output_type": "stream",
     "text": [
      "Processing month: 2012-05-01 ...\n"
     ]
    },
    {
     "name": "stderr",
     "output_type": "stream",
     "text": [
      "                                                                                \r"
     ]
    },
    {
     "name": "stdout",
     "output_type": "stream",
     "text": [
      "Processing month: 2012-06-01 ...\n"
     ]
    },
    {
     "name": "stderr",
     "output_type": "stream",
     "text": [
      "                                                                                \r"
     ]
    },
    {
     "name": "stdout",
     "output_type": "stream",
     "text": [
      "Processing month: 2012-07-01 ...\n"
     ]
    },
    {
     "name": "stderr",
     "output_type": "stream",
     "text": [
      "                                                                                \r"
     ]
    },
    {
     "name": "stdout",
     "output_type": "stream",
     "text": [
      "Processing month: 2012-08-01 ...\n"
     ]
    },
    {
     "name": "stderr",
     "output_type": "stream",
     "text": [
      "                                                                                \r"
     ]
    },
    {
     "name": "stdout",
     "output_type": "stream",
     "text": [
      "Processing month: 2012-09-01 ...\n"
     ]
    },
    {
     "name": "stderr",
     "output_type": "stream",
     "text": [
      "                                                                                \r"
     ]
    },
    {
     "name": "stdout",
     "output_type": "stream",
     "text": [
      "Processing month: 2012-10-01 ...\n"
     ]
    },
    {
     "name": "stderr",
     "output_type": "stream",
     "text": [
      "                                                                                \r"
     ]
    },
    {
     "name": "stdout",
     "output_type": "stream",
     "text": [
      "Processing month: 2012-11-01 ...\n"
     ]
    },
    {
     "name": "stderr",
     "output_type": "stream",
     "text": [
      "                                                                                \r"
     ]
    },
    {
     "name": "stdout",
     "output_type": "stream",
     "text": [
      "Processing month: 2012-12-01 ...\n"
     ]
    },
    {
     "name": "stderr",
     "output_type": "stream",
     "text": [
      "                                                                                \r"
     ]
    },
    {
     "name": "stdout",
     "output_type": "stream",
     "text": [
      "Processing month: 2013-01-01 ...\n"
     ]
    },
    {
     "name": "stderr",
     "output_type": "stream",
     "text": [
      "                                                                                \r"
     ]
    },
    {
     "name": "stdout",
     "output_type": "stream",
     "text": [
      "Processing month: 2013-02-01 ...\n"
     ]
    },
    {
     "name": "stderr",
     "output_type": "stream",
     "text": [
      "                                                                                \r"
     ]
    },
    {
     "name": "stdout",
     "output_type": "stream",
     "text": [
      "Processing month: 2013-03-01 ...\n"
     ]
    },
    {
     "name": "stderr",
     "output_type": "stream",
     "text": [
      "                                                                                \r"
     ]
    },
    {
     "name": "stdout",
     "output_type": "stream",
     "text": [
      "Processing month: 2013-04-01 ...\n"
     ]
    },
    {
     "name": "stderr",
     "output_type": "stream",
     "text": [
      "                                                                                \r"
     ]
    },
    {
     "name": "stdout",
     "output_type": "stream",
     "text": [
      "Processing month: 2013-05-01 ...\n"
     ]
    },
    {
     "name": "stderr",
     "output_type": "stream",
     "text": [
      "                                                                                \r"
     ]
    },
    {
     "name": "stdout",
     "output_type": "stream",
     "text": [
      "Processing month: 2013-06-01 ...\n"
     ]
    },
    {
     "name": "stderr",
     "output_type": "stream",
     "text": [
      "                                                                                \r"
     ]
    },
    {
     "name": "stdout",
     "output_type": "stream",
     "text": [
      "Processing month: 2013-07-01 ...\n"
     ]
    },
    {
     "name": "stderr",
     "output_type": "stream",
     "text": [
      "                                                                                \r"
     ]
    },
    {
     "name": "stdout",
     "output_type": "stream",
     "text": [
      "Processing month: 2013-08-01 ...\n"
     ]
    },
    {
     "name": "stderr",
     "output_type": "stream",
     "text": [
      "                                                                                \r"
     ]
    },
    {
     "name": "stdout",
     "output_type": "stream",
     "text": [
      "Processing month: 2013-09-01 ...\n"
     ]
    },
    {
     "name": "stderr",
     "output_type": "stream",
     "text": [
      "                                                                                \r"
     ]
    },
    {
     "name": "stdout",
     "output_type": "stream",
     "text": [
      "Processing month: 2013-10-01 ...\n"
     ]
    },
    {
     "name": "stderr",
     "output_type": "stream",
     "text": [
      "                                                                                \r"
     ]
    },
    {
     "name": "stdout",
     "output_type": "stream",
     "text": [
      "Processing month: 2013-11-01 ...\n"
     ]
    },
    {
     "name": "stderr",
     "output_type": "stream",
     "text": [
      "                                                                                \r"
     ]
    },
    {
     "name": "stdout",
     "output_type": "stream",
     "text": [
      "Processing month: 2013-12-01 ...\n"
     ]
    },
    {
     "name": "stderr",
     "output_type": "stream",
     "text": [
      "                                                                                \r"
     ]
    },
    {
     "name": "stdout",
     "output_type": "stream",
     "text": [
      "Processing month: 2014-01-01 ...\n"
     ]
    },
    {
     "name": "stderr",
     "output_type": "stream",
     "text": [
      "                                                                                \r"
     ]
    },
    {
     "name": "stdout",
     "output_type": "stream",
     "text": [
      "Processing month: 2014-02-01 ...\n"
     ]
    },
    {
     "name": "stderr",
     "output_type": "stream",
     "text": [
      "                                                                                \r"
     ]
    },
    {
     "name": "stdout",
     "output_type": "stream",
     "text": [
      "Processing month: 2014-03-01 ...\n"
     ]
    },
    {
     "name": "stderr",
     "output_type": "stream",
     "text": [
      "                                                                                \r"
     ]
    },
    {
     "name": "stdout",
     "output_type": "stream",
     "text": [
      "Processing month: 2014-04-01 ...\n"
     ]
    },
    {
     "name": "stderr",
     "output_type": "stream",
     "text": [
      "                                                                                \r"
     ]
    },
    {
     "name": "stdout",
     "output_type": "stream",
     "text": [
      "Processing month: 2014-05-01 ...\n"
     ]
    },
    {
     "name": "stderr",
     "output_type": "stream",
     "text": [
      "                                                                                \r"
     ]
    },
    {
     "name": "stdout",
     "output_type": "stream",
     "text": [
      "Processing month: 2014-06-01 ...\n"
     ]
    },
    {
     "name": "stderr",
     "output_type": "stream",
     "text": [
      "                                                                                \r"
     ]
    },
    {
     "name": "stdout",
     "output_type": "stream",
     "text": [
      "Processing month: 2014-07-01 ...\n"
     ]
    },
    {
     "name": "stderr",
     "output_type": "stream",
     "text": [
      "                                                                                \r"
     ]
    },
    {
     "name": "stdout",
     "output_type": "stream",
     "text": [
      "Processing month: 2014-08-01 ...\n"
     ]
    },
    {
     "name": "stderr",
     "output_type": "stream",
     "text": [
      "                                                                                \r"
     ]
    },
    {
     "name": "stdout",
     "output_type": "stream",
     "text": [
      "Processing month: 2014-09-01 ...\n"
     ]
    },
    {
     "name": "stderr",
     "output_type": "stream",
     "text": [
      "                                                                                \r"
     ]
    },
    {
     "name": "stdout",
     "output_type": "stream",
     "text": [
      "Processing month: 2014-10-01 ...\n"
     ]
    },
    {
     "name": "stderr",
     "output_type": "stream",
     "text": [
      "                                                                                \r"
     ]
    },
    {
     "name": "stdout",
     "output_type": "stream",
     "text": [
      "Processing month: 2014-11-01 ...\n"
     ]
    },
    {
     "name": "stderr",
     "output_type": "stream",
     "text": [
      "                                                                                \r"
     ]
    },
    {
     "name": "stdout",
     "output_type": "stream",
     "text": [
      "Processing month: 2014-12-01 ...\n"
     ]
    },
    {
     "name": "stderr",
     "output_type": "stream",
     "text": [
      "                                                                                \r"
     ]
    },
    {
     "name": "stdout",
     "output_type": "stream",
     "text": [
      "Processing month: 2015-01-01 ...\n"
     ]
    },
    {
     "name": "stderr",
     "output_type": "stream",
     "text": [
      "                                                                                \r"
     ]
    },
    {
     "name": "stdout",
     "output_type": "stream",
     "text": [
      "Processing month: 2015-02-01 ...\n"
     ]
    },
    {
     "name": "stderr",
     "output_type": "stream",
     "text": [
      "                                                                                \r"
     ]
    },
    {
     "name": "stdout",
     "output_type": "stream",
     "text": [
      "Processing month: 2015-03-01 ...\n"
     ]
    },
    {
     "name": "stderr",
     "output_type": "stream",
     "text": [
      "                                                                                \r"
     ]
    },
    {
     "name": "stdout",
     "output_type": "stream",
     "text": [
      "Processing month: 2015-04-01 ...\n"
     ]
    },
    {
     "name": "stderr",
     "output_type": "stream",
     "text": [
      "                                                                                \r"
     ]
    },
    {
     "name": "stdout",
     "output_type": "stream",
     "text": [
      "Processing month: 2015-05-01 ...\n"
     ]
    },
    {
     "name": "stderr",
     "output_type": "stream",
     "text": [
      "                                                                                \r"
     ]
    },
    {
     "name": "stdout",
     "output_type": "stream",
     "text": [
      "Processing month: 2015-06-01 ...\n"
     ]
    },
    {
     "name": "stderr",
     "output_type": "stream",
     "text": [
      "                                                                                \r"
     ]
    },
    {
     "name": "stdout",
     "output_type": "stream",
     "text": [
      "Processing month: 2015-07-01 ...\n"
     ]
    },
    {
     "name": "stderr",
     "output_type": "stream",
     "text": [
      "                                                                                \r"
     ]
    },
    {
     "name": "stdout",
     "output_type": "stream",
     "text": [
      "Processing month: 2015-08-01 ...\n"
     ]
    },
    {
     "name": "stderr",
     "output_type": "stream",
     "text": [
      "                                                                                \r"
     ]
    },
    {
     "name": "stdout",
     "output_type": "stream",
     "text": [
      "Processing month: 2015-09-01 ...\n"
     ]
    },
    {
     "name": "stderr",
     "output_type": "stream",
     "text": [
      "                                                                                \r"
     ]
    },
    {
     "name": "stdout",
     "output_type": "stream",
     "text": [
      "Processing month: 2015-10-01 ...\n"
     ]
    },
    {
     "name": "stderr",
     "output_type": "stream",
     "text": [
      "                                                                                \r"
     ]
    },
    {
     "name": "stdout",
     "output_type": "stream",
     "text": [
      "Processing month: 2015-11-01 ...\n"
     ]
    },
    {
     "name": "stderr",
     "output_type": "stream",
     "text": [
      "                                                                                \r"
     ]
    },
    {
     "name": "stdout",
     "output_type": "stream",
     "text": [
      "Processing month: 2015-12-01 ...\n"
     ]
    },
    {
     "name": "stderr",
     "output_type": "stream",
     "text": [
      "                                                                                \r"
     ]
    },
    {
     "name": "stdout",
     "output_type": "stream",
     "text": [
      "Processing month: 2016-01-01 ...\n"
     ]
    },
    {
     "name": "stderr",
     "output_type": "stream",
     "text": [
      "                                                                                \r"
     ]
    },
    {
     "name": "stdout",
     "output_type": "stream",
     "text": [
      "Processing month: 2016-02-01 ...\n"
     ]
    },
    {
     "name": "stderr",
     "output_type": "stream",
     "text": [
      "                                                                                \r"
     ]
    },
    {
     "name": "stdout",
     "output_type": "stream",
     "text": [
      "Processing month: 2016-03-01 ...\n"
     ]
    },
    {
     "name": "stderr",
     "output_type": "stream",
     "text": [
      "                                                                                \r"
     ]
    },
    {
     "name": "stdout",
     "output_type": "stream",
     "text": [
      "Processing month: 2016-04-01 ...\n"
     ]
    },
    {
     "name": "stderr",
     "output_type": "stream",
     "text": [
      "                                                                                \r"
     ]
    },
    {
     "name": "stdout",
     "output_type": "stream",
     "text": [
      "Processing month: 2016-05-01 ...\n"
     ]
    },
    {
     "name": "stderr",
     "output_type": "stream",
     "text": [
      "                                                                                \r"
     ]
    },
    {
     "name": "stdout",
     "output_type": "stream",
     "text": [
      "Processing month: 2016-06-01 ...\n"
     ]
    },
    {
     "name": "stderr",
     "output_type": "stream",
     "text": [
      "                                                                                \r"
     ]
    },
    {
     "name": "stdout",
     "output_type": "stream",
     "text": [
      "Processing month: 2016-07-01 ...\n"
     ]
    },
    {
     "name": "stderr",
     "output_type": "stream",
     "text": [
      "                                                                                \r"
     ]
    },
    {
     "name": "stdout",
     "output_type": "stream",
     "text": [
      "Processing month: 2016-08-01 ...\n"
     ]
    },
    {
     "name": "stderr",
     "output_type": "stream",
     "text": [
      "                                                                                \r"
     ]
    },
    {
     "name": "stdout",
     "output_type": "stream",
     "text": [
      "Processing month: 2016-09-01 ...\n"
     ]
    },
    {
     "name": "stderr",
     "output_type": "stream",
     "text": [
      "                                                                                \r"
     ]
    },
    {
     "name": "stdout",
     "output_type": "stream",
     "text": [
      "Processing month: 2016-10-01 ...\n"
     ]
    },
    {
     "name": "stderr",
     "output_type": "stream",
     "text": [
      "                                                                                \r"
     ]
    },
    {
     "name": "stdout",
     "output_type": "stream",
     "text": [
      "Processing month: 2016-11-01 ...\n"
     ]
    },
    {
     "name": "stderr",
     "output_type": "stream",
     "text": [
      "                                                                                \r"
     ]
    },
    {
     "name": "stdout",
     "output_type": "stream",
     "text": [
      "Processing month: 2016-12-01 ...\n"
     ]
    },
    {
     "name": "stderr",
     "output_type": "stream",
     "text": [
      "                                                                                \r"
     ]
    },
    {
     "name": "stdout",
     "output_type": "stream",
     "text": [
      "Processing month: 2017-01-01 ...\n"
     ]
    },
    {
     "name": "stderr",
     "output_type": "stream",
     "text": [
      "                                                                                \r"
     ]
    },
    {
     "name": "stdout",
     "output_type": "stream",
     "text": [
      "Processing month: 2017-02-01 ...\n"
     ]
    },
    {
     "name": "stderr",
     "output_type": "stream",
     "text": [
      "                                                                                \r"
     ]
    },
    {
     "name": "stdout",
     "output_type": "stream",
     "text": [
      "Processing month: 2017-03-01 ...\n"
     ]
    },
    {
     "name": "stderr",
     "output_type": "stream",
     "text": [
      "                                                                                \r"
     ]
    },
    {
     "name": "stdout",
     "output_type": "stream",
     "text": [
      "Processing month: 2017-04-01 ...\n"
     ]
    },
    {
     "name": "stderr",
     "output_type": "stream",
     "text": [
      "                                                                                \r"
     ]
    },
    {
     "name": "stdout",
     "output_type": "stream",
     "text": [
      "Processing month: 2017-05-01 ...\n"
     ]
    },
    {
     "name": "stderr",
     "output_type": "stream",
     "text": [
      "                                                                                \r"
     ]
    },
    {
     "name": "stdout",
     "output_type": "stream",
     "text": [
      "Processing month: 2017-06-01 ...\n"
     ]
    },
    {
     "name": "stderr",
     "output_type": "stream",
     "text": [
      "                                                                                \r"
     ]
    },
    {
     "name": "stdout",
     "output_type": "stream",
     "text": [
      "Processing month: 2017-07-01 ...\n"
     ]
    },
    {
     "name": "stderr",
     "output_type": "stream",
     "text": [
      "                                                                                \r"
     ]
    },
    {
     "name": "stdout",
     "output_type": "stream",
     "text": [
      "Processing month: 2017-08-01 ...\n"
     ]
    },
    {
     "name": "stderr",
     "output_type": "stream",
     "text": [
      "                                                                                \r"
     ]
    },
    {
     "name": "stdout",
     "output_type": "stream",
     "text": [
      "Processing month: 2017-09-01 ...\n"
     ]
    },
    {
     "name": "stderr",
     "output_type": "stream",
     "text": [
      "                                                                                \r"
     ]
    },
    {
     "name": "stdout",
     "output_type": "stream",
     "text": [
      "Processing month: 2017-10-01 ...\n"
     ]
    },
    {
     "name": "stderr",
     "output_type": "stream",
     "text": [
      "                                                                                \r"
     ]
    },
    {
     "name": "stdout",
     "output_type": "stream",
     "text": [
      "Processing month: 2017-11-01 ...\n"
     ]
    },
    {
     "name": "stderr",
     "output_type": "stream",
     "text": [
      "                                                                                \r"
     ]
    },
    {
     "name": "stdout",
     "output_type": "stream",
     "text": [
      "Processing month: 2017-12-01 ...\n"
     ]
    },
    {
     "name": "stderr",
     "output_type": "stream",
     "text": [
      "                                                                                \r"
     ]
    },
    {
     "name": "stdout",
     "output_type": "stream",
     "text": [
      "Processing month: 2018-01-01 ...\n",
      "CPU times: user 17.6 s, sys: 8.09 s, total: 25.7 s\n",
      "Wall time: 18min 30s\n"
     ]
    }
   ],
   "source": [
    "%%time\n",
    "# Define month range\n",
    "start_month = datetime.date(1998, 1, 1)\n",
    "end_month = datetime.date(2018, 1, 1)  # Adjust end date as needed\n",
    "\n",
    "month = start_month\n",
    "result_table = \"ascenddb2.dpd_summary\"\n",
    "\n",
    "while month <= end_month:\n",
    "    next_month = (month.replace(day=28) + datetime.timedelta(days=4)).replace(day=1)\n",
    "    # print(f\"Next Month: {next_month}\")\n",
    "    \n",
    "    print(f\"Processing month: {month} ...\")\n",
    "\n",
    "    # Load current month data\n",
    "    current_df = spark.sql(f\"\"\"\n",
    "        SELECT CONS_ACCT_KEY, ACCT_DT, DPD\n",
    "        FROM ascenddb2.dpd_data\n",
    "        WHERE ACCT_DT >= DATE '{month}' AND ACCT_DT < DATE '{next_month}'\n",
    "    \"\"\")\n",
    "    \n",
    "    # Load only latest record per account (tiny table)\n",
    "    latest_prev = spark.read.table(\"ascenddb2.latest_dpd_summary\").withColumnRenamed(\"ACCT_DT\", \"ACCT_DT_prev\")\n",
    "    \n",
    "    # Join (no longer need to scan historical months)\n",
    "    merged_df = current_df.join(latest_prev, on=\"CONS_ACCT_KEY\", how=\"left\")\n",
    "    \n",
    "    # Continue with DPD_GRID generation as before\n",
    "    merged_df = merged_df.withColumn(\n",
    "        \"MONTH_DIFF\",\n",
    "        (F.month(\"ACCT_DT\") - F.month(\"ACCT_DT_prev\")) +\n",
    "        (F.year(\"ACCT_DT\") - F.year(\"ACCT_DT_prev\")) * 12\n",
    "    ).withColumn(\n",
    "        \"FILLER_ARRAY\",\n",
    "        F.when(F.col(\"MONTH_DIFF\") > 1, F.expr(\"transform(sequence(1, MONTH_DIFF - 1), x -> '?')\"))\n",
    "        .otherwise(F.array())\n",
    "    ).withColumn(\n",
    "        \"Merged_DPD_Array\",\n",
    "        F.concat(\n",
    "            F.array(F.col(\"DPD\")),\n",
    "            F.col(\"FILLER_ARRAY\"),\n",
    "            F.when(F.col(\"DPD_GRID\").isNotNull(), F.split(F.col(\"DPD_GRID\"), \"~\")).otherwise(F.array())\n",
    "        )\n",
    "    )\n",
    "    \n",
    "    # Pad & trim as usual\n",
    "    merged_df = merged_df.withColumn(\n",
    "        \"DPD_Array_Trimmed\",\n",
    "        F.when(\n",
    "            F.size(\"Merged_DPD_Array\") >= 36,\n",
    "            F.slice(\"Merged_DPD_Array\", 1, 36)\n",
    "        ).otherwise(\n",
    "            F.concat(F.col(\"Merged_DPD_Array\"),\n",
    "                     F.array([F.lit(\"?\") for _ in range(35)])\n",
    "            )\n",
    "        )\n",
    "    ).withColumn(\n",
    "        \"DPD_GRID\",\n",
    "        F.concat_ws(\"~\", \"DPD_Array_Trimmed\")\n",
    "    )\n",
    "    \n",
    "    # Save historical output (same as before)\n",
    "    merged_df.select(\"CONS_ACCT_KEY\", \"ACCT_DT\", \"DPD\", \"DPD_GRID\") \\\n",
    "        .write.format(\"iceberg\").mode(\"append\").saveAsTable(\"ascenddb2.dpd_summary\")\n",
    "\n",
    "    # Load current month processed data\n",
    "    current_month_df = merged_df.select(\"CONS_ACCT_KEY\", \"ACCT_DT\", \"DPD_GRID\")\n",
    "\n",
    "    # Revert name of ACCT_DT_prev\n",
    "    latest_prev = spark.read.table(\"ascenddb2.latest_dpd_summary\")\n",
    "    \n",
    "    # Merge: Take latest between old and new per account\n",
    "    merged_latest = latest_prev.union(current_month_df) \\\n",
    "        .withColumn(\"rn\", F.row_number().over(\n",
    "            Window.partitionBy(\"CONS_ACCT_KEY\").orderBy(F.col(\"ACCT_DT\").desc())\n",
    "        )) \\\n",
    "        .filter(\"rn = 1\") \\\n",
    "        .drop(\"rn\")\n",
    "    \n",
    "    # Save merged latest back\n",
    "    merged_latest.write.mode(\"overwrite\").saveAsTable(\"ascenddb2.latest_dpd_summary\")\n",
    "    \n",
    "    month = next_month"
   ]
  },
  {
   "cell_type": "code",
   "execution_count": 236,
   "id": "87d6daad-6a48-4937-8a1c-05605a225ec2",
   "metadata": {},
   "outputs": [
    {
     "data": {
      "text/html": [
       "<table>\n",
       "    <thead>\n",
       "        <tr>\n",
       "            <th>count</th>\n",
       "            <th>table_name</th>\n",
       "        </tr>\n",
       "    </thead>\n",
       "    <tbody>\n",
       "        <tr>\n",
       "            <td>11999996</td>\n",
       "            <td>dpd_summary</td>\n",
       "        </tr>\n",
       "        <tr>\n",
       "            <td>11999996</td>\n",
       "            <td>dpd_data</td>\n",
       "        </tr>\n",
       "        <tr>\n",
       "            <td>50000</td>\n",
       "            <td>latest_dpd_summary</td>\n",
       "        </tr>\n",
       "    </tbody>\n",
       "</table>"
      ],
      "text/plain": [
       "+----------+--------------------+\n",
       "|    count |         table_name |\n",
       "+----------+--------------------+\n",
       "| 11999996 |        dpd_summary |\n",
       "| 11999996 |           dpd_data |\n",
       "|    50000 | latest_dpd_summary |\n",
       "+----------+--------------------+"
      ]
     },
     "execution_count": 236,
     "metadata": {},
     "output_type": "execute_result"
    }
   ],
   "source": [
    "%%sql\n",
    "select count(*) as count,\"dpd_summary\" as table_name from ascenddb2.dpd_summary\n",
    "union all\n",
    "select count(*) as count,\"dpd_data\" as table_name  from ascenddb2.dpd_data\n",
    "union all\n",
    "select count(*) as count,\"latest_dpd_summary\" as table_name  from ascenddb2.latest_dpd_summary"
   ]
  },
  {
   "cell_type": "code",
   "execution_count": 237,
   "id": "71a1b53e-3a8c-4d7a-95d8-04d95b91faeb",
   "metadata": {},
   "outputs": [
    {
     "name": "stderr",
     "output_type": "stream",
     "text": [
      "                                                                                \r"
     ]
    },
    {
     "data": {
      "text/html": [
       "<table>\n",
       "    <thead>\n",
       "        <tr>\n",
       "            <th>cons_acct_key</th>\n",
       "            <th>acct_dt</th>\n",
       "            <th>dpd_grid</th>\n",
       "        </tr>\n",
       "    </thead>\n",
       "    <tbody>\n",
       "        <tr>\n",
       "            <td>336</td>\n",
       "            <td>1998-01-15</td>\n",
       "            <td>37~?~?~?~?~?~?~?~?~?~?~?~?~?~?~?~?~?~?~?~?~?~?~?~?~?~?~?~?~?~?~?~?~?~?~?</td>\n",
       "        </tr>\n",
       "        <tr>\n",
       "            <td>336</td>\n",
       "            <td>1998-02-15</td>\n",
       "            <td>38~37~?~?~?~?~?~?~?~?~?~?~?~?~?~?~?~?~?~?~?~?~?~?~?~?~?~?~?~?~?~?~?~?~?~?</td>\n",
       "        </tr>\n",
       "        <tr>\n",
       "            <td>336</td>\n",
       "            <td>1998-03-15</td>\n",
       "            <td>39~38~37~?~?~?~?~?~?~?~?~?~?~?~?~?~?~?~?~?~?~?~?~?~?~?~?~?~?~?~?~?~?~?~?~?</td>\n",
       "        </tr>\n",
       "        <tr>\n",
       "            <td>336</td>\n",
       "            <td>1998-05-15</td>\n",
       "            <td>41~?~39~38~37~?~?~?~?~?~?~?~?~?~?~?~?~?~?~?~?~?~?~?~?~?~?~?~?~?~?~?~?~?~?~?</td>\n",
       "        </tr>\n",
       "        <tr>\n",
       "            <td>336</td>\n",
       "            <td>1998-06-15</td>\n",
       "            <td>42~41~?~39~38~37~?~?~?~?~?~?~?~?~?~?~?~?~?~?~?~?~?~?~?~?~?~?~?~?~?~?~?~?~?~?</td>\n",
       "        </tr>\n",
       "        <tr>\n",
       "            <td>336</td>\n",
       "            <td>1998-07-15</td>\n",
       "            <td>43~42~41~?~39~38~37~?~?~?~?~?~?~?~?~?~?~?~?~?~?~?~?~?~?~?~?~?~?~?~?~?~?~?~?~?</td>\n",
       "        </tr>\n",
       "        <tr>\n",
       "            <td>336</td>\n",
       "            <td>1998-08-15</td>\n",
       "            <td>44~43~42~41~?~39~38~37~?~?~?~?~?~?~?~?~?~?~?~?~?~?~?~?~?~?~?~?~?~?~?~?~?~?~?~?</td>\n",
       "        </tr>\n",
       "        <tr>\n",
       "            <td>336</td>\n",
       "            <td>1998-09-15</td>\n",
       "            <td>45~44~43~42~41~?~39~38~37~?~?~?~?~?~?~?~?~?~?~?~?~?~?~?~?~?~?~?~?~?~?~?~?~?~?~?</td>\n",
       "        </tr>\n",
       "        <tr>\n",
       "            <td>336</td>\n",
       "            <td>1998-10-15</td>\n",
       "            <td>46~45~44~43~42~41~?~39~38~37~?~?~?~?~?~?~?~?~?~?~?~?~?~?~?~?~?~?~?~?~?~?~?~?~?~?</td>\n",
       "        </tr>\n",
       "        <tr>\n",
       "            <td>336</td>\n",
       "            <td>1998-11-15</td>\n",
       "            <td>47~46~45~44~43~42~41~?~39~38~37~?~?~?~?~?~?~?~?~?~?~?~?~?~?~?~?~?~?~?~?~?~?~?~?~?</td>\n",
       "        </tr>\n",
       "        <tr>\n",
       "            <td>336</td>\n",
       "            <td>1998-12-15</td>\n",
       "            <td>48~47~46~45~44~43~42~41~?~39~38~37~?~?~?~?~?~?~?~?~?~?~?~?~?~?~?~?~?~?~?~?~?~?~?~?</td>\n",
       "        </tr>\n",
       "        <tr>\n",
       "            <td>336</td>\n",
       "            <td>1999-01-15</td>\n",
       "            <td>49~48~47~46~45~44~43~42~41~?~39~38~37~?~?~?~?~?~?~?~?~?~?~?~?~?~?~?~?~?~?~?~?~?~?~?</td>\n",
       "        </tr>\n",
       "        <tr>\n",
       "            <td>336</td>\n",
       "            <td>1999-02-15</td>\n",
       "            <td>50~49~48~47~46~45~44~43~42~41~?~39~38~37~?~?~?~?~?~?~?~?~?~?~?~?~?~?~?~?~?~?~?~?~?~?</td>\n",
       "        </tr>\n",
       "        <tr>\n",
       "            <td>336</td>\n",
       "            <td>1999-03-15</td>\n",
       "            <td>51~50~49~48~47~46~45~44~43~42~41~?~39~38~37~?~?~?~?~?~?~?~?~?~?~?~?~?~?~?~?~?~?~?~?~?</td>\n",
       "        </tr>\n",
       "        <tr>\n",
       "            <td>336</td>\n",
       "            <td>1999-04-15</td>\n",
       "            <td>52~51~50~49~48~47~46~45~44~43~42~41~?~39~38~37~?~?~?~?~?~?~?~?~?~?~?~?~?~?~?~?~?~?~?~?</td>\n",
       "        </tr>\n",
       "        <tr>\n",
       "            <td>336</td>\n",
       "            <td>1999-05-15</td>\n",
       "            <td>53~52~51~50~49~48~47~46~45~44~43~42~41~?~39~38~37~?~?~?~?~?~?~?~?~?~?~?~?~?~?~?~?~?~?~?</td>\n",
       "        </tr>\n",
       "        <tr>\n",
       "            <td>336</td>\n",
       "            <td>1999-06-15</td>\n",
       "            <td>54~53~52~51~50~49~48~47~46~45~44~43~42~41~?~39~38~37~?~?~?~?~?~?~?~?~?~?~?~?~?~?~?~?~?~?</td>\n",
       "        </tr>\n",
       "        <tr>\n",
       "            <td>336</td>\n",
       "            <td>1999-07-15</td>\n",
       "            <td>55~54~53~52~51~50~49~48~47~46~45~44~43~42~41~?~39~38~37~?~?~?~?~?~?~?~?~?~?~?~?~?~?~?~?~?</td>\n",
       "        </tr>\n",
       "        <tr>\n",
       "            <td>336</td>\n",
       "            <td>1999-08-15</td>\n",
       "            <td>56~55~54~53~52~51~50~49~48~47~46~45~44~43~42~41~?~39~38~37~?~?~?~?~?~?~?~?~?~?~?~?~?~?~?~?</td>\n",
       "        </tr>\n",
       "        <tr>\n",
       "            <td>336</td>\n",
       "            <td>1999-09-15</td>\n",
       "            <td>57~56~55~54~53~52~51~50~49~48~47~46~45~44~43~42~41~?~39~38~37~?~?~?~?~?~?~?~?~?~?~?~?~?~?~?</td>\n",
       "        </tr>\n",
       "        <tr>\n",
       "            <td>336</td>\n",
       "            <td>1999-10-15</td>\n",
       "            <td>58~57~56~55~54~53~52~51~50~49~48~47~46~45~44~43~42~41~?~39~38~37~?~?~?~?~?~?~?~?~?~?~?~?~?~?</td>\n",
       "        </tr>\n",
       "        <tr>\n",
       "            <td>336</td>\n",
       "            <td>1999-11-15</td>\n",
       "            <td>59~58~57~56~55~54~53~52~51~50~49~48~47~46~45~44~43~42~41~?~39~38~37~?~?~?~?~?~?~?~?~?~?~?~?~?</td>\n",
       "        </tr>\n",
       "        <tr>\n",
       "            <td>336</td>\n",
       "            <td>1999-12-15</td>\n",
       "            <td>60~59~58~57~56~55~54~53~52~51~50~49~48~47~46~45~44~43~42~41~?~39~38~37~?~?~?~?~?~?~?~?~?~?~?~?</td>\n",
       "        </tr>\n",
       "        <tr>\n",
       "            <td>336</td>\n",
       "            <td>2000-01-15</td>\n",
       "            <td>61~60~59~58~57~56~55~54~53~52~51~50~49~48~47~46~45~44~43~42~41~?~39~38~37~?~?~?~?~?~?~?~?~?~?~?</td>\n",
       "        </tr>\n",
       "        <tr>\n",
       "            <td>336</td>\n",
       "            <td>2000-02-15</td>\n",
       "            <td>62~61~60~59~58~57~56~55~54~53~52~51~50~49~48~47~46~45~44~43~42~41~?~39~38~37~?~?~?~?~?~?~?~?~?~?</td>\n",
       "        </tr>\n",
       "        <tr>\n",
       "            <td>336</td>\n",
       "            <td>2000-03-15</td>\n",
       "            <td>63~62~61~60~59~58~57~56~55~54~53~52~51~50~49~48~47~46~45~44~43~42~41~?~39~38~37~?~?~?~?~?~?~?~?~?</td>\n",
       "        </tr>\n",
       "        <tr>\n",
       "            <td>336</td>\n",
       "            <td>2000-04-15</td>\n",
       "            <td>64~63~62~61~60~59~58~57~56~55~54~53~52~51~50~49~48~47~46~45~44~43~42~41~?~39~38~37~?~?~?~?~?~?~?~?</td>\n",
       "        </tr>\n",
       "        <tr>\n",
       "            <td>336</td>\n",
       "            <td>2000-05-15</td>\n",
       "            <td>65~64~63~62~61~60~59~58~57~56~55~54~53~52~51~50~49~48~47~46~45~44~43~42~41~?~39~38~37~?~?~?~?~?~?~?</td>\n",
       "        </tr>\n",
       "        <tr>\n",
       "            <td>336</td>\n",
       "            <td>2000-06-15</td>\n",
       "            <td>66~65~64~63~62~61~60~59~58~57~56~55~54~53~52~51~50~49~48~47~46~45~44~43~42~41~?~39~38~37~?~?~?~?~?~?</td>\n",
       "        </tr>\n",
       "        <tr>\n",
       "            <td>336</td>\n",
       "            <td>2000-07-15</td>\n",
       "            <td>67~66~65~64~63~62~61~60~59~58~57~56~55~54~53~52~51~50~49~48~47~46~45~44~43~42~41~?~39~38~37~?~?~?~?~?</td>\n",
       "        </tr>\n",
       "        <tr>\n",
       "            <td>336</td>\n",
       "            <td>2000-08-15</td>\n",
       "            <td>68~67~66~65~64~63~62~61~60~59~58~57~56~55~54~53~52~51~50~49~48~47~46~45~44~43~42~41~?~39~38~37~?~?~?~?</td>\n",
       "        </tr>\n",
       "        <tr>\n",
       "            <td>336</td>\n",
       "            <td>2000-09-15</td>\n",
       "            <td>69~68~67~66~65~64~63~62~61~60~59~58~57~56~55~54~53~52~51~50~49~48~47~46~45~44~43~42~41~?~39~38~37~?~?~?</td>\n",
       "        </tr>\n",
       "        <tr>\n",
       "            <td>336</td>\n",
       "            <td>2000-10-15</td>\n",
       "            <td>70~69~68~67~66~65~64~63~62~61~60~59~58~57~56~55~54~53~52~51~50~49~48~47~46~45~44~43~42~41~?~39~38~37~?~?</td>\n",
       "        </tr>\n",
       "        <tr>\n",
       "            <td>336</td>\n",
       "            <td>2000-11-15</td>\n",
       "            <td>71~70~69~68~67~66~65~64~63~62~61~60~59~58~57~56~55~54~53~52~51~50~49~48~47~46~45~44~43~42~41~?~39~38~37~?</td>\n",
       "        </tr>\n",
       "        <tr>\n",
       "            <td>336</td>\n",
       "            <td>2000-12-15</td>\n",
       "            <td>72~71~70~69~68~67~66~65~64~63~62~61~60~59~58~57~56~55~54~53~52~51~50~49~48~47~46~45~44~43~42~41~?~39~38~37</td>\n",
       "        </tr>\n",
       "        <tr>\n",
       "            <td>336</td>\n",
       "            <td>2001-01-15</td>\n",
       "            <td>73~72~71~70~69~68~67~66~65~64~63~62~61~60~59~58~57~56~55~54~53~52~51~50~49~48~47~46~45~44~43~42~41~?~39~38</td>\n",
       "        </tr>\n",
       "        <tr>\n",
       "            <td>336</td>\n",
       "            <td>2001-02-15</td>\n",
       "            <td>74~73~72~71~70~69~68~67~66~65~64~63~62~61~60~59~58~57~56~55~54~53~52~51~50~49~48~47~46~45~44~43~42~41~?~39</td>\n",
       "        </tr>\n",
       "        <tr>\n",
       "            <td>336</td>\n",
       "            <td>2001-03-15</td>\n",
       "            <td>75~74~73~72~71~70~69~68~67~66~65~64~63~62~61~60~59~58~57~56~55~54~53~52~51~50~49~48~47~46~45~44~43~42~41~?</td>\n",
       "        </tr>\n",
       "        <tr>\n",
       "            <td>336</td>\n",
       "            <td>2001-04-15</td>\n",
       "            <td>76~75~74~73~72~71~70~69~68~67~66~65~64~63~62~61~60~59~58~57~56~55~54~53~52~51~50~49~48~47~46~45~44~43~42~41</td>\n",
       "        </tr>\n",
       "        <tr>\n",
       "            <td>336</td>\n",
       "            <td>2001-05-15</td>\n",
       "            <td>77~76~75~74~73~72~71~70~69~68~67~66~65~64~63~62~61~60~59~58~57~56~55~54~53~52~51~50~49~48~47~46~45~44~43~42</td>\n",
       "        </tr>\n",
       "        <tr>\n",
       "            <td>336</td>\n",
       "            <td>2001-06-15</td>\n",
       "            <td>78~77~76~75~74~73~72~71~70~69~68~67~66~65~64~63~62~61~60~59~58~57~56~55~54~53~52~51~50~49~48~47~46~45~44~43</td>\n",
       "        </tr>\n",
       "        <tr>\n",
       "            <td>336</td>\n",
       "            <td>2001-07-15</td>\n",
       "            <td>79~78~77~76~75~74~73~72~71~70~69~68~67~66~65~64~63~62~61~60~59~58~57~56~55~54~53~52~51~50~49~48~47~46~45~44</td>\n",
       "        </tr>\n",
       "        <tr>\n",
       "            <td>336</td>\n",
       "            <td>2001-08-15</td>\n",
       "            <td>80~79~78~77~76~75~74~73~72~71~70~69~68~67~66~65~64~63~62~61~60~59~58~57~56~55~54~53~52~51~50~49~48~47~46~45</td>\n",
       "        </tr>\n",
       "        <tr>\n",
       "            <td>336</td>\n",
       "            <td>2001-09-15</td>\n",
       "            <td>81~80~79~78~77~76~75~74~73~72~71~70~69~68~67~66~65~64~63~62~61~60~59~58~57~56~55~54~53~52~51~50~49~48~47~46</td>\n",
       "        </tr>\n",
       "        <tr>\n",
       "            <td>336</td>\n",
       "            <td>2001-10-15</td>\n",
       "            <td>82~81~80~79~78~77~76~75~74~73~72~71~70~69~68~67~66~65~64~63~62~61~60~59~58~57~56~55~54~53~52~51~50~49~48~47</td>\n",
       "        </tr>\n",
       "        <tr>\n",
       "            <td>336</td>\n",
       "            <td>2001-11-15</td>\n",
       "            <td>83~82~81~80~79~78~77~76~75~74~73~72~71~70~69~68~67~66~65~64~63~62~61~60~59~58~57~56~55~54~53~52~51~50~49~48</td>\n",
       "        </tr>\n",
       "        <tr>\n",
       "            <td>336</td>\n",
       "            <td>2001-12-15</td>\n",
       "            <td>84~83~82~81~80~79~78~77~76~75~74~73~72~71~70~69~68~67~66~65~64~63~62~61~60~59~58~57~56~55~54~53~52~51~50~49</td>\n",
       "        </tr>\n",
       "        <tr>\n",
       "            <td>336</td>\n",
       "            <td>2002-01-15</td>\n",
       "            <td>85~84~83~82~81~80~79~78~77~76~75~74~73~72~71~70~69~68~67~66~65~64~63~62~61~60~59~58~57~56~55~54~53~52~51~50</td>\n",
       "        </tr>\n",
       "        <tr>\n",
       "            <td>336</td>\n",
       "            <td>2002-02-15</td>\n",
       "            <td>86~85~84~83~82~81~80~79~78~77~76~75~74~73~72~71~70~69~68~67~66~65~64~63~62~61~60~59~58~57~56~55~54~53~52~51</td>\n",
       "        </tr>\n",
       "        <tr>\n",
       "            <td>336</td>\n",
       "            <td>2002-03-15</td>\n",
       "            <td>87~86~85~84~83~82~81~80~79~78~77~76~75~74~73~72~71~70~69~68~67~66~65~64~63~62~61~60~59~58~57~56~55~54~53~52</td>\n",
       "        </tr>\n",
       "        <tr>\n",
       "            <td>336</td>\n",
       "            <td>2002-04-15</td>\n",
       "            <td>88~87~86~85~84~83~82~81~80~79~78~77~76~75~74~73~72~71~70~69~68~67~66~65~64~63~62~61~60~59~58~57~56~55~54~53</td>\n",
       "        </tr>\n",
       "        <tr>\n",
       "            <td>336</td>\n",
       "            <td>2002-05-15</td>\n",
       "            <td>89~88~87~86~85~84~83~82~81~80~79~78~77~76~75~74~73~72~71~70~69~68~67~66~65~64~63~62~61~60~59~58~57~56~55~54</td>\n",
       "        </tr>\n",
       "        <tr>\n",
       "            <td>336</td>\n",
       "            <td>2002-06-15</td>\n",
       "            <td>90~89~88~87~86~85~84~83~82~81~80~79~78~77~76~75~74~73~72~71~70~69~68~67~66~65~64~63~62~61~60~59~58~57~56~55</td>\n",
       "        </tr>\n",
       "        <tr>\n",
       "            <td>336</td>\n",
       "            <td>2002-07-15</td>\n",
       "            <td>91~90~89~88~87~86~85~84~83~82~81~80~79~78~77~76~75~74~73~72~71~70~69~68~67~66~65~64~63~62~61~60~59~58~57~56</td>\n",
       "        </tr>\n",
       "        <tr>\n",
       "            <td>336</td>\n",
       "            <td>2002-08-15</td>\n",
       "            <td>92~91~90~89~88~87~86~85~84~83~82~81~80~79~78~77~76~75~74~73~72~71~70~69~68~67~66~65~64~63~62~61~60~59~58~57</td>\n",
       "        </tr>\n",
       "        <tr>\n",
       "            <td>336</td>\n",
       "            <td>2002-09-15</td>\n",
       "            <td>93~92~91~90~89~88~87~86~85~84~83~82~81~80~79~78~77~76~75~74~73~72~71~70~69~68~67~66~65~64~63~62~61~60~59~58</td>\n",
       "        </tr>\n",
       "        <tr>\n",
       "            <td>336</td>\n",
       "            <td>2002-10-15</td>\n",
       "            <td>94~93~92~91~90~89~88~87~86~85~84~83~82~81~80~79~78~77~76~75~74~73~72~71~70~69~68~67~66~65~64~63~62~61~60~59</td>\n",
       "        </tr>\n",
       "        <tr>\n",
       "            <td>336</td>\n",
       "            <td>2002-11-15</td>\n",
       "            <td>95~94~93~92~91~90~89~88~87~86~85~84~83~82~81~80~79~78~77~76~75~74~73~72~71~70~69~68~67~66~65~64~63~62~61~60</td>\n",
       "        </tr>\n",
       "        <tr>\n",
       "            <td>336</td>\n",
       "            <td>2002-12-15</td>\n",
       "            <td>96~95~94~93~92~91~90~89~88~87~86~85~84~83~82~81~80~79~78~77~76~75~74~73~72~71~70~69~68~67~66~65~64~63~62~61</td>\n",
       "        </tr>\n",
       "        <tr>\n",
       "            <td>336</td>\n",
       "            <td>2003-01-15</td>\n",
       "            <td>97~96~95~94~93~92~91~90~89~88~87~86~85~84~83~82~81~80~79~78~77~76~75~74~73~72~71~70~69~68~67~66~65~64~63~62</td>\n",
       "        </tr>\n",
       "        <tr>\n",
       "            <td>336</td>\n",
       "            <td>2003-02-15</td>\n",
       "            <td>98~97~96~95~94~93~92~91~90~89~88~87~86~85~84~83~82~81~80~79~78~77~76~75~74~73~72~71~70~69~68~67~66~65~64~63</td>\n",
       "        </tr>\n",
       "        <tr>\n",
       "            <td>336</td>\n",
       "            <td>2003-03-15</td>\n",
       "            <td>99~98~97~96~95~94~93~92~91~90~89~88~87~86~85~84~83~82~81~80~79~78~77~76~75~74~73~72~71~70~69~68~67~66~65~64</td>\n",
       "        </tr>\n",
       "        <tr>\n",
       "            <td>336</td>\n",
       "            <td>2003-04-15</td>\n",
       "            <td>100~99~98~97~96~95~94~93~92~91~90~89~88~87~86~85~84~83~82~81~80~79~78~77~76~75~74~73~72~71~70~69~68~67~66~65</td>\n",
       "        </tr>\n",
       "        <tr>\n",
       "            <td>336</td>\n",
       "            <td>2003-05-15</td>\n",
       "            <td>1~100~99~98~97~96~95~94~93~92~91~90~89~88~87~86~85~84~83~82~81~80~79~78~77~76~75~74~73~72~71~70~69~68~67~66</td>\n",
       "        </tr>\n",
       "        <tr>\n",
       "            <td>336</td>\n",
       "            <td>2003-06-15</td>\n",
       "            <td>2~1~100~99~98~97~96~95~94~93~92~91~90~89~88~87~86~85~84~83~82~81~80~79~78~77~76~75~74~73~72~71~70~69~68~67</td>\n",
       "        </tr>\n",
       "        <tr>\n",
       "            <td>336</td>\n",
       "            <td>2003-07-15</td>\n",
       "            <td>3~2~1~100~99~98~97~96~95~94~93~92~91~90~89~88~87~86~85~84~83~82~81~80~79~78~77~76~75~74~73~72~71~70~69~68</td>\n",
       "        </tr>\n",
       "        <tr>\n",
       "            <td>336</td>\n",
       "            <td>2003-08-15</td>\n",
       "            <td>4~3~2~1~100~99~98~97~96~95~94~93~92~91~90~89~88~87~86~85~84~83~82~81~80~79~78~77~76~75~74~73~72~71~70~69</td>\n",
       "        </tr>\n",
       "        <tr>\n",
       "            <td>336</td>\n",
       "            <td>2003-09-15</td>\n",
       "            <td>5~4~3~2~1~100~99~98~97~96~95~94~93~92~91~90~89~88~87~86~85~84~83~82~81~80~79~78~77~76~75~74~73~72~71~70</td>\n",
       "        </tr>\n",
       "        <tr>\n",
       "            <td>336</td>\n",
       "            <td>2003-10-15</td>\n",
       "            <td>6~5~4~3~2~1~100~99~98~97~96~95~94~93~92~91~90~89~88~87~86~85~84~83~82~81~80~79~78~77~76~75~74~73~72~71</td>\n",
       "        </tr>\n",
       "        <tr>\n",
       "            <td>336</td>\n",
       "            <td>2003-11-15</td>\n",
       "            <td>7~6~5~4~3~2~1~100~99~98~97~96~95~94~93~92~91~90~89~88~87~86~85~84~83~82~81~80~79~78~77~76~75~74~73~72</td>\n",
       "        </tr>\n",
       "        <tr>\n",
       "            <td>336</td>\n",
       "            <td>2003-12-15</td>\n",
       "            <td>8~7~6~5~4~3~2~1~100~99~98~97~96~95~94~93~92~91~90~89~88~87~86~85~84~83~82~81~80~79~78~77~76~75~74~73</td>\n",
       "        </tr>\n",
       "        <tr>\n",
       "            <td>336</td>\n",
       "            <td>2004-01-15</td>\n",
       "            <td>9~8~7~6~5~4~3~2~1~100~99~98~97~96~95~94~93~92~91~90~89~88~87~86~85~84~83~82~81~80~79~78~77~76~75~74</td>\n",
       "        </tr>\n",
       "        <tr>\n",
       "            <td>336</td>\n",
       "            <td>2004-02-15</td>\n",
       "            <td>10~9~8~7~6~5~4~3~2~1~100~99~98~97~96~95~94~93~92~91~90~89~88~87~86~85~84~83~82~81~80~79~78~77~76~75</td>\n",
       "        </tr>\n",
       "        <tr>\n",
       "            <td>336</td>\n",
       "            <td>2004-03-15</td>\n",
       "            <td>11~10~9~8~7~6~5~4~3~2~1~100~99~98~97~96~95~94~93~92~91~90~89~88~87~86~85~84~83~82~81~80~79~78~77~76</td>\n",
       "        </tr>\n",
       "        <tr>\n",
       "            <td>336</td>\n",
       "            <td>2004-04-15</td>\n",
       "            <td>12~11~10~9~8~7~6~5~4~3~2~1~100~99~98~97~96~95~94~93~92~91~90~89~88~87~86~85~84~83~82~81~80~79~78~77</td>\n",
       "        </tr>\n",
       "        <tr>\n",
       "            <td>336</td>\n",
       "            <td>2004-05-15</td>\n",
       "            <td>13~12~11~10~9~8~7~6~5~4~3~2~1~100~99~98~97~96~95~94~93~92~91~90~89~88~87~86~85~84~83~82~81~80~79~78</td>\n",
       "        </tr>\n",
       "        <tr>\n",
       "            <td>336</td>\n",
       "            <td>2004-06-15</td>\n",
       "            <td>14~13~12~11~10~9~8~7~6~5~4~3~2~1~100~99~98~97~96~95~94~93~92~91~90~89~88~87~86~85~84~83~82~81~80~79</td>\n",
       "        </tr>\n",
       "        <tr>\n",
       "            <td>336</td>\n",
       "            <td>2004-07-15</td>\n",
       "            <td>15~14~13~12~11~10~9~8~7~6~5~4~3~2~1~100~99~98~97~96~95~94~93~92~91~90~89~88~87~86~85~84~83~82~81~80</td>\n",
       "        </tr>\n",
       "        <tr>\n",
       "            <td>336</td>\n",
       "            <td>2004-08-15</td>\n",
       "            <td>16~15~14~13~12~11~10~9~8~7~6~5~4~3~2~1~100~99~98~97~96~95~94~93~92~91~90~89~88~87~86~85~84~83~82~81</td>\n",
       "        </tr>\n",
       "        <tr>\n",
       "            <td>336</td>\n",
       "            <td>2004-09-15</td>\n",
       "            <td>17~16~15~14~13~12~11~10~9~8~7~6~5~4~3~2~1~100~99~98~97~96~95~94~93~92~91~90~89~88~87~86~85~84~83~82</td>\n",
       "        </tr>\n",
       "        <tr>\n",
       "            <td>336</td>\n",
       "            <td>2004-10-15</td>\n",
       "            <td>18~17~16~15~14~13~12~11~10~9~8~7~6~5~4~3~2~1~100~99~98~97~96~95~94~93~92~91~90~89~88~87~86~85~84~83</td>\n",
       "        </tr>\n",
       "        <tr>\n",
       "            <td>336</td>\n",
       "            <td>2004-11-15</td>\n",
       "            <td>19~18~17~16~15~14~13~12~11~10~9~8~7~6~5~4~3~2~1~100~99~98~97~96~95~94~93~92~91~90~89~88~87~86~85~84</td>\n",
       "        </tr>\n",
       "        <tr>\n",
       "            <td>336</td>\n",
       "            <td>2004-12-15</td>\n",
       "            <td>20~19~18~17~16~15~14~13~12~11~10~9~8~7~6~5~4~3~2~1~100~99~98~97~96~95~94~93~92~91~90~89~88~87~86~85</td>\n",
       "        </tr>\n",
       "        <tr>\n",
       "            <td>336</td>\n",
       "            <td>2005-01-15</td>\n",
       "            <td>21~20~19~18~17~16~15~14~13~12~11~10~9~8~7~6~5~4~3~2~1~100~99~98~97~96~95~94~93~92~91~90~89~88~87~86</td>\n",
       "        </tr>\n",
       "        <tr>\n",
       "            <td>336</td>\n",
       "            <td>2005-02-15</td>\n",
       "            <td>22~21~20~19~18~17~16~15~14~13~12~11~10~9~8~7~6~5~4~3~2~1~100~99~98~97~96~95~94~93~92~91~90~89~88~87</td>\n",
       "        </tr>\n",
       "        <tr>\n",
       "            <td>336</td>\n",
       "            <td>2005-03-15</td>\n",
       "            <td>23~22~21~20~19~18~17~16~15~14~13~12~11~10~9~8~7~6~5~4~3~2~1~100~99~98~97~96~95~94~93~92~91~90~89~88</td>\n",
       "        </tr>\n",
       "        <tr>\n",
       "            <td>336</td>\n",
       "            <td>2005-04-15</td>\n",
       "            <td>24~23~22~21~20~19~18~17~16~15~14~13~12~11~10~9~8~7~6~5~4~3~2~1~100~99~98~97~96~95~94~93~92~91~90~89</td>\n",
       "        </tr>\n",
       "        <tr>\n",
       "            <td>336</td>\n",
       "            <td>2005-05-15</td>\n",
       "            <td>25~24~23~22~21~20~19~18~17~16~15~14~13~12~11~10~9~8~7~6~5~4~3~2~1~100~99~98~97~96~95~94~93~92~91~90</td>\n",
       "        </tr>\n",
       "        <tr>\n",
       "            <td>336</td>\n",
       "            <td>2005-06-15</td>\n",
       "            <td>26~25~24~23~22~21~20~19~18~17~16~15~14~13~12~11~10~9~8~7~6~5~4~3~2~1~100~99~98~97~96~95~94~93~92~91</td>\n",
       "        </tr>\n",
       "        <tr>\n",
       "            <td>336</td>\n",
       "            <td>2005-07-15</td>\n",
       "            <td>27~26~25~24~23~22~21~20~19~18~17~16~15~14~13~12~11~10~9~8~7~6~5~4~3~2~1~100~99~98~97~96~95~94~93~92</td>\n",
       "        </tr>\n",
       "        <tr>\n",
       "            <td>336</td>\n",
       "            <td>2005-08-15</td>\n",
       "            <td>28~27~26~25~24~23~22~21~20~19~18~17~16~15~14~13~12~11~10~9~8~7~6~5~4~3~2~1~100~99~98~97~96~95~94~93</td>\n",
       "        </tr>\n",
       "        <tr>\n",
       "            <td>336</td>\n",
       "            <td>2005-09-15</td>\n",
       "            <td>29~28~27~26~25~24~23~22~21~20~19~18~17~16~15~14~13~12~11~10~9~8~7~6~5~4~3~2~1~100~99~98~97~96~95~94</td>\n",
       "        </tr>\n",
       "        <tr>\n",
       "            <td>336</td>\n",
       "            <td>2005-10-15</td>\n",
       "            <td>30~29~28~27~26~25~24~23~22~21~20~19~18~17~16~15~14~13~12~11~10~9~8~7~6~5~4~3~2~1~100~99~98~97~96~95</td>\n",
       "        </tr>\n",
       "        <tr>\n",
       "            <td>336</td>\n",
       "            <td>2005-11-15</td>\n",
       "            <td>31~30~29~28~27~26~25~24~23~22~21~20~19~18~17~16~15~14~13~12~11~10~9~8~7~6~5~4~3~2~1~100~99~98~97~96</td>\n",
       "        </tr>\n",
       "        <tr>\n",
       "            <td>336</td>\n",
       "            <td>2005-12-15</td>\n",
       "            <td>32~31~30~29~28~27~26~25~24~23~22~21~20~19~18~17~16~15~14~13~12~11~10~9~8~7~6~5~4~3~2~1~100~99~98~97</td>\n",
       "        </tr>\n",
       "        <tr>\n",
       "            <td>336</td>\n",
       "            <td>2006-01-15</td>\n",
       "            <td>33~32~31~30~29~28~27~26~25~24~23~22~21~20~19~18~17~16~15~14~13~12~11~10~9~8~7~6~5~4~3~2~1~100~99~98</td>\n",
       "        </tr>\n",
       "        <tr>\n",
       "            <td>336</td>\n",
       "            <td>2006-02-15</td>\n",
       "            <td>34~33~32~31~30~29~28~27~26~25~24~23~22~21~20~19~18~17~16~15~14~13~12~11~10~9~8~7~6~5~4~3~2~1~100~99</td>\n",
       "        </tr>\n",
       "        <tr>\n",
       "            <td>336</td>\n",
       "            <td>2006-03-15</td>\n",
       "            <td>35~34~33~32~31~30~29~28~27~26~25~24~23~22~21~20~19~18~17~16~15~14~13~12~11~10~9~8~7~6~5~4~3~2~1~100</td>\n",
       "        </tr>\n",
       "        <tr>\n",
       "            <td>336</td>\n",
       "            <td>2006-04-15</td>\n",
       "            <td>36~35~34~33~32~31~30~29~28~27~26~25~24~23~22~21~20~19~18~17~16~15~14~13~12~11~10~9~8~7~6~5~4~3~2~1</td>\n",
       "        </tr>\n",
       "        <tr>\n",
       "            <td>336</td>\n",
       "            <td>2006-05-15</td>\n",
       "            <td>37~36~35~34~33~32~31~30~29~28~27~26~25~24~23~22~21~20~19~18~17~16~15~14~13~12~11~10~9~8~7~6~5~4~3~2</td>\n",
       "        </tr>\n",
       "    </tbody>\n",
       "</table>"
      ],
      "text/plain": [
       "+---------------+------------+--------------------------------------------------------------------------------------------------------------+\n",
       "| cons_acct_key |    acct_dt |                                                                                                     dpd_grid |\n",
       "+---------------+------------+--------------------------------------------------------------------------------------------------------------+\n",
       "|           336 | 1998-01-15 |                                     37~?~?~?~?~?~?~?~?~?~?~?~?~?~?~?~?~?~?~?~?~?~?~?~?~?~?~?~?~?~?~?~?~?~?~? |\n",
       "|           336 | 1998-02-15 |                                    38~37~?~?~?~?~?~?~?~?~?~?~?~?~?~?~?~?~?~?~?~?~?~?~?~?~?~?~?~?~?~?~?~?~?~? |\n",
       "|           336 | 1998-03-15 |                                   39~38~37~?~?~?~?~?~?~?~?~?~?~?~?~?~?~?~?~?~?~?~?~?~?~?~?~?~?~?~?~?~?~?~?~? |\n",
       "|           336 | 1998-05-15 |                                  41~?~39~38~37~?~?~?~?~?~?~?~?~?~?~?~?~?~?~?~?~?~?~?~?~?~?~?~?~?~?~?~?~?~?~? |\n",
       "|           336 | 1998-06-15 |                                 42~41~?~39~38~37~?~?~?~?~?~?~?~?~?~?~?~?~?~?~?~?~?~?~?~?~?~?~?~?~?~?~?~?~?~? |\n",
       "|           336 | 1998-07-15 |                                43~42~41~?~39~38~37~?~?~?~?~?~?~?~?~?~?~?~?~?~?~?~?~?~?~?~?~?~?~?~?~?~?~?~?~? |\n",
       "|           336 | 1998-08-15 |                               44~43~42~41~?~39~38~37~?~?~?~?~?~?~?~?~?~?~?~?~?~?~?~?~?~?~?~?~?~?~?~?~?~?~?~? |\n",
       "|           336 | 1998-09-15 |                              45~44~43~42~41~?~39~38~37~?~?~?~?~?~?~?~?~?~?~?~?~?~?~?~?~?~?~?~?~?~?~?~?~?~?~? |\n",
       "|           336 | 1998-10-15 |                             46~45~44~43~42~41~?~39~38~37~?~?~?~?~?~?~?~?~?~?~?~?~?~?~?~?~?~?~?~?~?~?~?~?~?~? |\n",
       "|           336 | 1998-11-15 |                            47~46~45~44~43~42~41~?~39~38~37~?~?~?~?~?~?~?~?~?~?~?~?~?~?~?~?~?~?~?~?~?~?~?~?~? |\n",
       "|           336 | 1998-12-15 |                           48~47~46~45~44~43~42~41~?~39~38~37~?~?~?~?~?~?~?~?~?~?~?~?~?~?~?~?~?~?~?~?~?~?~?~? |\n",
       "|           336 | 1999-01-15 |                          49~48~47~46~45~44~43~42~41~?~39~38~37~?~?~?~?~?~?~?~?~?~?~?~?~?~?~?~?~?~?~?~?~?~?~? |\n",
       "|           336 | 1999-02-15 |                         50~49~48~47~46~45~44~43~42~41~?~39~38~37~?~?~?~?~?~?~?~?~?~?~?~?~?~?~?~?~?~?~?~?~?~? |\n",
       "|           336 | 1999-03-15 |                        51~50~49~48~47~46~45~44~43~42~41~?~39~38~37~?~?~?~?~?~?~?~?~?~?~?~?~?~?~?~?~?~?~?~?~? |\n",
       "|           336 | 1999-04-15 |                       52~51~50~49~48~47~46~45~44~43~42~41~?~39~38~37~?~?~?~?~?~?~?~?~?~?~?~?~?~?~?~?~?~?~?~? |\n",
       "|           336 | 1999-05-15 |                      53~52~51~50~49~48~47~46~45~44~43~42~41~?~39~38~37~?~?~?~?~?~?~?~?~?~?~?~?~?~?~?~?~?~?~? |\n",
       "|           336 | 1999-06-15 |                     54~53~52~51~50~49~48~47~46~45~44~43~42~41~?~39~38~37~?~?~?~?~?~?~?~?~?~?~?~?~?~?~?~?~?~? |\n",
       "|           336 | 1999-07-15 |                    55~54~53~52~51~50~49~48~47~46~45~44~43~42~41~?~39~38~37~?~?~?~?~?~?~?~?~?~?~?~?~?~?~?~?~? |\n",
       "|           336 | 1999-08-15 |                   56~55~54~53~52~51~50~49~48~47~46~45~44~43~42~41~?~39~38~37~?~?~?~?~?~?~?~?~?~?~?~?~?~?~?~? |\n",
       "|           336 | 1999-09-15 |                  57~56~55~54~53~52~51~50~49~48~47~46~45~44~43~42~41~?~39~38~37~?~?~?~?~?~?~?~?~?~?~?~?~?~?~? |\n",
       "|           336 | 1999-10-15 |                 58~57~56~55~54~53~52~51~50~49~48~47~46~45~44~43~42~41~?~39~38~37~?~?~?~?~?~?~?~?~?~?~?~?~?~? |\n",
       "|           336 | 1999-11-15 |                59~58~57~56~55~54~53~52~51~50~49~48~47~46~45~44~43~42~41~?~39~38~37~?~?~?~?~?~?~?~?~?~?~?~?~? |\n",
       "|           336 | 1999-12-15 |               60~59~58~57~56~55~54~53~52~51~50~49~48~47~46~45~44~43~42~41~?~39~38~37~?~?~?~?~?~?~?~?~?~?~?~? |\n",
       "|           336 | 2000-01-15 |              61~60~59~58~57~56~55~54~53~52~51~50~49~48~47~46~45~44~43~42~41~?~39~38~37~?~?~?~?~?~?~?~?~?~?~? |\n",
       "|           336 | 2000-02-15 |             62~61~60~59~58~57~56~55~54~53~52~51~50~49~48~47~46~45~44~43~42~41~?~39~38~37~?~?~?~?~?~?~?~?~?~? |\n",
       "|           336 | 2000-03-15 |            63~62~61~60~59~58~57~56~55~54~53~52~51~50~49~48~47~46~45~44~43~42~41~?~39~38~37~?~?~?~?~?~?~?~?~? |\n",
       "|           336 | 2000-04-15 |           64~63~62~61~60~59~58~57~56~55~54~53~52~51~50~49~48~47~46~45~44~43~42~41~?~39~38~37~?~?~?~?~?~?~?~? |\n",
       "|           336 | 2000-05-15 |          65~64~63~62~61~60~59~58~57~56~55~54~53~52~51~50~49~48~47~46~45~44~43~42~41~?~39~38~37~?~?~?~?~?~?~? |\n",
       "|           336 | 2000-06-15 |         66~65~64~63~62~61~60~59~58~57~56~55~54~53~52~51~50~49~48~47~46~45~44~43~42~41~?~39~38~37~?~?~?~?~?~? |\n",
       "|           336 | 2000-07-15 |        67~66~65~64~63~62~61~60~59~58~57~56~55~54~53~52~51~50~49~48~47~46~45~44~43~42~41~?~39~38~37~?~?~?~?~? |\n",
       "|           336 | 2000-08-15 |       68~67~66~65~64~63~62~61~60~59~58~57~56~55~54~53~52~51~50~49~48~47~46~45~44~43~42~41~?~39~38~37~?~?~?~? |\n",
       "|           336 | 2000-09-15 |      69~68~67~66~65~64~63~62~61~60~59~58~57~56~55~54~53~52~51~50~49~48~47~46~45~44~43~42~41~?~39~38~37~?~?~? |\n",
       "|           336 | 2000-10-15 |     70~69~68~67~66~65~64~63~62~61~60~59~58~57~56~55~54~53~52~51~50~49~48~47~46~45~44~43~42~41~?~39~38~37~?~? |\n",
       "|           336 | 2000-11-15 |    71~70~69~68~67~66~65~64~63~62~61~60~59~58~57~56~55~54~53~52~51~50~49~48~47~46~45~44~43~42~41~?~39~38~37~? |\n",
       "|           336 | 2000-12-15 |   72~71~70~69~68~67~66~65~64~63~62~61~60~59~58~57~56~55~54~53~52~51~50~49~48~47~46~45~44~43~42~41~?~39~38~37 |\n",
       "|           336 | 2001-01-15 |   73~72~71~70~69~68~67~66~65~64~63~62~61~60~59~58~57~56~55~54~53~52~51~50~49~48~47~46~45~44~43~42~41~?~39~38 |\n",
       "|           336 | 2001-02-15 |   74~73~72~71~70~69~68~67~66~65~64~63~62~61~60~59~58~57~56~55~54~53~52~51~50~49~48~47~46~45~44~43~42~41~?~39 |\n",
       "|           336 | 2001-03-15 |   75~74~73~72~71~70~69~68~67~66~65~64~63~62~61~60~59~58~57~56~55~54~53~52~51~50~49~48~47~46~45~44~43~42~41~? |\n",
       "|           336 | 2001-04-15 |  76~75~74~73~72~71~70~69~68~67~66~65~64~63~62~61~60~59~58~57~56~55~54~53~52~51~50~49~48~47~46~45~44~43~42~41 |\n",
       "|           336 | 2001-05-15 |  77~76~75~74~73~72~71~70~69~68~67~66~65~64~63~62~61~60~59~58~57~56~55~54~53~52~51~50~49~48~47~46~45~44~43~42 |\n",
       "|           336 | 2001-06-15 |  78~77~76~75~74~73~72~71~70~69~68~67~66~65~64~63~62~61~60~59~58~57~56~55~54~53~52~51~50~49~48~47~46~45~44~43 |\n",
       "|           336 | 2001-07-15 |  79~78~77~76~75~74~73~72~71~70~69~68~67~66~65~64~63~62~61~60~59~58~57~56~55~54~53~52~51~50~49~48~47~46~45~44 |\n",
       "|           336 | 2001-08-15 |  80~79~78~77~76~75~74~73~72~71~70~69~68~67~66~65~64~63~62~61~60~59~58~57~56~55~54~53~52~51~50~49~48~47~46~45 |\n",
       "|           336 | 2001-09-15 |  81~80~79~78~77~76~75~74~73~72~71~70~69~68~67~66~65~64~63~62~61~60~59~58~57~56~55~54~53~52~51~50~49~48~47~46 |\n",
       "|           336 | 2001-10-15 |  82~81~80~79~78~77~76~75~74~73~72~71~70~69~68~67~66~65~64~63~62~61~60~59~58~57~56~55~54~53~52~51~50~49~48~47 |\n",
       "|           336 | 2001-11-15 |  83~82~81~80~79~78~77~76~75~74~73~72~71~70~69~68~67~66~65~64~63~62~61~60~59~58~57~56~55~54~53~52~51~50~49~48 |\n",
       "|           336 | 2001-12-15 |  84~83~82~81~80~79~78~77~76~75~74~73~72~71~70~69~68~67~66~65~64~63~62~61~60~59~58~57~56~55~54~53~52~51~50~49 |\n",
       "|           336 | 2002-01-15 |  85~84~83~82~81~80~79~78~77~76~75~74~73~72~71~70~69~68~67~66~65~64~63~62~61~60~59~58~57~56~55~54~53~52~51~50 |\n",
       "|           336 | 2002-02-15 |  86~85~84~83~82~81~80~79~78~77~76~75~74~73~72~71~70~69~68~67~66~65~64~63~62~61~60~59~58~57~56~55~54~53~52~51 |\n",
       "|           336 | 2002-03-15 |  87~86~85~84~83~82~81~80~79~78~77~76~75~74~73~72~71~70~69~68~67~66~65~64~63~62~61~60~59~58~57~56~55~54~53~52 |\n",
       "|           336 | 2002-04-15 |  88~87~86~85~84~83~82~81~80~79~78~77~76~75~74~73~72~71~70~69~68~67~66~65~64~63~62~61~60~59~58~57~56~55~54~53 |\n",
       "|           336 | 2002-05-15 |  89~88~87~86~85~84~83~82~81~80~79~78~77~76~75~74~73~72~71~70~69~68~67~66~65~64~63~62~61~60~59~58~57~56~55~54 |\n",
       "|           336 | 2002-06-15 |  90~89~88~87~86~85~84~83~82~81~80~79~78~77~76~75~74~73~72~71~70~69~68~67~66~65~64~63~62~61~60~59~58~57~56~55 |\n",
       "|           336 | 2002-07-15 |  91~90~89~88~87~86~85~84~83~82~81~80~79~78~77~76~75~74~73~72~71~70~69~68~67~66~65~64~63~62~61~60~59~58~57~56 |\n",
       "|           336 | 2002-08-15 |  92~91~90~89~88~87~86~85~84~83~82~81~80~79~78~77~76~75~74~73~72~71~70~69~68~67~66~65~64~63~62~61~60~59~58~57 |\n",
       "|           336 | 2002-09-15 |  93~92~91~90~89~88~87~86~85~84~83~82~81~80~79~78~77~76~75~74~73~72~71~70~69~68~67~66~65~64~63~62~61~60~59~58 |\n",
       "|           336 | 2002-10-15 |  94~93~92~91~90~89~88~87~86~85~84~83~82~81~80~79~78~77~76~75~74~73~72~71~70~69~68~67~66~65~64~63~62~61~60~59 |\n",
       "|           336 | 2002-11-15 |  95~94~93~92~91~90~89~88~87~86~85~84~83~82~81~80~79~78~77~76~75~74~73~72~71~70~69~68~67~66~65~64~63~62~61~60 |\n",
       "|           336 | 2002-12-15 |  96~95~94~93~92~91~90~89~88~87~86~85~84~83~82~81~80~79~78~77~76~75~74~73~72~71~70~69~68~67~66~65~64~63~62~61 |\n",
       "|           336 | 2003-01-15 |  97~96~95~94~93~92~91~90~89~88~87~86~85~84~83~82~81~80~79~78~77~76~75~74~73~72~71~70~69~68~67~66~65~64~63~62 |\n",
       "|           336 | 2003-02-15 |  98~97~96~95~94~93~92~91~90~89~88~87~86~85~84~83~82~81~80~79~78~77~76~75~74~73~72~71~70~69~68~67~66~65~64~63 |\n",
       "|           336 | 2003-03-15 |  99~98~97~96~95~94~93~92~91~90~89~88~87~86~85~84~83~82~81~80~79~78~77~76~75~74~73~72~71~70~69~68~67~66~65~64 |\n",
       "|           336 | 2003-04-15 | 100~99~98~97~96~95~94~93~92~91~90~89~88~87~86~85~84~83~82~81~80~79~78~77~76~75~74~73~72~71~70~69~68~67~66~65 |\n",
       "|           336 | 2003-05-15 |  1~100~99~98~97~96~95~94~93~92~91~90~89~88~87~86~85~84~83~82~81~80~79~78~77~76~75~74~73~72~71~70~69~68~67~66 |\n",
       "|           336 | 2003-06-15 |   2~1~100~99~98~97~96~95~94~93~92~91~90~89~88~87~86~85~84~83~82~81~80~79~78~77~76~75~74~73~72~71~70~69~68~67 |\n",
       "|           336 | 2003-07-15 |    3~2~1~100~99~98~97~96~95~94~93~92~91~90~89~88~87~86~85~84~83~82~81~80~79~78~77~76~75~74~73~72~71~70~69~68 |\n",
       "|           336 | 2003-08-15 |     4~3~2~1~100~99~98~97~96~95~94~93~92~91~90~89~88~87~86~85~84~83~82~81~80~79~78~77~76~75~74~73~72~71~70~69 |\n",
       "|           336 | 2003-09-15 |      5~4~3~2~1~100~99~98~97~96~95~94~93~92~91~90~89~88~87~86~85~84~83~82~81~80~79~78~77~76~75~74~73~72~71~70 |\n",
       "|           336 | 2003-10-15 |       6~5~4~3~2~1~100~99~98~97~96~95~94~93~92~91~90~89~88~87~86~85~84~83~82~81~80~79~78~77~76~75~74~73~72~71 |\n",
       "|           336 | 2003-11-15 |        7~6~5~4~3~2~1~100~99~98~97~96~95~94~93~92~91~90~89~88~87~86~85~84~83~82~81~80~79~78~77~76~75~74~73~72 |\n",
       "|           336 | 2003-12-15 |         8~7~6~5~4~3~2~1~100~99~98~97~96~95~94~93~92~91~90~89~88~87~86~85~84~83~82~81~80~79~78~77~76~75~74~73 |\n",
       "|           336 | 2004-01-15 |          9~8~7~6~5~4~3~2~1~100~99~98~97~96~95~94~93~92~91~90~89~88~87~86~85~84~83~82~81~80~79~78~77~76~75~74 |\n",
       "|           336 | 2004-02-15 |          10~9~8~7~6~5~4~3~2~1~100~99~98~97~96~95~94~93~92~91~90~89~88~87~86~85~84~83~82~81~80~79~78~77~76~75 |\n",
       "|           336 | 2004-03-15 |          11~10~9~8~7~6~5~4~3~2~1~100~99~98~97~96~95~94~93~92~91~90~89~88~87~86~85~84~83~82~81~80~79~78~77~76 |\n",
       "|           336 | 2004-04-15 |          12~11~10~9~8~7~6~5~4~3~2~1~100~99~98~97~96~95~94~93~92~91~90~89~88~87~86~85~84~83~82~81~80~79~78~77 |\n",
       "|           336 | 2004-05-15 |          13~12~11~10~9~8~7~6~5~4~3~2~1~100~99~98~97~96~95~94~93~92~91~90~89~88~87~86~85~84~83~82~81~80~79~78 |\n",
       "|           336 | 2004-06-15 |          14~13~12~11~10~9~8~7~6~5~4~3~2~1~100~99~98~97~96~95~94~93~92~91~90~89~88~87~86~85~84~83~82~81~80~79 |\n",
       "|           336 | 2004-07-15 |          15~14~13~12~11~10~9~8~7~6~5~4~3~2~1~100~99~98~97~96~95~94~93~92~91~90~89~88~87~86~85~84~83~82~81~80 |\n",
       "|           336 | 2004-08-15 |          16~15~14~13~12~11~10~9~8~7~6~5~4~3~2~1~100~99~98~97~96~95~94~93~92~91~90~89~88~87~86~85~84~83~82~81 |\n",
       "|           336 | 2004-09-15 |          17~16~15~14~13~12~11~10~9~8~7~6~5~4~3~2~1~100~99~98~97~96~95~94~93~92~91~90~89~88~87~86~85~84~83~82 |\n",
       "|           336 | 2004-10-15 |          18~17~16~15~14~13~12~11~10~9~8~7~6~5~4~3~2~1~100~99~98~97~96~95~94~93~92~91~90~89~88~87~86~85~84~83 |\n",
       "|           336 | 2004-11-15 |          19~18~17~16~15~14~13~12~11~10~9~8~7~6~5~4~3~2~1~100~99~98~97~96~95~94~93~92~91~90~89~88~87~86~85~84 |\n",
       "|           336 | 2004-12-15 |          20~19~18~17~16~15~14~13~12~11~10~9~8~7~6~5~4~3~2~1~100~99~98~97~96~95~94~93~92~91~90~89~88~87~86~85 |\n",
       "|           336 | 2005-01-15 |          21~20~19~18~17~16~15~14~13~12~11~10~9~8~7~6~5~4~3~2~1~100~99~98~97~96~95~94~93~92~91~90~89~88~87~86 |\n",
       "|           336 | 2005-02-15 |          22~21~20~19~18~17~16~15~14~13~12~11~10~9~8~7~6~5~4~3~2~1~100~99~98~97~96~95~94~93~92~91~90~89~88~87 |\n",
       "|           336 | 2005-03-15 |          23~22~21~20~19~18~17~16~15~14~13~12~11~10~9~8~7~6~5~4~3~2~1~100~99~98~97~96~95~94~93~92~91~90~89~88 |\n",
       "|           336 | 2005-04-15 |          24~23~22~21~20~19~18~17~16~15~14~13~12~11~10~9~8~7~6~5~4~3~2~1~100~99~98~97~96~95~94~93~92~91~90~89 |\n",
       "|           336 | 2005-05-15 |          25~24~23~22~21~20~19~18~17~16~15~14~13~12~11~10~9~8~7~6~5~4~3~2~1~100~99~98~97~96~95~94~93~92~91~90 |\n",
       "|           336 | 2005-06-15 |          26~25~24~23~22~21~20~19~18~17~16~15~14~13~12~11~10~9~8~7~6~5~4~3~2~1~100~99~98~97~96~95~94~93~92~91 |\n",
       "|           336 | 2005-07-15 |          27~26~25~24~23~22~21~20~19~18~17~16~15~14~13~12~11~10~9~8~7~6~5~4~3~2~1~100~99~98~97~96~95~94~93~92 |\n",
       "|           336 | 2005-08-15 |          28~27~26~25~24~23~22~21~20~19~18~17~16~15~14~13~12~11~10~9~8~7~6~5~4~3~2~1~100~99~98~97~96~95~94~93 |\n",
       "|           336 | 2005-09-15 |          29~28~27~26~25~24~23~22~21~20~19~18~17~16~15~14~13~12~11~10~9~8~7~6~5~4~3~2~1~100~99~98~97~96~95~94 |\n",
       "|           336 | 2005-10-15 |          30~29~28~27~26~25~24~23~22~21~20~19~18~17~16~15~14~13~12~11~10~9~8~7~6~5~4~3~2~1~100~99~98~97~96~95 |\n",
       "|           336 | 2005-11-15 |          31~30~29~28~27~26~25~24~23~22~21~20~19~18~17~16~15~14~13~12~11~10~9~8~7~6~5~4~3~2~1~100~99~98~97~96 |\n",
       "|           336 | 2005-12-15 |          32~31~30~29~28~27~26~25~24~23~22~21~20~19~18~17~16~15~14~13~12~11~10~9~8~7~6~5~4~3~2~1~100~99~98~97 |\n",
       "|           336 | 2006-01-15 |          33~32~31~30~29~28~27~26~25~24~23~22~21~20~19~18~17~16~15~14~13~12~11~10~9~8~7~6~5~4~3~2~1~100~99~98 |\n",
       "|           336 | 2006-02-15 |          34~33~32~31~30~29~28~27~26~25~24~23~22~21~20~19~18~17~16~15~14~13~12~11~10~9~8~7~6~5~4~3~2~1~100~99 |\n",
       "|           336 | 2006-03-15 |          35~34~33~32~31~30~29~28~27~26~25~24~23~22~21~20~19~18~17~16~15~14~13~12~11~10~9~8~7~6~5~4~3~2~1~100 |\n",
       "|           336 | 2006-04-15 |           36~35~34~33~32~31~30~29~28~27~26~25~24~23~22~21~20~19~18~17~16~15~14~13~12~11~10~9~8~7~6~5~4~3~2~1 |\n",
       "|           336 | 2006-05-15 |          37~36~35~34~33~32~31~30~29~28~27~26~25~24~23~22~21~20~19~18~17~16~15~14~13~12~11~10~9~8~7~6~5~4~3~2 |\n",
       "+---------------+------------+--------------------------------------------------------------------------------------------------------------+"
      ]
     },
     "execution_count": 237,
     "metadata": {},
     "output_type": "execute_result"
    }
   ],
   "source": [
    "%%sql\n",
    "with data as (\n",
    "select cons_acct_key,acct_dt,dpd_grid from ascenddb2.dpd_summary where cons_acct_key in (336,337)\n",
    "union all\n",
    "select * from ascenddb2.latest_dpd_summary where cons_acct_key in (336,337))\n",
    "select * from data order by cons_acct_key,acct_dt"
   ]
  }
 ],
 "metadata": {
  "kernelspec": {
   "display_name": "Python 3 (ipykernel)",
   "language": "python",
   "name": "python3"
  },
  "language_info": {
   "codemirror_mode": {
    "name": "ipython",
    "version": 3
   },
   "file_extension": ".py",
   "mimetype": "text/x-python",
   "name": "python",
   "nbconvert_exporter": "python",
   "pygments_lexer": "ipython3",
   "version": "3.9.18"
  }
 },
 "nbformat": 4,
 "nbformat_minor": 5
}
