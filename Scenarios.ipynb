{
 "cells": [
  {
   "cell_type": "markdown",
   "id": "8a691e88-0292-41a9-92b1-7a30d1dc6349",
   "metadata": {},
   "source": [
    "## Scenarios in Incremental Processing"
   ]
  },
  {
   "cell_type": "markdown",
   "id": "e983ee64-8b1e-4454-bab7-d3df152f3d6f",
   "metadata": {},
   "source": [
    "### Considerations"
   ]
  },
  {
   "cell_type": "markdown",
   "id": "15b81513-6ab8-4446-9c9c-1cf02fbc9101",
   "metadata": {},
   "source": [
    "There is only one DPD per month for each CONS_ACCT_KEY, in case of data possessing duplicate CONS_ACCT_KEY in a month the same has to be handled by the Summary Creation Script"
   ]
  },
  {
   "cell_type": "markdown",
   "id": "945c3668-4a8f-403e-bc48-02350399c50e",
   "metadata": {},
   "source": [
    "### Case I:\n",
    "Intial DPD GRID generation when there are no records in DPD Summary\n",
    "Eg. \n",
    "Consider the below case where **CONS_ACCT_KEY = 336** has records starting from 1998-01 then the DPD_GRID for __1998-01__ should possess\n",
    "*DPD~?.. (36 entities)*\n"
   ]
  },
  {
   "attachments": {
    "7d1713c5-2bf4-41df-9c15-376c2ff90306.png": {
     "image/png": "[encoded data removed]"
    }
   },
   "cell_type": "markdown",
   "id": "23a55c90-385d-49bc-906d-a7070eac973a",
   "metadata": {},
   "source": [
    "![image.png](attachment:7d1713c5-2bf4-41df-9c15-376c2ff90306.png)"
   ]
  },
  {
   "cell_type": "markdown",
   "id": "d14d89a4-c0b6-4169-888a-7022e10ae2c2",
   "metadata": {},
   "source": [
    "### Case II:\n",
    "The DPD data for specific **CONST_ACCT_KEY = 337** starts from **1998-02**, contradictory to **336** which starts from **1998-01**\n",
    "which means that DPD_Summary table already posesses records for **1998-01**, So when the data for **1998-02** is processed it should have DPD_GRID like \n",
    "*DPD~?..(36 entities)*"
   ]
  },
  {
   "attachments": {
    "e650ae46-c105-472f-b27c-4e9fed0e7758.png": {
     "image/png": "[encoded data removed]"
    }
   },
   "cell_type": "markdown",
   "id": "cd355f58-f044-437e-8854-3b8343f870a5",
   "metadata": {},
   "source": [
    "![image.png](attachment:e650ae46-c105-472f-b27c-4e9fed0e7758.png)"
   ]
  },
  {
   "cell_type": "markdown",
   "id": "7fd0a8db-6a3c-4419-a1b4-1822ff21307c",
   "metadata": {},
   "source": [
    "### Case III Prompt\n",
    "\n",
    "I am trying to process some data from iceberg tables\n",
    "i have a table dpd_data which holds the following data\n",
    "\n",
    "CONS_ACCT_KEY,ACCT_DT,DPD\n",
    "112,1998-01-15,3\n",
    "112,1998-02-15,5\n",
    "\n",
    "now I am generating a DPD_GRID (last 36 months data) inside a dpd_summary table\n",
    "\n",
    "CONS_ACCT_KEY,ACCT_DT,DPD,DPD_GRID\n",
    "112,1998-01-15,3,3~?~?~?~?..\n",
    "112,1998-02-15,5~3~?~?~?~?..\n",
    "\n",
    "if some month data is missing it should be filled with ?\n",
    "\n",
    "Now the following are the considerations for the execution\n",
    "\n",
    "Considerations\n",
    "There is only one DPD per month for each CONS_ACCT_KEY\n",
    "\n",
    "Scenarios to be followed\n",
    "Case I:\n",
    "Intial DPD GRID generation when there are no records in DPD Summary Eg. Consider the below case where CONS_ACCT_KEY = 336 has records starting from 1998-01 then the DPD_GRID for 1998-01 should possess DPD~?.. (36 entities)\n",
    "\n",
    "Case II:\n",
    "The DPD data for specific CONST_ACCT_KEY = 337 starts from 1998-02, contradictory to 336 which starts from 1998-01 which means that DPD_Summary table already posesses records for 1998-01, So when the data for 1998-02 is processed it should have DPD_GRID like DPD~?..(36 entities)\n",
    "\n",
    "The above 2 cases are successfully achieved using the below code\n",
    "\n",
    "%%time\n",
    "# Define month range\n",
    "start_month = datetime.date(1998, 5, 1)\n",
    "end_month = datetime.date(1998, 5, 1)  # Adjust end date as needed\n",
    "month = start_month\n",
    "result_table = \"ascenddb2.dpd_summary\"\n",
    "while month <= end_month:\n",
    "    next_month = (month.replace(day=28) + datetime.timedelta(days=4)).replace(day=1)\n",
    "    # print(f\"Next Month: {next_month}\")\n",
    "    prev_month = (month.replace(day=1) - datetime.timedelta(days=1)).replace(day=1)\n",
    "    # print(f\"Previous Month: {prev_month}\")\n",
    "\n",
    "    print(f\"Processing month: {month} ...\")\n",
    "\n",
    "    # Load current month data\n",
    "    current_df = spark.sql(f\"\"\"\n",
    "        SELECT CONS_ACCT_KEY, ACCT_DT, DPD\n",
    "        FROM ascenddb2.dpd_data\n",
    "        WHERE \n",
    "        CONS_ACCT_KEY in (336,337)  AND \n",
    "        ACCT_DT >= DATE '{month}' AND ACCT_DT < DATE '{next_month}'\n",
    "    \"\"\")\n",
    "\n",
    "    # Load last month DPD strings\n",
    "    try:\n",
    "        prev_df = spark.sql(f\"\"\"\n",
    "                            SELECT CONS_ACCT_KEY, ACCT_DT, DPD, DPD_GRID\n",
    "                            FROM {result_table}\n",
    "                            WHERE \n",
    "                            CONS_ACCT_KEY in (336,337)  AND \n",
    "                            ACCT_DT >= DATE '{prev_month}' AND ACCT_DT < DATE '{month}'\n",
    "                        \"\"\")\n",
    "    except:\n",
    "        prev_df = None  # First month case\n",
    "    if prev_df:\n",
    "        # Join with previous DPD string\n",
    "        merged_df = current_df.join(\n",
    "            prev_df.select(\"CONS_ACCT_KEY\", \"DPD_GRID\"),\n",
    "            on=\"CONS_ACCT_KEY\",\n",
    "            how=\"left\"\n",
    "        )\n",
    "\n",
    "        # Merge strings: Append current DPD to previous string\n",
    "        merged_df = merged_df.withColumn(\n",
    "            \"Merged_DPD_Array\",\n",
    "            F.concat(\n",
    "                F.array(F.col(\"DPD\")),\n",
    "                F.when(F.col(\"DPD_GRID\").isNotNull(), F.split(F.col(\"DPD_GRID\"), \"~\"))\n",
    "                 .otherwise(F.array())\n",
    "            )\n",
    "        )\n",
    "    else:\n",
    "        # First month case: No previous data\n",
    "        merged_df = current_df.withColumn(\"Merged_DPD_Array\", F.array(F.col(\"DPD\")))\n",
    "    # merged_df.show(truncate=False)\n",
    "    # Pad with \"?\" & Keep last 36 months\n",
    "    max_months = 36\n",
    "    merged_df = merged_df.withColumn(\n",
    "        \"DPD_Array_Trimmed\",\n",
    "        F.when(\n",
    "            F.size(\"Merged_DPD_Array\") >= max_months,\n",
    "            F.slice(\"Merged_DPD_Array\", 1, max_months)\n",
    "        ).otherwise(\n",
    "            F.concat(\n",
    "                F.col(\"Merged_DPD_Array\"),F.array([F.lit(\"?\") for * in range(max*months - 1)])\n",
    "            )\n",
    "        )\n",
    "    ).withColumn(\n",
    "        \"DPD_GRID\",\n",
    "        F.concat_ws(\"~\", \"DPD_Array_Trimmed\")\n",
    "    )\n",
    "    # merged_df.show(truncate=False)\n",
    "\n",
    "    # Select final columns\n",
    "    final_df = merged_df.select(\"CONS_ACCT_KEY\", \"ACCT_DT\", \"DPD\", \"DPD_GRID\")\n",
    "\n",
    "    # Save for next iteration & final output\n",
    "    # final_df.write.mode(\"overwrite\").saveAsTable(result_table)\n",
    "    final_df.show(truncate=False)\n",
    "    # final_df.write\\\n",
    "    #     .format(\"iceberg\")\\\n",
    "    #     .mode(\"append\")\\\n",
    "    #     .saveAsTable(\"ascenddb2.dpd_summary\")\n",
    "\n",
    "    # Next month\n",
    "    month = next_month\n",
    "final_df.explain()\n",
    "print(\"✅ Completed incremental DPD string generation!\")\n",
    "\n",
    "However the following scenario is not successfully followed by the code\n",
    "\n",
    "Case 3\n",
    "We will be processing the data month by month,\n",
    "so if the data exists for all months there will be no issues\n",
    "but when there are records missing in between months\n",
    "Eg. Lets say that CONS_ACCT_KEY = 336 exists for 1998-01,1998-02,1998-03,1998-05\n",
    "Now Since we are processing the data month by month there will be no data loss till 1998-03\n",
    "But once we process the data for 1998-05, as there is no previous month data it will be considered as a record from Case I and fill all **the rest of 35 months as ?**\n",
    "\n",
    "Instead the data should be \n",
    "CONS_ACCT_KEY,ACCT_DT,DPD,DPD_GRID\n",
    "336,1998-01-15,3,3~?~?~?~?~?~?~?~?~?~?~?~?....\n",
    "336,1998-02-15,6,6~3~?~?~?~?~?~?~?~?~?~?~?~?....                                           \n",
    "336,1998-03-15,4,4~6~3~?~?~?~?~?~?~?~?~?~?~?~?....  \n",
    "336,1998-05-15,5,5~?~4~6~3~?~?~?~?~?~?~?~?~?~?~?~?....                             "
   ]
  },
  {
   "cell_type": "code",
   "execution_count": null,
   "id": "f972ecb9-9d76-4b00-a3ab-89a3edc9a228",
   "metadata": {},
   "outputs": [],
   "source": [
    "    # if prev_df:\n",
    "    #     # Join with previous DPD string\n",
    "    #     merged_df = current_df.join(\n",
    "    #         prev_df.select(\"CONS_ACCT_KEY\", \"DPD_GRID\"),\n",
    "    #         on=\"CONS_ACCT_KEY\",\n",
    "    #         how=\"left\"\n",
    "    #     )\n",
    "        \n",
    "    #     # Merge strings: Append current DPD to previous string\n",
    "    #     merged_df = merged_df.withColumn(\n",
    "    #         \"Merged_DPD_Array\",\n",
    "    #         F.concat(\n",
    "    #             F.array(F.col(\"DPD\")),\n",
    "    #             F.when(F.col(\"DPD_GRID\").isNotNull(), F.split(F.col(\"DPD_GRID\"), \"~\"))\n",
    "    #              .otherwise(F.array())\n",
    "    #         )\n",
    "    #     )\n",
    "    # else:\n",
    "    #     # First month case: No previous data\n",
    "    #     merged_df = current_df.withColumn(\"Merged_DPD_Array\", F.array(F.col(\"DPD\")))"
   ]
  },
  {
   "cell_type": "code",
   "execution_count": null,
   "id": "90a96e30-628b-4ea9-a6d1-d5472d27f331",
   "metadata": {},
   "outputs": [],
   "source": [
    "[29, 28, 27, 26, 25, ?, ?, ?, ?, ?, ?, ?, ?, ?, ?, ?, ?, ?, ?, ?, ?, ?, ?, ?, ?, ?, ?, ?, ?, ?, ?, ?, ?, ?, ?, ?, ?]\n",
    "[29, 28, 27, 26, 25, ?, ?, ?, ?, ?, ?, ?, ?, ?, ?, ?, ?, ?, ?, ?, ?, ?, ?, ?, ?, ?, ?, ?, ?, ?, ?, ?, ?, ?, ?, ?]"
   ]
  }
 ],
 "metadata": {
  "kernelspec": {
   "display_name": "Python 3 (ipykernel)",
   "language": "python",
   "name": "python3"
  },
  "language_info": {
   "codemirror_mode": {
    "name": "ipython",
    "version": 3
   },
   "file_extension": ".py",
   "mimetype": "text/x-python",
   "name": "python",
   "nbconvert_exporter": "python",
   "pygments_lexer": "ipython3",
   "version": "3.9.18"
  }
 },
 "nbformat": 4,
 "nbformat_minor": 5
}
